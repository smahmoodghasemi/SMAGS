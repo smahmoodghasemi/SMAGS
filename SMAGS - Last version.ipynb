{
 "cells": [
  {
   "cell_type": "markdown",
   "id": "755f0d1e-902a-4cf7-96df-3d3f007b01e3",
   "metadata": {},
   "source": [
    "# Packages"
   ]
  },
  {
   "cell_type": "code",
   "execution_count": 1,
   "id": "1ab3580f",
   "metadata": {},
   "outputs": [],
   "source": [
    "import time  # For timing operations\n",
    "import warnings  # To manage warning messages\n",
    "import numpy as np  # For numerical operations\n",
    "import pandas as pd  # For data manipulation and analysis\n",
    "from time import time  # For measuring time\n",
    "import matplotlib.pyplot as plt  # For data visualization\n",
    "from scipy import stats\n",
    "from scipy.optimize import minimize  # For optimization tasks\n",
    "from joblib import Parallel, delayed  # For parallel processing\n",
    "from sklearn.linear_model import LogisticRegression, Lasso  # For logistic regression and Lasso regression\n",
    "from sklearn.metrics import (  auc, roc_curve, roc_auc_score, log_loss, confusion_matrix) # For performance metrics\n",
    "from sklearn.model_selection import train_test_split, KFold  # For splitting datasets and cross-validation\n",
    "from sklearn.preprocessing import StandardScaler  # For feature scaling\n",
    "from sklearn.svm import SVR  # For Support Vector Regression\n",
    "from sklearn.ensemble import RandomForestRegressor  # For Random Forest regression\n",
    "from sklearn.utils.class_weight import compute_class_weight  # For handling class imbalance\n",
    "import seaborn as sns  # For advanced data visualization\n",
    "\n",
    "# Ignore DeprecationWarnings\n",
    "warnings.filterwarnings(\"ignore\", category=DeprecationWarning)\n",
    "\n",
    "# Set a random state for reproducibility in logistic regression fitting\n",
    "randomstate = 1\n"
   ]
  },
  {
   "cell_type": "code",
   "execution_count": 2,
   "id": "c80f882f",
   "metadata": {},
   "outputs": [
    {
     "name": "stdout",
     "output_type": "stream",
     "text": [
      "\n",
      "Note: you may need to restart the kernel to use updated packages.\n"
     ]
    }
   ],
   "source": [
    "conda env export > SMAGS.yml"
   ]
  },
  {
   "cell_type": "markdown",
   "id": "f4d02854",
   "metadata": {},
   "source": [
    "# Sensitivity Maximization At Given Specificity (SMAGS)"
   ]
  },
  {
   "cell_type": "markdown",
   "id": "5b8d77ea",
   "metadata": {},
   "source": [
    "All the graphs in the paper were plotted by setting the random state in logistic regression equal to 1. For any other random state, you might have slightly different graphs."
   ]
  },
  {
   "cell_type": "code",
   "execution_count": 3,
   "id": "20b7481d",
   "metadata": {},
   "outputs": [],
   "source": [
    "'''\n",
    "Sensitivity Maximization At Given Specificity (SMAGS):\n",
    "\n",
    "Choosing features that have the highest sensitivity for pre-specified specificity.\n",
    "\n",
    "Input:\n",
    "- X: Features as a Pandas DataFrame.\n",
    "- y: Labels as a Pandas Series of classes (0 and 1).\n",
    "- SP: Threshold value for specificity (default is 0.985).\n",
    "- lower_bound: Optional boundaries for the coefficients (should be of dimension X.shape[1] + 1).\n",
    "\n",
    "Output:\n",
    "A Series with coefficients of the logistic regression that maximizes sensitivity,\n",
    "including intercept, threshold, specificity, sensitivity, optimization method, tolerance, jacobian approach, and AIC.\n",
    "'''\n",
    "\n",
    "def SMAGS(X, y, SP=0.985, lower_bound=None, rand=randomstate):\n",
    "    n_features = X.shape[1]\n",
    "    log = LogisticRegression(random_state=rand).fit(X, y)  # Fit logistic regression model\n",
    "    all_coefs = np.append(log.coef_[0], log.intercept_)  # Get coefficients and intercept\n",
    "    X1 = X.assign(I=1)  # Add intercept term to feature set\n",
    "\n",
    "    def sig(M):\n",
    "        # Sigmoid function\n",
    "        return 1 / (1 + np.exp(-M))\n",
    "\n",
    "    def custom_loss(coefs):\n",
    "        # Custom loss function to maximize sensitivity\n",
    "        m = np.matmul(X1, coefs)\n",
    "        z = sig(m.astype(float))\n",
    "        if len(((1 - y) * z)[(1 - y) * z != 0]) != 0:\n",
    "            threshold = np.quantile(((1 - y) * z)[(1 - y) * z != 0], SP)\n",
    "        else:\n",
    "            threshold = 0\n",
    "        y_hat = 1 * (z > threshold)  # Predicted labels based on threshold\n",
    "        loss1 = np.dot(y_hat, y) / sum(y)  # Sensitivity\n",
    "        return -loss1  # Return negative sensitivity for minimization\n",
    "\n",
    "    # Set bounds for coefficients\n",
    "    bnds = [(lower_bound, None) for _ in range(n_features)]\n",
    "    bnds.append((None, None))  # Intercept bound\n",
    "\n",
    "    # Define optimization methods, tolerances, and jacobian approaches\n",
    "    opt_methods = ['Nelder-Mead', 'Powell', 'CG', 'BFGS', 'L-BFGS-B', 'TNC', 'COBYLA', 'SLSQP', 'trust-constr']\n",
    "    tolerance = [1, 5e-1, 1e-1, 5e-2, 1e-2, 5e-3, 1e-3, 1e-4, 1e-5, 1e-6]\n",
    "    jacob_approach = ['2-point', '3-point', 'cs']\n",
    "\n",
    "    def process_params(met, tol, jac):\n",
    "        # Process parameters for optimization\n",
    "        result = minimize(fun=custom_loss, x0=np.abs(all_coefs), method=met, tol=tol, bounds=bnds, jac=jac)\n",
    "        a = np.matmul(X1, result.x)  # Predicted values\n",
    "        b = sig(a.astype(float))\n",
    "        \n",
    "        if len(((1 - y) * b)[(1 - y) * b != 0]) != 0:\n",
    "            c = np.quantile(((1 - y) * b)[(1 - y) * b != 0], SP)\n",
    "        else:\n",
    "            c = 0\n",
    "        d = 1 * (b > c)  # Predicted labels based on updated threshold\n",
    "\n",
    "        # Create a Series to hold results\n",
    "        row = pd.Series(index=np.append(np.array(['B' + str(i) for i in range(1, n_features + 1)]),\n",
    "                                         np.array(['B0', 'method', 'tolerance', 'jacobian', 'threshold',\n",
    "                                                   'Specificity', 'Sensitivity', 'AIC'])))\n",
    "        row[0:(n_features + 1)] = result.x  # Coefficients and intercept\n",
    "        row['method'] = met\n",
    "        row['tolerance'] = tol\n",
    "        row['jacobian'] = jac\n",
    "        row['threshold'] = SP\n",
    "        row['Specificity'] = np.dot(1 - d, 1 - y) / sum(1 - y)  # Calculate specificity\n",
    "        row['Sensitivity'] = np.dot(d, y) / sum(y)  # Calculate sensitivity\n",
    "        row['AIC'] = 2 * ((n_features + 1) - log_loss(y, sig(np.matmul(X1, result.x).astype(float))))  # Calculate AIC\n",
    "\n",
    "        return row\n",
    "\n",
    "    # Run the optimization in parallel for different methods, tolerances, and Jacobian approaches\n",
    "    results = Parallel(n_jobs=-1)(delayed(process_params)(met, tol, jac) for met in opt_methods\n",
    "                                   for tol in tolerance for jac in jacob_approach)\n",
    "\n",
    "    max_sn = pd.DataFrame(results)\n",
    "    # Filter for the maximum sensitivity and then minimize AIC\n",
    "    A = max_sn[max_sn.Sensitivity == max_sn.Sensitivity.max()]\n",
    "    return A[A.AIC == A.AIC.min()].iloc[0]  # Return the optimal result\n"
   ]
  },
  {
   "cell_type": "code",
   "execution_count": 4,
   "id": "fdf4454d-db8e-4fc6-9e1b-fde7ec3daba1",
   "metadata": {},
   "outputs": [],
   "source": [
    "'''\n",
    "Sensitivity Maximization At Given Specificity (SMAGS):\n",
    "\n",
    "Choosing features that have the highest sensitivity for pre-specified specificity.\n",
    "\n",
    "Input:\n",
    "- X: Features as a Pandas DataFrame.\n",
    "- y: Labels as a Pandas Series of classes (0 and 1).\n",
    "- SP: Threshold value for specificity (default is 0.985).\n",
    "- lower_bound: Optional boundaries for the coefficients (should be of dimension X.shape[1] + 1).\n",
    "\n",
    "Output:\n",
    "A Series with coefficients of the logistic regression that maximizes sensitivity,\n",
    "including intercept, threshold, specificity, sensitivity, optimization method, tolerance, jacobian approach, and AIC.\n",
    "'''\n",
    "\n",
    "def SMAGS2(X, y, SP=0.985, lower_bound=None, rand=randomstate):\n",
    "    n_features = X.shape[1]\n",
    "    log = LogisticRegression(random_state=rand).fit(X, y)  # Fit logistic regression model\n",
    "    all_coefs = np.append(log.coef_[0], log.intercept_)  # Get coefficients and intercept\n",
    "    X1 = X.assign(I=1)  # Add intercept term to feature set\n",
    "\n",
    "    def sig(M):\n",
    "        # Sigmoid function\n",
    "        return 1 / (1 + np.exp(-M))\n",
    "\n",
    "    def custom_loss(coefs):\n",
    "        # Custom loss function to maximize sensitivity\n",
    "        m = np.matmul(X1, coefs)\n",
    "        z = sig(m.astype(float))\n",
    "        if len(((1 - y) * z)[(1 - y) * z != 0]) != 0:\n",
    "            threshold = np.quantile(((1 - y) * z)[(1 - y) * z != 0], SP)\n",
    "        else:\n",
    "            threshold = 0\n",
    "        y_hat = 1 * (z > threshold)  # Predicted labels based on threshold\n",
    "        loss1 = np.dot(y_hat, y) / sum(y)  # Sensitivity\n",
    "        return -loss1  # Return negative sensitivity for minimization\n",
    "\n",
    "    # Set bounds for coefficients\n",
    "    bnds = [(lower_bound, None) for _ in range(n_features)]\n",
    "    bnds.append((None, None))  # Intercept bound\n",
    "\n",
    "    # Define optimization methods, tolerances, and jacobian approaches\n",
    "    opt_methods = ['Nelder-Mead', 'Powell', 'CG', 'BFGS', 'L-BFGS-B', 'TNC', 'COBYLA', 'SLSQP', 'trust-constr']\n",
    "    tolerance = [1, 5e-1, 1e-1, 5e-2, 1e-2, 5e-3, 1e-3, 1e-4, 1e-5, 1e-6]\n",
    "    jacob_approach = ['2-point', '3-point', 'cs']\n",
    "\n",
    "    def process_params(met, tol, jac):\n",
    "        # Process parameters for optimization\n",
    "        result = minimize(fun=custom_loss, x0=np.abs(all_coefs), method=met, tol=tol, bounds=bnds, jac=jac)\n",
    "        a = np.matmul(X1, result.x)  # Predicted values\n",
    "        b = sig(a.astype(float))\n",
    "        \n",
    "        if len(((1 - y) * b)[(1 - y) * b != 0]) != 0:\n",
    "            c = np.quantile(((1 - y) * b)[(1 - y) * b != 0], SP)\n",
    "        else:\n",
    "            c = 0\n",
    "        d = 1 * (b > c)  # Predicted labels based on updated threshold\n",
    "\n",
    "        # Create a Series to hold results\n",
    "        row = pd.Series(index=np.append(np.array(['B' + str(i) for i in range(1, n_features + 1)]),\n",
    "                                         np.array(['B0', 'method', 'tolerance', 'jacobian', 'threshold',\n",
    "                                                   'Specificity', 'Sensitivity', 'AIC'])))\n",
    "        row[0:(n_features + 1)] = result.x  # Coefficients and intercept\n",
    "        row['method'] = met\n",
    "        row['tolerance'] = tol\n",
    "        row['jacobian'] = jac\n",
    "        row['threshold'] = SP\n",
    "        row['Specificity'] = np.dot(1 - d, 1 - y) / sum(1 - y)  # Calculate specificity\n",
    "        row['Sensitivity'] = np.dot(d, y) / sum(y)  # Calculate sensitivity\n",
    "        row['AIC'] = 2 * ((n_features + 1) - log_loss(y, sig(np.matmul(X1, result.x).astype(float))))  # Calculate AIC\n",
    "\n",
    "        return row\n",
    "\n",
    "    # Run the optimization in parallel for different methods, tolerances, and Jacobian approaches\n",
    "    results = []\n",
    "    for met in opt_methods:\n",
    "        for tol in tolerance:\n",
    "            for jac in jacob_approach:\n",
    "                result = process_params(met, tol, jac)  # Call process_params sequentially\n",
    "                results.append(result)  # Append the result to the lis\n",
    "\n",
    "    max_sn = pd.DataFrame(results)\n",
    "    # Filter for the maximum sensitivity and then minimize AIC\n",
    "    A = max_sn[max_sn.Sensitivity == max_sn.Sensitivity.max()]\n",
    "    return A[A.AIC == A.AIC.min()].iloc[0]  # Return the optimal result\n"
   ]
  },
  {
   "cell_type": "code",
   "execution_count": 5,
   "id": "34a8141c",
   "metadata": {},
   "outputs": [],
   "source": [
    "'''\n",
    "Choosing features that have the highest sensitivity for pre-specified specificity.\n",
    "\n",
    "Input:\n",
    "- X: Pandas DataFrame of features.\n",
    "- y: Pandas Series of classes (class column).\n",
    "- SP: The value for specificity.\n",
    "- lower_bound: Optional boundaries for the coefficients of the feature (should be of dimension X.shape[1] + 1).\n",
    "- num_features_to_keep: The number of features to keep that maximize sensitivity at the given specificity.\n",
    "\n",
    "Output:\n",
    "- List of features (with the length of num_features_to_keep).\n",
    "'''\n",
    "\n",
    "def feature_selection(X, y, SP, lower_bound=None, num_features_to_keep=2):\n",
    "    Features = list(X.columns)  # List of all feature names\n",
    "    One_Top = []  # List to hold selected features\n",
    "    \n",
    "    def sensitivity_score(feature):\n",
    "        # Calculate sensitivity for a given feature\n",
    "        if len(One_Top) == 0:\n",
    "            return SMAGS(X=X.loc[:, [feature]], y=y, SP=SP, lower_bound=lower_bound)['Sensitivity']\n",
    "        else:\n",
    "            return SMAGS(X=X.loc[:, np.append(feature, One_Top)], y=y, SP=SP, lower_bound=lower_bound)['Sensitivity']\n",
    "\n",
    "    while len(One_Top) < num_features_to_keep:\n",
    "        # Calculate sensitivity scores for all features in parallel\n",
    "        results = Parallel(n_jobs=-2)(delayed(sensitivity_score)(feature) for feature in Features)\n",
    "        best_feature = Features[np.argmax(results)]  # Get the feature with the highest sensitivity\n",
    "\n",
    "        Features.remove(best_feature)  # Remove the best feature from consideration\n",
    "        One_Top.append(best_feature)  # Add the best feature to the selected list\n",
    "\n",
    "    return One_Top  # Return the list of selected features\n"
   ]
  },
  {
   "cell_type": "markdown",
   "id": "380993c6",
   "metadata": {},
   "source": [
    "# Synthetic Data 1"
   ]
  },
  {
   "cell_type": "markdown",
   "id": "06b0f143",
   "metadata": {},
   "source": [
    "We are generating a dataset with a minimum of two variables. One variable exhibits very high sensitivity at 98.5% specificity, while the other variable demonstrates very low sensitivity at the same threshold."
   ]
  },
  {
   "cell_type": "code",
   "execution_count": 6,
   "id": "a74d49fe",
   "metadata": {},
   "outputs": [],
   "source": [
    "# Coefficients for feature scaling\n",
    "Coef0 = 1.0\n",
    "Coef1 = 4.5\n",
    "Coef2 = 0.05\n",
    "Coef3 = 0.15\n",
    "Coef4 = 50\n",
    "\n",
    "# Number of samples per class\n",
    "m = 500\n",
    "np.random_state = randomstate  # Set random state for reproducibility\n",
    "\n",
    "# Generate Feature 1 (F1) - Length 2000 values\n",
    "# F1 consists of a mix of values influenced by Coef1 (high variability) and Coef0 (low variability)\n",
    "# Distribution: Uniform (scaled by coefficients)\n",
    "F1 = np.concatenate([\n",
    "    0.001 * np.random.choice(range(1001), m, replace=True) * Coef1,  # Higher values\n",
    "    0.001 * np.random.choice(range(1001), m, replace=True) * Coef0,  # Lower values\n",
    "    0.001 * np.random.choice(range(1001), m, replace=True) * Coef0,  # Lower values\n",
    "    0.001 * np.random.choice(range(1001), m, replace=True) * Coef0   # Lower values\n",
    "])\n",
    "\n",
    "# Generate Feature 2 (F2) - Length 2000 values\n",
    "# F2 has mostly low values influenced by Coef0 and some variation influenced by Coef2\n",
    "# Distribution: Uniform (with skew towards lower values)\n",
    "F2 = np.concatenate([\n",
    "    0.001 * np.random.choice(range(1001), m, replace=True) * Coef0,  # Lower values\n",
    "    0.001 * np.random.choice(range(1001), m, replace=True) * Coef0,  # Lower values\n",
    "    0.001 * np.random.choice(range(1001), m, replace=True) * Coef0,  # Lower values\n",
    "    0.001 * np.random.choice(range(1001), m, replace=True) * Coef2   # Very low values\n",
    "])\n",
    "\n",
    "# Generate Feature 3 (F3) - Length 2000 values\n",
    "# F3 is influenced by Coef1 (high variability) and Coef3 (medium variability)\n",
    "# Distribution: Uniform (with higher range)\n",
    "F3 = np.concatenate([\n",
    "    0.001 * np.random.choice(range(1001), m, replace=True) * Coef1,  # Higher values\n",
    "    0.001 * np.random.choice(range(1001), m, replace=True) * Coef0,  # Lower values\n",
    "    0.001 * np.random.choice(range(1001), m, replace=True) * Coef0,  # Lower values\n",
    "    0.001 * np.random.choice(range(1001), m, replace=True) * Coef3   # Medium values\n",
    "])\n",
    "\n",
    "# Generate Feature 4 (F4) - Length 2000 values\n",
    "# F4 consists of high values influenced by Coef4 and some lower values influenced by Coef2\n",
    "# Distribution: Uniform (with a peak at high values)\n",
    "F4 = np.concatenate([\n",
    "    0.001 * np.random.choice(range(1001), m, replace=True) * Coef4,  # High values\n",
    "    0.001 * np.random.choice(range(1001), m, replace=True) * Coef4,  # High values\n",
    "    0.001 * np.random.choice(range(1001), m, replace=True) * Coef4,  # High values\n",
    "    0.001 * np.random.choice(range(1001), m, replace=True) * (Coef2 / 10)  # Very low values\n",
    "])\n",
    "\n",
    "# Create a DataFrame\n",
    "# The first 1000 values are cases (1), and the next 1000 values are controls (0)\n",
    "DF = pd.DataFrame({\n",
    "    \"is_case\": np.concatenate([np.repeat(1, 2*m), np.repeat(0, 2*m)]),  # Class labels\n",
    "    \"X1\": F1,  # Feature 1\n",
    "    \"X2\": F2,  # Feature 2\n",
    "    \"X3\": F3,  # Feature 3\n",
    "    \"X4\": F4   # Feature 4\n",
    "})\n"
   ]
  },
  {
   "cell_type": "markdown",
   "id": "1eaa7725-cf1a-42bb-869a-c8a6aeda60ed",
   "metadata": {},
   "source": [
    "# Synthetic Data 2"
   ]
  },
  {
   "cell_type": "code",
   "execution_count": 7,
   "id": "631238a9-c50b-4384-bf1b-9653abcc226a",
   "metadata": {},
   "outputs": [],
   "source": [
    "# Define coefficients\n",
    "Coef0 = 1.0\n",
    "Coef1 = 4.5\n",
    "Coef2 = 0.05\n",
    "Coef3 = 0.15\n",
    "Coef4 = 50\n",
    "\n",
    "# Number of samples per class\n",
    "m_case = 200    # Number of cases (10%)\n",
    "m_control = 1800  # Number of controls (90%)\n",
    "\n",
    "# Generate Feature 1 (F1) - Using exponential distribution\n",
    "# F1 has high values for cases and lower values for controls\n",
    "F1 = np.concatenate([\n",
    "    np.random.exponential(1, m_case) * Coef1,  # Cases\n",
    "    np.random.exponential(1, m_control) * Coef0  # Controls\n",
    "])\n",
    "\n",
    "# Generate Feature 2 (F2) - Using gamma distribution\n",
    "# F2 has low values influenced by the gamma distribution\n",
    "F2 = np.concatenate([\n",
    "    np.random.gamma(2, 1, m_case) * Coef0,  # Cases\n",
    "    np.random.gamma(2, 1, m_control) * Coef0  # Controls\n",
    "])\n",
    "\n",
    "# Generate Feature 3 (F3) - Using log-normal distribution\n",
    "# F3 has a skewed distribution with higher variability for cases\n",
    "F3 = np.concatenate([\n",
    "    np.random.lognormal(0, 1, m_case) * Coef1,  # Cases\n",
    "    np.random.lognormal(0, 1, m_control) * Coef0  # Controls\n",
    "])\n",
    "\n",
    "# Generate Feature 4 (F4) - Using a mix of exponential distributions\n",
    "# F4 consists of high values influenced by the exponential distribution\n",
    "F4 = np.concatenate([\n",
    "    np.random.exponential(1, m_case) * Coef4,  # Cases\n",
    "    np.random.exponential(1, m_control) * Coef4  # Controls\n",
    "])\n",
    "\n",
    "# Creating the DataFrame\n",
    "DF_new = pd.DataFrame({\n",
    "    \"is_case\": np.concatenate([np.repeat(1, m_case), np.repeat(0, m_control)]),  # Class labels\n",
    "    \"X1\": F1,  # Feature 1\n",
    "    \"X2\": F2,  # Feature 2\n",
    "    \"X3\": F3,  # Feature 3\n",
    "    \"X4\": F4   # Feature 4\n",
    "})\n",
    "\n",
    "# Display the first few rows of the new DataFrame\n",
    "# print(DF_new.head())\n",
    "\n",
    "# Check the class distribution\n",
    "# print(DF_new['is_case'].value_counts())\n"
   ]
  },
  {
   "cell_type": "code",
   "execution_count": 8,
   "id": "f5f92b7b",
   "metadata": {},
   "outputs": [],
   "source": [
    "Xs=DF[['X1', 'X2','X3', 'X4']]\n",
    "ys=DF['is_case']\n",
    "# Split the data into training and testing sets\n",
    "Xs_train, Xs_test, ys_train, ys_test = train_test_split(\n",
    "    Xs[['X1', 'X2']],  # Select features 'X1' and 'X2' from the DataFrame\n",
    "    ys,                # Target labels (is_case) to be predicted\n",
    "    random_state=randomstate,  # Set random seed for reproducibility\n",
    "    test_size=0.2,    # Use 20% of the data for testing\n",
    "    shuffle=True       # Shuffle the data before splitting to avoid bias\n",
    ")"
   ]
  },
  {
   "cell_type": "markdown",
   "id": "dab0a2ce",
   "metadata": {},
   "source": [
    "# Figure 1-a"
   ]
  },
  {
   "cell_type": "code",
   "execution_count": 9,
   "id": "bab33ba9",
   "metadata": {},
   "outputs": [
    {
     "data": {
      "image/png": "[encoded data removed]",
      "text/plain": [
       "<Figure size 640x480 with 1 Axes>"
      ]
     },
     "metadata": {},
     "output_type": "display_data"
    }
   ],
   "source": [
    "# Fit a logistic regression model on the training data\n",
    "log = LogisticRegression(random_state=randomstate).fit(Xs_train, ys_train)\n",
    "\n",
    "# Predict probabilities on the test set\n",
    "ys_probs1 = log.predict_proba(Xs_train)\n",
    "\n",
    "# Calculate the ROC curve for the logistic regression model\n",
    "fpr_train, tpr_train, _ = roc_curve(ys_train, ys_probs1[:, 1])\n",
    "\n",
    "# Plot the ROC curve for the logistic regression model\n",
    "plt.plot(fpr_train, tpr_train, label='LR - Sensitivity = %0.2f' % tpr_train[np.argmin(1 - fpr_train > 0.985)])\n",
    "\n",
    "# Perform SMAGS feature selection and get the coefficients\n",
    "A = SMAGS(Xs_train, ys_train, 0.985)\n",
    "\n",
    "# Calculate the ROC curve for the SMAGS model\n",
    "fpr_smag, tpr_smag, _ = roc_curve(ys_train, np.matmul(np.array(Xs_train.assign(I=1)), np.array(A[0:3])))\n",
    "\n",
    "# Plot the ROC curve for the SMAGS model\n",
    "plt.plot(fpr_smag, tpr_smag, label='SMAGS - Sensitivity = %0.2f' % tpr_smag[np.argmin(1 - fpr_smag > 0.985)])\n",
    "\n",
    "# Add legend and labels to the plot\n",
    "plt.legend()\n",
    "plt.title(\"Receiver Operating Characteristic (ROC)\")\n",
    "plt.ylabel('True Positive Rate')\n",
    "plt.xlabel('False Positive Rate')\n",
    "\n",
    "# Save the figure as a PNG file\n",
    "plt.savefig('Figure 1-a-October.png')\n",
    "\n",
    "# Display the plot\n",
    "plt.show()"
   ]
  },
  {
   "cell_type": "code",
   "execution_count": 10,
   "id": "d2b48df1-1ae0-4c80-a503-a51c246d958b",
   "metadata": {},
   "outputs": [
    {
     "name": "stdout",
     "output_type": "stream",
     "text": [
      "[0.32 0.39] [0.38 0.45]\n"
     ]
    }
   ],
   "source": [
    "total_positives = sum(ys_train)\n",
    "\n",
    "sensitivity_lr=tpr_train[np.argmin(1 - fpr_train > 0.985)]\n",
    "sensitivity_smags=tpr_smag[np.argmin(1 - fpr_smag > 0.985)]\n",
    "\n",
    "# True positives at that point (i.e., TPR * total_positives)\n",
    "true_positives_at_point_lr = sensitivity_lr * total_positives\n",
    "true_positives_at_point_smags = sensitivity_smags * total_positives\n",
    "\n",
    "# Confidence interval (using Wilson score interval method)\n",
    "alpha = 0.05  # 95% confidence level\n",
    "ci_lower_lr, ci_upper_lr = stats.binom.interval(1-alpha, total_positives, sensitivity_lr, loc=0)\n",
    "ci_lower_lr = np.round(ci_lower_lr/total_positives,2)  # Normalize to get TPR bounds\n",
    "ci_upper_lr = np.round(ci_upper_lr/total_positives,2)\n",
    "\n",
    "ci_lower_smags, ci_upper_smags = stats.binom.interval(1-alpha, total_positives, sensitivity_smags, loc=0)\n",
    "ci_lower_smags = np.round(ci_lower_smags/total_positives,2)  # Normalize to get TPR bounds\n",
    "ci_upper_smags = np.round(ci_upper_smags/total_positives,2)\n",
    "\n",
    "ci_lr=np.array([ci_lower_lr,ci_upper_lr])\n",
    "ci_smags=np.array([ci_lower_smags,ci_upper_smags])\n",
    "print( ci_lr, ci_smags )"
   ]
  },
  {
   "cell_type": "markdown",
   "id": "8c85dad5",
   "metadata": {},
   "source": [
    "# Figure 1-b"
   ]
  },
  {
   "cell_type": "code",
   "execution_count": 11,
   "id": "3bb1e3bf",
   "metadata": {},
   "outputs": [
    {
     "data": {
      "image/png": "[encoded data removed]",
      "text/plain": [
       "<Figure size 640x480 with 1 Axes>"
      ]
     },
     "metadata": {},
     "output_type": "display_data"
    }
   ],
   "source": [
    "# Predict probabilities on the test set using the logistic regression model\n",
    "ys_probs2 = log.predict_proba(Xs_test)\n",
    "\n",
    "# Calculate the ROC curve for the logistic regression model on the test set\n",
    "fpr_test, tpr_test, _ = roc_curve(ys_test, ys_probs2[:, 1])\n",
    "\n",
    "# Plot the ROC curve for the logistic regression model\n",
    "plt.plot(fpr_test, tpr_test, label='LR - Sensitivity = %0.2f' % tpr_test[np.argmin(1 - fpr_test > 0.985)])\n",
    "\n",
    "# Calculate the ROC curve for the SMAGS model on the test set\n",
    "fpr_smag2, tpr_smag2, _ = roc_curve(ys_test, np.matmul(np.array(Xs_test.assign(I=1)), np.array(A[0:3])))\n",
    "\n",
    "# Plot the ROC curve for the SMAGS model\n",
    "plt.plot(fpr_smag2, tpr_smag2, label='SMAGS - Sensitivity = %0.2f' % tpr_smag2[np.argmin(1 - fpr_smag2 > 0.985)])\n",
    "\n",
    "# Add legend and labels to the plot\n",
    "plt.legend()\n",
    "plt.title(\"Receiver Operating Characteristic (ROC)\")\n",
    "plt.ylabel('True Positive Rate')\n",
    "plt.xlabel('False Positive Rate')\n",
    "\n",
    "# Save the figure as a PNG file\n",
    "plt.savefig('Figure 1-b-October.png')\n",
    "\n",
    "# Display the plot\n",
    "plt.show()\n"
   ]
  },
  {
   "cell_type": "code",
   "execution_count": 12,
   "id": "4b02d101-2885-4dfb-be19-615a88a46491",
   "metadata": {},
   "outputs": [
    {
     "name": "stdout",
     "output_type": "stream",
     "text": [
      "[0.3  0.44] [0.35 0.49]\n"
     ]
    }
   ],
   "source": [
    "total_positives = sum(ys_test)\n",
    "\n",
    "sensitivity_lr=tpr_test[np.argmin(1 - fpr_test > 0.985)]\n",
    "sensitivity_smags=tpr_smag2[np.argmin(1 - fpr_smag2 > 0.985)]\n",
    "\n",
    "# True positives at that point (i.e., TPR * total_positives)\n",
    "true_positives_at_point_lr = sensitivity_lr * total_positives\n",
    "true_positives_at_point_smags = sensitivity_smags * total_positives\n",
    "\n",
    "# Confidence interval (using Wilson score interval method)\n",
    "alpha = 0.05  # 95% confidence level\n",
    "ci_lower_lr, ci_upper_lr = stats.binom.interval(1-alpha, total_positives, sensitivity_lr, loc=0)\n",
    "ci_lower_lr = np.round(ci_lower_lr/total_positives,2)  # Normalize to get TPR bounds\n",
    "ci_upper_lr = np.round(ci_upper_lr/total_positives,2)\n",
    "\n",
    "ci_lower_smags, ci_upper_smags = stats.binom.interval(1-alpha, total_positives, sensitivity_smags, loc=0)\n",
    "ci_lower_smags = np.round(ci_lower_smags/total_positives,2)  # Normalize to get TPR bounds\n",
    "ci_upper_smags = np.round(ci_upper_smags/total_positives,2)\n",
    "\n",
    "ci_lr=np.array([ci_lower_lr,ci_upper_lr])\n",
    "ci_smags=np.array([ci_lower_smags,ci_upper_smags])\n",
    "print( ci_lr, ci_smags )"
   ]
  },
  {
   "cell_type": "markdown",
   "id": "58812b0e",
   "metadata": {},
   "source": [
    "# SM Figure 1"
   ]
  },
  {
   "cell_type": "code",
   "execution_count": 13,
   "id": "a51cecd1",
   "metadata": {},
   "outputs": [
    {
     "data": {
      "image/png": "[encoded data removed]",
      "text/plain": [
       "<Figure size 640x480 with 1 Axes>"
      ]
     },
     "metadata": {},
     "output_type": "display_data"
    }
   ],
   "source": [
    "# Fit a logistic regression model on the entire dataset\n",
    "log = LogisticRegression(random_state=randomstate).fit(Xs[['X1', 'X2']], ys)\n",
    "\n",
    "# Predict probabilities for the dataset\n",
    "ys_probs = log.predict_proba(Xs[['X1', 'X2']])\n",
    "\n",
    "# Calculate the ROC curve for the logistic regression model\n",
    "fpr_log, tpr_log, _ = roc_curve(ys, ys_probs[:, 1])\n",
    "\n",
    "# Plot the ROC curve for the logistic regression model\n",
    "plt.plot(fpr_log, tpr_log, label='Logistic - Sensitivity = %0.2f' % tpr_log[np.argmin(1 - fpr_log > 0.985)])\n",
    "\n",
    "# Perform SMAGS feature selection and get the coefficients\n",
    "A = SMAGS(Xs[['X1', 'X2']], ys, 0.985)\n",
    "\n",
    "# Calculate the ROC curve for the SMAGS model\n",
    "fprs_all_smag, tprs_all_smag, _ = roc_curve(ys, np.matmul(np.array(Xs[['X1', 'X2']].assign(I=1)), np.array(A[0:3])))\n",
    "\n",
    "# Calculate the AUC for the SMAGS model\n",
    "roc_auc_all_smag = auc(fprs_all_smag, tprs_all_smag)\n",
    "\n",
    "# Plot the ROC curve for the SMAGS model\n",
    "plt.plot(fprs_all_smag, tprs_all_smag, label='SMAGS - Sensitivity = %0.2f' % tprs_all_smag[np.argmin(1 - fprs_all_smag > 0.985)])\n",
    "\n",
    "# Uncomment the lines below if you want to plot additional ROC curves\n",
    "# plt.plot(fpr1, tpr1, label='F1 - Sensitivity = {:.2f}'.format(tpr1[np.argmin(1 - fpr1 > 0.985)]))\n",
    "# plt.plot(fpr2, tpr2, label='F2 - Sensitivity = {:.2f}'.format(tpr2[np.argmin(1 - fpr2 > 0.985)]))\n",
    "\n",
    "# Add legend and labels to the plot\n",
    "plt.legend()\n",
    "plt.xlabel('False Positive Rate')\n",
    "plt.ylabel('True Positive Rate')\n",
    "plt.title('Receiver Operating Characteristic (ROC)')\n",
    "\n",
    "# Save the figure as a PNG file\n",
    "plt.savefig('Figure SM-1-October.png')\n",
    "\n",
    "# Display the plot\n",
    "plt.show()"
   ]
  },
  {
   "cell_type": "markdown",
   "id": "8ae8ea07-477d-40c6-9689-1ac8c972db40",
   "metadata": {},
   "source": [
    " # SM Figure 2"
   ]
  },
  {
   "cell_type": "code",
   "execution_count": 14,
   "id": "f02a01fd-948f-437f-8219-30da999a2d4a",
   "metadata": {},
   "outputs": [],
   "source": [
    "# Select features and target labels from the new DataFrame\n",
    "Xs_new = DF_new[['X1', 'X2', 'X3', 'X4']]  # Features: X1, X2, X3, X4\n",
    "ys_new = DF_new['is_case']                  # Target label: is_case (1 for cases, 0 for controls)\n",
    "\n",
    "# Split the new data into training and testing sets\n",
    "Xs_train_new, Xs_test_new, ys_train_new, ys_test_new = train_test_split(\n",
    "    Xs_new,                # Features to be split\n",
    "    ys_new,               # Target labels to be split\n",
    "    random_state=randomstate,  # Set random seed for reproducibility\n",
    "    test_size=0.25,        # Use 20% of the data for testing\n",
    "    shuffle=True           # Shuffle the data before splitting to avoid bias\n",
    ")"
   ]
  },
  {
   "cell_type": "code",
   "execution_count": 15,
   "id": "8653a2c5-a20d-4525-9e32-c23d00beef89",
   "metadata": {},
   "outputs": [
    {
     "data": {
      "image/png": "[encoded data removed]",
      "text/plain": [
       "<Figure size 640x480 with 1 Axes>"
      ]
     },
     "metadata": {},
     "output_type": "display_data"
    }
   ],
   "source": [
    "# Fit a logistic regression model on the training set\n",
    "log_new = LogisticRegression(random_state=randomstate).fit(Xs_train_new, ys_train_new)\n",
    "\n",
    "# Predict probabilities on the test set using the logistic regression model\n",
    "ys_probs1_new = log_new.predict_proba(Xs_test_new)\n",
    "\n",
    "# Calculate the ROC curve for the logistic regression model on the test set\n",
    "fpr_train_new, tpr_train_new, _ = roc_curve(ys_test_new, ys_probs1_new[:, 1])\n",
    "\n",
    "# Plot the ROC curve for the logistic regression model\n",
    "plt.plot(fpr_train_new, tpr_train_new, label='LR - Sensitivity = %0.2f' % tpr_train_new[np.argmin(1 - fpr_train_new > 0.985)])\n",
    "\n",
    "# Perform SMAGS feature selection and get the coefficients\n",
    "A_new = SMAGS(Xs_train_new, ys_train_new, 0.985)\n",
    "\n",
    "# Calculate the ROC curve for the SMAGS model using the test set\n",
    "fpr_smag_new, tpr_smag_new, _ = roc_curve(ys_test_new, np.matmul(np.array(Xs_test_new.assign(I=1)), np.array(A_new[0:5])))\n",
    "\n",
    "# Plot the ROC curve for the SMAGS model\n",
    "plt.plot(fpr_smag_new, tpr_smag_new, label='SMAGS - Sensitivity = %0.2f' % tpr_smag_new[np.argmin(1 - fpr_smag_new > 0.985)])\n",
    "\n",
    "# Add legend and labels to the plot\n",
    "plt.legend()\n",
    "plt.title(\"Receiver Operating Characteristic (ROC)\")\n",
    "plt.ylabel('True Positive Rate')\n",
    "plt.xlabel('False Positive Rate')\n",
    "\n",
    "# Save the figure as a PNG file\n",
    "plt.savefig('SM F2-October.png')\n",
    "\n",
    "# Display the plot\n",
    "plt.show()"
   ]
  },
  {
   "cell_type": "markdown",
   "id": "45b001e6-55f5-4fff-a494-34f2fe77322b",
   "metadata": {},
   "source": [
    "# SM F3"
   ]
  },
  {
   "cell_type": "code",
   "execution_count": 16,
   "id": "81c7146e-df01-4e99-a067-6ec12f4a4086",
   "metadata": {},
   "outputs": [
    {
     "data": {
      "image/png": "[encoded data removed]",
      "text/plain": [
       "<Figure size 1500x1500 with 4 Axes>"
      ]
     },
     "metadata": {},
     "output_type": "display_data"
    }
   ],
   "source": [
    "# Set plot parameters\n",
    "linewidth = 1\n",
    "fonts = 20\n",
    "plt.rcParams[\"font.weight\"] = \"normal\"\n",
    "plt.rcParams[\"axes.labelweight\"] = \"normal\"\n",
    "plt.rc('axes', labelsize=10)\n",
    "\n",
    "# Create a 2x2 subplot\n",
    "fig, axes = plt.subplots(nrows=2, ncols=2, figsize=(15, 15), constrained_layout=True, sharex=True, sharey=True)\n",
    "\n",
    "# Set y-ticks for all subplots\n",
    "plt.setp(axes, yticks=np.linspace(0, 1, 6, endpoint=True))\n",
    "\n",
    "# Define specificities to analyze\n",
    "specificities = [0.985, 0.80, 0.5, 0.05]\n",
    "\n",
    "# Loop over each specificity to generate ROC curves\n",
    "for i, SP in enumerate(specificities):\n",
    "    # Get SMAGS results for the current specificity\n",
    "    A_new = SMAGS(Xs_train_new, ys_train_new, SP)\n",
    "    \n",
    "    # Calculate ROC curve for SMAGS\n",
    "    fpr_smag_new, tpr_smag_new, _ = roc_curve(ys_test_new, \n",
    "        np.matmul(np.array((Xs_test_new).assign(I=1)), np.array(A_new[0:5])))\n",
    "\n",
    "    # Plot SMAGS ROC curve\n",
    "    axes[i // 2, i % 2].plot(fpr_smag_new, tpr_smag_new, \n",
    "        label='SMAGS - Sensitivity = %0.2f' % tpr_smag_new[np.argmin(1 - fpr_smag_new > SP)], linewidth=linewidth)\n",
    "\n",
    "    # Plot logistic regression ROC curve\n",
    "    axes[i // 2, i % 2].plot(fpr_train_new, tpr_train_new, \n",
    "        label='LR - Sensitivity = %0.2f' % tpr_train_new[np.argmin(1 - fpr_train_new > SP)], linewidth=linewidth)\n",
    "\n",
    "    # Set legend and title for the subplot\n",
    "    axes[i // 2, i % 2].legend(prop={'size': fonts})\n",
    "    axes[i // 2, i % 2].set_title(\"Specificity \" + str(SP * 100), fontsize=fonts, fontweight=\"normal\")\n",
    "\n",
    "# Set limits and labels for the overall figure\n",
    "plt.ylim([0, 1])\n",
    "fig.text(0.49, -0.05, 'False Positive Rate', ha='left', va='bottom', fontsize=fonts)  # x-label\n",
    "fig.text(-0.015, 0.5, 'True Positive Rate', ha='left', va='center', rotation='vertical', fontsize=fonts)  # y-label\n",
    "\n",
    "# Save the figure and display it\n",
    "plt.savefig('SM F3-October.png')\n",
    "plt.show()\n"
   ]
  },
  {
   "cell_type": "markdown",
   "id": "12b08c1c",
   "metadata": {},
   "source": [
    "# Table 1"
   ]
  },
  {
   "cell_type": "code",
   "execution_count": 17,
   "id": "231ad881",
   "metadata": {},
   "outputs": [],
   "source": [
    "# Split the dataset into training and test sets\n",
    "Xs_train_four, Xs_test_four, ys_train_four, ys_test_four = train_test_split(\n",
    "    Xs,  # Features\n",
    "    ys,  # Labels\n",
    "    random_state=randomstate,  # Set random seed for reproducibility\n",
    "    test_size=0.2,  # Use 20% of the data for testing\n",
    "    shuffle=True  # Shuffle the data before splitting\n",
    ")\n"
   ]
  },
  {
   "cell_type": "code",
   "execution_count": 18,
   "id": "8e80cf07",
   "metadata": {},
   "outputs": [],
   "source": [
    "# Fit a logistic regression model on the training data\n",
    "log_four = LogisticRegression(random_state=randomstate).fit(Xs_train_four, ys_train_four)\n",
    "\n",
    "# Predict probabilities for the test set\n",
    "ys_probs_four = log_four.predict_proba(Xs_test_four)\n",
    "\n",
    "# Calculate the false positive rate (FPR) and true positive rate (TPR) for the ROC curve\n",
    "fpr_log_four, tpr_log_four, _ = roc_curve(ys_test_four, ys_probs_four[:, 1])\n"
   ]
  },
  {
   "cell_type": "code",
   "execution_count": 19,
   "id": "a320524e",
   "metadata": {},
   "outputs": [
    {
     "name": "stdout",
     "output_type": "stream",
     "text": [
      "7 25.81665539741516\n"
     ]
    }
   ],
   "source": [
    "# Define a list of specificity thresholds to evaluate\n",
    "all_spec = [0.01, 0.05, 0.1, 0.5, 0.8, 0.9, 0.95, 0.985]\n",
    "\n",
    "# Start timing for performance measurement\n",
    "ti = time()\n",
    "\n",
    "# Create a DataFrame to hold specificity and sensitivities for both models\n",
    "table1 = pd.DataFrame(index=np.arange(0, len(all_spec), 1),\n",
    "                      columns=['Specificity', 'Logistic Sensitivity', 'SMAGS Sensitivity'])\n",
    "\n",
    "# Loop over each specificity threshold\n",
    "for i, j in enumerate(all_spec):\n",
    "    # Store the specificity value (in percentage)\n",
    "    table1.iloc[i, 0] = j * 100\n",
    "    \n",
    "    # Calculate the sensitivity for the logistic model at the given specificity\n",
    "    table1.iloc[i, 1] = np.round((tpr_log_four[np.argmin(1 - fpr_log_four > j)]) * 100, 2)\n",
    "    \n",
    "    # Run SMAGS to get the coefficients at the current specificity\n",
    "    A_four = SMAGS(Xs_train_four, ys_train_four, j)\n",
    "    \n",
    "    # Compute ROC curve for the SMAGS model on the test set\n",
    "    fprs_smag_four, tprs_smag_four, _ = roc_curve(ys_test_four,\n",
    "                                                   np.matmul(np.array((Xs_test_four).assign(I=1)),\n",
    "                                                             np.array(A_four[0:5])))\n",
    "    \n",
    "    # Store the SMAGS sensitivity at the given specificity\n",
    "    table1.iloc[i, 2] = np.round((tprs_smag_four[np.argmin(1 - fprs_smag_four > j)]) * 100, 2)\n",
    "\n",
    "# Print the last index and elapsed time\n",
    "print(i, time() - ti)\n"
   ]
  },
  {
   "cell_type": "markdown",
   "id": "0b994d32",
   "metadata": {},
   "source": [
    "# CancerSeek Data"
   ]
  },
  {
   "cell_type": "markdown",
   "id": "b97c4518",
   "metadata": {},
   "source": [
    "In this section we are using the dataset provided by \n",
    "\"Cohen, J. D., Li, L., Wang, Y., Thoburn, C., Afsari, B., Danilova, L., ... & Papadopoulos, N. (2018). Detection and localization of surgically resectable cancers with a multi-analyte blood test. Science, 359(6378), 926-930.\""
   ]
  },
  {
   "cell_type": "code",
   "execution_count": 20,
   "id": "fea645f6",
   "metadata": {},
   "outputs": [],
   "source": [
    "# Reading CancerSeek Data from the specified Excel file\n",
    "S2 = pd.read_excel('CRC_Analysis.xlsx', sheet_name='Sheet2')\n",
    "S2.columns = S2.loc[1]  # Set the second row as column headers\n",
    "S3 = pd.read_excel('CRC_Analysis.xlsx', sheet_name='Sheet3')  # Read the second sheet\n",
    "\n",
    "# Selecting features that are marked as 'Increased' from sheet 3\n",
    "# and have a corresponding value greater than 0.6 in the second column\n",
    "Main_Features = np.array(S3.loc[(S3.iloc[:, 7] == 'Increased') & (S3.iloc[1:, 1] > 0.6)]['Unnamed: 0'])\n",
    "\n",
    "# Converting character values to numeric for specific entries\n",
    "S2.loc[29, 'CEA (pg/ml)'] = 336427.986\n",
    "S2.loc[349, 'Prolactin (pg/ml)'] = 608432.382\n",
    "\n",
    "# Preparing the final DataFrame with the tumor type and selected main features\n",
    "df = S2.loc[2:, np.append('Tumor type', Main_Features)]  # Selecting relevant rows and columns\n",
    "df = df.dropna()  # Dropping rows with any NaN values\n"
   ]
  },
  {
   "cell_type": "code",
   "execution_count": 21,
   "id": "f1515632",
   "metadata": {},
   "outputs": [],
   "source": [
    "# Preparing Features and Labels\n",
    "X = df.iloc[:, 1:]  # Selecting all columns except the first one for features\n",
    "# X.iloc[27, 1] = 336427.986  # Uncomment to set specific values if needed\n",
    "# X.iloc[347, 13] = 608432.382  # Uncomment to set specific values if needed\n",
    "\n",
    "y1 = df.iloc[:, 0]  # Selecting the first column as labels\n",
    "X = X.astype(float)  # Converting features to float type\n",
    "\n",
    "# Creating a binary target variable: 1 for 'Colorectum', 0 otherwise\n",
    "y = pd.Series(np.where(y1 == 'Colorectum', 1, 0), index=y1.index)\n",
    "\n",
    "# Splitting the dataset into training and testing sets\n",
    "X_train, X_test, y_train, y_test = train_test_split(X, y, random_state=randomstate, test_size=0.2, shuffle=True)\n"
   ]
  },
  {
   "cell_type": "markdown",
   "id": "feca041a",
   "metadata": {},
   "source": [
    "# Figure 2-a"
   ]
  },
  {
   "cell_type": "code",
   "execution_count": 22,
   "id": "354ce40f-1ecc-475c-b459-542d75cec726",
   "metadata": {},
   "outputs": [
    {
     "name": "stderr",
     "output_type": "stream",
     "text": [
      "C:\\Users\\sghasemi\\Anaconda3\\envs\\SMAGS\\lib\\site-packages\\sklearn\\linear_model\\_logistic.py:460: ConvergenceWarning: lbfgs failed to converge (status=1):\n",
      "STOP: TOTAL NO. of ITERATIONS REACHED LIMIT.\n",
      "\n",
      "Increase the number of iterations (max_iter) or scale the data as shown in:\n",
      "    https://scikit-learn.org/stable/modules/preprocessing.html\n",
      "Please also refer to the documentation for alternative solver options:\n",
      "    https://scikit-learn.org/stable/modules/linear_model.html#logistic-regression\n",
      "  n_iter_i = _check_optimize_result(\n",
      "C:\\Users\\sghasemi\\Anaconda3\\envs\\SMAGS\\lib\\site-packages\\sklearn\\linear_model\\_logistic.py:460: ConvergenceWarning: lbfgs failed to converge (status=1):\n",
      "STOP: TOTAL NO. of ITERATIONS REACHED LIMIT.\n",
      "\n",
      "Increase the number of iterations (max_iter) or scale the data as shown in:\n",
      "    https://scikit-learn.org/stable/modules/preprocessing.html\n",
      "Please also refer to the documentation for alternative solver options:\n",
      "    https://scikit-learn.org/stable/modules/linear_model.html#logistic-regression\n",
      "  n_iter_i = _check_optimize_result(\n",
      "C:\\Users\\sghasemi\\Anaconda3\\envs\\SMAGS\\lib\\site-packages\\sklearn\\linear_model\\_logistic.py:460: ConvergenceWarning: lbfgs failed to converge (status=1):\n",
      "STOP: TOTAL NO. of ITERATIONS REACHED LIMIT.\n",
      "\n",
      "Increase the number of iterations (max_iter) or scale the data as shown in:\n",
      "    https://scikit-learn.org/stable/modules/preprocessing.html\n",
      "Please also refer to the documentation for alternative solver options:\n",
      "    https://scikit-learn.org/stable/modules/linear_model.html#logistic-regression\n",
      "  n_iter_i = _check_optimize_result(\n",
      "C:\\Users\\sghasemi\\Anaconda3\\envs\\SMAGS\\lib\\site-packages\\sklearn\\linear_model\\_logistic.py:460: ConvergenceWarning: lbfgs failed to converge (status=1):\n",
      "STOP: TOTAL NO. of ITERATIONS REACHED LIMIT.\n",
      "\n",
      "Increase the number of iterations (max_iter) or scale the data as shown in:\n",
      "    https://scikit-learn.org/stable/modules/preprocessing.html\n",
      "Please also refer to the documentation for alternative solver options:\n",
      "    https://scikit-learn.org/stable/modules/linear_model.html#logistic-regression\n",
      "  n_iter_i = _check_optimize_result(\n",
      "C:\\Users\\sghasemi\\Anaconda3\\envs\\SMAGS\\lib\\site-packages\\sklearn\\linear_model\\_logistic.py:460: ConvergenceWarning: lbfgs failed to converge (status=1):\n",
      "STOP: TOTAL NO. of ITERATIONS REACHED LIMIT.\n",
      "\n",
      "Increase the number of iterations (max_iter) or scale the data as shown in:\n",
      "    https://scikit-learn.org/stable/modules/preprocessing.html\n",
      "Please also refer to the documentation for alternative solver options:\n",
      "    https://scikit-learn.org/stable/modules/linear_model.html#logistic-regression\n",
      "  n_iter_i = _check_optimize_result(\n",
      "C:\\Users\\sghasemi\\Anaconda3\\envs\\SMAGS\\lib\\site-packages\\sklearn\\linear_model\\_logistic.py:460: ConvergenceWarning: lbfgs failed to converge (status=1):\n",
      "STOP: TOTAL NO. of ITERATIONS REACHED LIMIT.\n",
      "\n",
      "Increase the number of iterations (max_iter) or scale the data as shown in:\n",
      "    https://scikit-learn.org/stable/modules/preprocessing.html\n",
      "Please also refer to the documentation for alternative solver options:\n",
      "    https://scikit-learn.org/stable/modules/linear_model.html#logistic-regression\n",
      "  n_iter_i = _check_optimize_result(\n",
      "C:\\Users\\sghasemi\\Anaconda3\\envs\\SMAGS\\lib\\site-packages\\sklearn\\linear_model\\_logistic.py:460: ConvergenceWarning: lbfgs failed to converge (status=1):\n",
      "STOP: TOTAL NO. of ITERATIONS REACHED LIMIT.\n",
      "\n",
      "Increase the number of iterations (max_iter) or scale the data as shown in:\n",
      "    https://scikit-learn.org/stable/modules/preprocessing.html\n",
      "Please also refer to the documentation for alternative solver options:\n",
      "    https://scikit-learn.org/stable/modules/linear_model.html#logistic-regression\n",
      "  n_iter_i = _check_optimize_result(\n",
      "C:\\Users\\sghasemi\\Anaconda3\\envs\\SMAGS\\lib\\site-packages\\sklearn\\linear_model\\_logistic.py:460: ConvergenceWarning: lbfgs failed to converge (status=1):\n",
      "STOP: TOTAL NO. of ITERATIONS REACHED LIMIT.\n",
      "\n",
      "Increase the number of iterations (max_iter) or scale the data as shown in:\n",
      "    https://scikit-learn.org/stable/modules/preprocessing.html\n",
      "Please also refer to the documentation for alternative solver options:\n",
      "    https://scikit-learn.org/stable/modules/linear_model.html#logistic-regression\n",
      "  n_iter_i = _check_optimize_result(\n"
     ]
    },
    {
     "data": {
      "image/png": "[encoded data removed]",
      "text/plain": [
       "<Figure size 640x480 with 1 Axes>"
      ]
     },
     "metadata": {},
     "output_type": "display_data"
    }
   ],
   "source": [
    "# Setting up parameters for cross-validation\n",
    "i = 0  # Counter for folds\n",
    "SP = 0.985  # Target specificity\n",
    "n_fold = 4  # Number of folds for cross-validation\n",
    "\n",
    "# Lists to store coefficients and parameters\n",
    "B_train = []\n",
    "D_train = []\n",
    "S_train = []\n",
    "\n",
    "# Colors for plotting different folds\n",
    "colors = ['blue', 'green', 'red', 'cyan', 'orange', 'magenta']\n",
    "\n",
    "# KFold cross-validation setup\n",
    "kfold = KFold(n_splits=n_fold, shuffle=True, random_state=randomstate)\n",
    "\n",
    "# Cross-validation loop\n",
    "for train, test in kfold.split(X_train):\n",
    "    i += 1  # Increment fold counter\n",
    "\n",
    "    # Fit logistic regression model on training data\n",
    "    log = LogisticRegression(random_state=randomstate).fit(X_train.loc[X_train.index[train]], y_train.loc[y_train.index[train]])\n",
    "    B_train.append(np.append(log.coef_[0], log.intercept_))  # Store coefficients\n",
    "\n",
    "    # Predict probabilities on test fold\n",
    "    y_probs1 = log.predict_proba(X_train.loc[X_train.index[test]])\n",
    "    fpr1, tpr1, _ = roc_curve(y_train.loc[y_train.index[test]], y_probs1[:, 1])  # Compute ROC curve\n",
    "\n",
    "    # Apply SMAGS method on training fold\n",
    "    A = SMAGS(X_train.loc[X_train.index[train]], y_train.loc[y_train.index[train]], SP)\n",
    "    D_train.append(np.array(A[:X.shape[1] + 1]))  # Store SMAGS parameters\n",
    "\n",
    "    # Compute ROC curve for SMAGS\n",
    "    fpr_smags, tpr_smags, _ = roc_curve(y_train.loc[y_train.index[test]],\n",
    "        np.matmul(np.array((X_train.loc[X_train.index[test]]).assign(I=1)), np.array(A[:X.shape[1] + 1])))\n",
    "\n",
    "    # Plot ROC curve for Logistic Regression\n",
    "    plt.plot(fpr1, tpr1, '-', color=colors[i], label=str(i) + ' LR - Sensitivity = %0.2f' % tpr1[np.argmin(1 - fpr1 > SP)])\n",
    "\n",
    "    # Plot ROC curve for SMAGS\n",
    "    plt.plot(fpr_smags, tpr_smags, '-.', color=colors[i], label=str(i) + ' SMAGS - Sensitivity = %0.2f' % tpr_smags[np.argmin(1 - fpr_smags > SP)])\n",
    "\n",
    "# Final plot settings\n",
    "plt.legend()\n",
    "plt.title(\"Receiver Operating Characteristic (ROC)\")\n",
    "plt.ylabel('True Positive Rate')\n",
    "plt.xlabel('False Positive Rate')\n",
    "plt.savefig('Figure 2-a-October.png')  # Save the figure\n",
    "plt.show()  # Display the plot\n"
   ]
  },
  {
   "cell_type": "markdown",
   "id": "8e3f6cea-c095-4b1d-b9df-bd4d758d17af",
   "metadata": {},
   "source": [
    "# SVM"
   ]
  },
  {
   "cell_type": "code",
   "execution_count": 23,
   "id": "37f183f4-4075-4869-8234-cfa04ab3912c",
   "metadata": {},
   "outputs": [],
   "source": [
    "\n",
    "# Initialize the Support Vector Regression model\n",
    "svc = SVR()\n",
    "\n",
    "# Fit the model on the training data\n",
    "svc.fit(X_train, y_train)\n",
    "\n",
    "# Predicting for the test set\n",
    "y_pred_svm = svc.predict(X_test)\n",
    "\n",
    "# ROC curve calculation\n",
    "fpr_svm, tpr_svm, _ = roc_curve(y_test, y_pred_svm)  # Compute false positive rate and true positive rate\n",
    "roc_auc_svm = auc(fpr_svm, tpr_svm)  # Calculate the area under the curve\n",
    "\n"
   ]
  },
  {
   "cell_type": "markdown",
   "id": "68b13994-aef6-40e2-97ba-f501a438ae37",
   "metadata": {},
   "source": [
    "# Random Forest"
   ]
  },
  {
   "cell_type": "code",
   "execution_count": 24,
   "id": "f48e4c82-efa9-4b36-b6ef-8b68ccfa68ff",
   "metadata": {},
   "outputs": [],
   "source": [
    "\n",
    "# Initialize the Random Forest Regressor with a maximum depth of 1\n",
    "rf = RandomForestRegressor(max_depth=1)\n",
    "\n",
    "# Fit the model on the training data\n",
    "rf.fit(X_train, y_train)\n",
    "\n",
    "# Predicting for the test set\n",
    "y_pred_rf = rf.predict(X_test)\n",
    "\n",
    "# ROC curve calculation\n",
    "fpr_rf, tpr_rf, _ = roc_curve(y_test, y_pred_rf)  # Compute false positive rate and true positive rate\n",
    "roc_auc_rf = auc(fpr_rf, tpr_rf)  # Calculate the area under the curve\n",
    "\n"
   ]
  },
  {
   "cell_type": "markdown",
   "id": "012b4339-eefc-411a-92a0-c4f57210c30c",
   "metadata": {},
   "source": [
    "# Weighted Logistic Regression "
   ]
  },
  {
   "cell_type": "code",
   "execution_count": 25,
   "id": "8ada7169-a553-48ab-a0b9-f1b9195745c4",
   "metadata": {},
   "outputs": [],
   "source": [
    "\n",
    "# Calculate class weights to handle imbalanced classes\n",
    "class_weights = compute_class_weight(class_weight='balanced', classes=np.unique(y), y=y)\n",
    "class_weight_dict = {0: class_weights[0], 1: class_weights[1]}\n",
    "\n",
    "# Initialize Logistic Regression with class weights\n",
    "wlr = LogisticRegression(class_weight=class_weight_dict, solver='liblinear')\n",
    "\n",
    "# Fit the model on the training data\n",
    "wlr.fit(X_train, y_train)\n",
    "\n",
    "# Predict probabilities for the test set\n",
    "y_pred_wlr = wlr.predict_proba(X_test)\n",
    "\n",
    "# Calculate ROC curve\n",
    "fpr_wlr, tpr_wlr, _ = roc_curve(np.array(y_test), y_pred_wlr[:, 1])\n",
    "roc_auc_wlr = auc(fpr_wlr, tpr_wlr)\n",
    "\n"
   ]
  },
  {
   "cell_type": "markdown",
   "id": "b3b6485d",
   "metadata": {},
   "source": [
    "# Figure 2-b"
   ]
  },
  {
   "cell_type": "code",
   "execution_count": 26,
   "id": "30276a06-d401-4c2d-aaa8-6c22256d873f",
   "metadata": {},
   "outputs": [
    {
     "data": {
      "image/png": "[encoded data removed]",
      "text/plain": [
       "<Figure size 640x480 with 1 Axes>"
      ]
     },
     "metadata": {},
     "output_type": "display_data"
    }
   ],
   "source": [
    "\n",
    "# Calculate average coefficients from the cross-validation results\n",
    "Av_B_test = np.array(B_train).mean(axis=0)\n",
    "Av_D_test = np.array(D_train).mean(axis=0)\n",
    "\n",
    "# ROC for Logistic Regression using average coefficients\n",
    "fpr_avg, tpr_avg, _ = roc_curve(y_test, np.matmul(np.array(X_test.assign(I=1)), Av_B_test))\n",
    "roc_auc_avg = auc(fpr_avg, tpr_avg)\n",
    "\n",
    "# ROC for SMAGS using average coefficients\n",
    "fpr_avg_smag, tpr_avg_smag, _ = roc_curve(y_test, np.matmul(np.array(X_test.assign(I=1)), Av_D_test))\n",
    "roc_auc_avg_smag = auc(fpr_avg_smag, tpr_avg_smag)\n",
    "\n",
    "# Plotting ROC curves\n",
    "plt.plot(fpr_avg, tpr_avg, label='LR - Sensitivity = %0.2f' % tpr_avg[np.argmin((1 - fpr_avg) > SP)])\n",
    "plt.plot(fpr_avg_smag, tpr_avg_smag, label='SMAGS - Sensitivity = %0.2f' % tpr_avg_smag[np.argmin((1 - fpr_avg_smag) > SP)])\n",
    "\n",
    "# Final plot settings\n",
    "plt.legend()\n",
    "plt.title(\"Receiver Operating Characteristic (ROC)\")\n",
    "plt.ylabel('True Positive Rate')\n",
    "plt.xlabel('False Positive Rate')\n",
    "plt.savefig('Figure 2-b-October.png')\n",
    "plt.show()\n"
   ]
  },
  {
   "cell_type": "code",
   "execution_count": 27,
   "id": "4bf051a0-88e0-4dd5-b29a-31824cf39a03",
   "metadata": {},
   "outputs": [
    {
     "name": "stdout",
     "output_type": "stream",
     "text": [
      "[0.21 0.41] [0.48 0.7 ]\n"
     ]
    }
   ],
   "source": [
    "total_positives = sum(y_test)\n",
    "\n",
    "sensitivity_lr=tpr_avg[np.argmin(1 - fpr_avg > 0.985)]\n",
    "sensitivity_smags=tpr_avg_smag[np.argmin(1 - fpr_avg_smag > 0.985)]\n",
    "\n",
    "# True positives at that point (i.e., TPR * total_positives)\n",
    "true_positives_at_point_lr = sensitivity_lr * total_positives\n",
    "true_positives_at_point_smags = sensitivity_smags * total_positives\n",
    "\n",
    "# Confidence interval (using Wilson score interval method)\n",
    "alpha = 0.05  # 95% confidence level\n",
    "ci_lower_lr, ci_upper_lr = stats.binom.interval(1-alpha, total_positives, sensitivity_lr, loc=0)\n",
    "ci_lower_lr = np.round(ci_lower_lr/total_positives,2)  # Normalize to get TPR bounds\n",
    "ci_upper_lr = np.round(ci_upper_lr/total_positives,2)\n",
    "\n",
    "ci_lower_smags, ci_upper_smags = stats.binom.interval(1-alpha, total_positives, sensitivity_smags, loc=0)\n",
    "ci_lower_smags = np.round(ci_lower_smags/total_positives,2)  # Normalize to get TPR bounds\n",
    "ci_upper_smags = np.round(ci_upper_smags/total_positives,2)\n",
    "\n",
    "ci_lr=np.array([ci_lower_lr,ci_upper_lr])\n",
    "ci_smags=np.array([ci_lower_smags,ci_upper_smags])\n",
    "print( ci_lr, ci_smags )"
   ]
  },
  {
   "cell_type": "markdown",
   "id": "6a67a671-b0a5-406e-8085-13211ef027e5",
   "metadata": {},
   "source": [
    "# SM F4"
   ]
  },
  {
   "cell_type": "code",
   "execution_count": 28,
   "id": "f5bc4ad3",
   "metadata": {},
   "outputs": [
    {
     "data": {
      "image/png": "[encoded data removed]",
      "text/plain": [
       "<Figure size 640x480 with 1 Axes>"
      ]
     },
     "metadata": {},
     "output_type": "display_data"
    }
   ],
   "source": [
    "# Calculate average coefficients from cross-validation results\n",
    "Av_B_test = np.array(B_train).mean(axis=0)\n",
    "Av_D_test = np.array(D_train).mean(axis=0)\n",
    "\n",
    "# ROC for Logistic Regression using average coefficients\n",
    "fpr_avg, tpr_avg, _ = roc_curve(y_test, np.matmul(np.array(X_test.assign(I=1)), Av_B_test))\n",
    "roc_auc_avg = auc(fpr_avg, tpr_avg)\n",
    "\n",
    "# ROC for SMAGS using average coefficients\n",
    "fpr_avg_smag, tpr_avg_smag, _ = roc_curve(y_test, np.matmul(np.array(X_test.assign(I=1)), Av_D_test))\n",
    "roc_auc_avg_smag = auc(fpr_avg_smag, tpr_avg_smag)\n",
    "\n",
    "# Plotting ROC curves for all models\n",
    "plt.plot(fpr_wlr, tpr_wlr, label='WLR - Sensitivity = %0.2f' % tpr_wlr[np.argmin((1 - fpr_wlr) > SP)])\n",
    "plt.plot(fpr_rf, tpr_rf, label='RF - Sensitivity = %0.2f' % tpr_rf[np.argmin((1 - fpr_rf) > SP)])\n",
    "plt.plot(fpr_svm, tpr_svm, label='SVM - Sensitivity = %0.2f' % tpr_svm[np.argmin((1 - fpr_svm) > SP)])\n",
    "plt.plot(fpr_avg, tpr_avg, label='LR - Sensitivity = %0.2f' % tpr_avg[np.argmin((1 - fpr_avg) > SP)])\n",
    "plt.plot(fpr_avg_smag, tpr_avg_smag, label='SMAGS - Sensitivity = %0.2f' % tpr_avg_smag[np.argmin((1 - fpr_avg_smag) > SP)])\n",
    "\n",
    "# Final plot settings\n",
    "plt.legend(title='Specificity = 98.5%')\n",
    "plt.title(\"Receiver Operating Characteristic (ROC)\")\n",
    "plt.ylabel('True Positive Rate')\n",
    "plt.xlabel('False Positive Rate')\n",
    "plt.savefig('SM F4-October.png')\n",
    "plt.show()\n"
   ]
  },
  {
   "cell_type": "markdown",
   "id": "841e568a-53a6-4908-9636-a1b05e18e5c7",
   "metadata": {},
   "source": [
    "#  SM F5"
   ]
  },
  {
   "cell_type": "code",
   "execution_count": 29,
   "id": "9128cf44",
   "metadata": {},
   "outputs": [
    {
     "name": "stderr",
     "output_type": "stream",
     "text": [
      "C:\\Users\\sghasemi\\Anaconda3\\envs\\SMAGS\\lib\\site-packages\\sklearn\\linear_model\\_logistic.py:460: ConvergenceWarning: lbfgs failed to converge (status=1):\n",
      "STOP: TOTAL NO. of ITERATIONS REACHED LIMIT.\n",
      "\n",
      "Increase the number of iterations (max_iter) or scale the data as shown in:\n",
      "    https://scikit-learn.org/stable/modules/preprocessing.html\n",
      "Please also refer to the documentation for alternative solver options:\n",
      "    https://scikit-learn.org/stable/modules/linear_model.html#logistic-regression\n",
      "  n_iter_i = _check_optimize_result(\n",
      "C:\\Users\\sghasemi\\Anaconda3\\envs\\SMAGS\\lib\\site-packages\\sklearn\\linear_model\\_logistic.py:460: ConvergenceWarning: lbfgs failed to converge (status=1):\n",
      "STOP: TOTAL NO. of ITERATIONS REACHED LIMIT.\n",
      "\n",
      "Increase the number of iterations (max_iter) or scale the data as shown in:\n",
      "    https://scikit-learn.org/stable/modules/preprocessing.html\n",
      "Please also refer to the documentation for alternative solver options:\n",
      "    https://scikit-learn.org/stable/modules/linear_model.html#logistic-regression\n",
      "  n_iter_i = _check_optimize_result(\n",
      "C:\\Users\\sghasemi\\Anaconda3\\envs\\SMAGS\\lib\\site-packages\\sklearn\\linear_model\\_logistic.py:460: ConvergenceWarning: lbfgs failed to converge (status=1):\n",
      "STOP: TOTAL NO. of ITERATIONS REACHED LIMIT.\n",
      "\n",
      "Increase the number of iterations (max_iter) or scale the data as shown in:\n",
      "    https://scikit-learn.org/stable/modules/preprocessing.html\n",
      "Please also refer to the documentation for alternative solver options:\n",
      "    https://scikit-learn.org/stable/modules/linear_model.html#logistic-regression\n",
      "  n_iter_i = _check_optimize_result(\n",
      "C:\\Users\\sghasemi\\Anaconda3\\envs\\SMAGS\\lib\\site-packages\\sklearn\\linear_model\\_logistic.py:460: ConvergenceWarning: lbfgs failed to converge (status=1):\n",
      "STOP: TOTAL NO. of ITERATIONS REACHED LIMIT.\n",
      "\n",
      "Increase the number of iterations (max_iter) or scale the data as shown in:\n",
      "    https://scikit-learn.org/stable/modules/preprocessing.html\n",
      "Please also refer to the documentation for alternative solver options:\n",
      "    https://scikit-learn.org/stable/modules/linear_model.html#logistic-regression\n",
      "  n_iter_i = _check_optimize_result(\n",
      "C:\\Users\\sghasemi\\Anaconda3\\envs\\SMAGS\\lib\\site-packages\\sklearn\\linear_model\\_logistic.py:460: ConvergenceWarning: lbfgs failed to converge (status=1):\n",
      "STOP: TOTAL NO. of ITERATIONS REACHED LIMIT.\n",
      "\n",
      "Increase the number of iterations (max_iter) or scale the data as shown in:\n",
      "    https://scikit-learn.org/stable/modules/preprocessing.html\n",
      "Please also refer to the documentation for alternative solver options:\n",
      "    https://scikit-learn.org/stable/modules/linear_model.html#logistic-regression\n",
      "  n_iter_i = _check_optimize_result(\n",
      "C:\\Users\\sghasemi\\Anaconda3\\envs\\SMAGS\\lib\\site-packages\\sklearn\\linear_model\\_logistic.py:460: ConvergenceWarning: lbfgs failed to converge (status=1):\n",
      "STOP: TOTAL NO. of ITERATIONS REACHED LIMIT.\n",
      "\n",
      "Increase the number of iterations (max_iter) or scale the data as shown in:\n",
      "    https://scikit-learn.org/stable/modules/preprocessing.html\n",
      "Please also refer to the documentation for alternative solver options:\n",
      "    https://scikit-learn.org/stable/modules/linear_model.html#logistic-regression\n",
      "  n_iter_i = _check_optimize_result(\n",
      "C:\\Users\\sghasemi\\Anaconda3\\envs\\SMAGS\\lib\\site-packages\\sklearn\\linear_model\\_logistic.py:460: ConvergenceWarning: lbfgs failed to converge (status=1):\n",
      "STOP: TOTAL NO. of ITERATIONS REACHED LIMIT.\n",
      "\n",
      "Increase the number of iterations (max_iter) or scale the data as shown in:\n",
      "    https://scikit-learn.org/stable/modules/preprocessing.html\n",
      "Please also refer to the documentation for alternative solver options:\n",
      "    https://scikit-learn.org/stable/modules/linear_model.html#logistic-regression\n",
      "  n_iter_i = _check_optimize_result(\n",
      "C:\\Users\\sghasemi\\Anaconda3\\envs\\SMAGS\\lib\\site-packages\\sklearn\\linear_model\\_logistic.py:460: ConvergenceWarning: lbfgs failed to converge (status=1):\n",
      "STOP: TOTAL NO. of ITERATIONS REACHED LIMIT.\n",
      "\n",
      "Increase the number of iterations (max_iter) or scale the data as shown in:\n",
      "    https://scikit-learn.org/stable/modules/preprocessing.html\n",
      "Please also refer to the documentation for alternative solver options:\n",
      "    https://scikit-learn.org/stable/modules/linear_model.html#logistic-regression\n",
      "  n_iter_i = _check_optimize_result(\n"
     ]
    },
    {
     "data": {
      "image/png": "[encoded data removed]",
      "text/plain": [
       "<Figure size 640x480 with 1 Axes>"
      ]
     },
     "metadata": {},
     "output_type": "display_data"
    }
   ],
   "source": [
    "# Initialization\n",
    "i = 0\n",
    "SP9 = 0.9  # Specificity level\n",
    "n_fold = 4\n",
    "B_train9 = []\n",
    "D_train9 = []\n",
    "colors = ['blue', 'green', 'red', 'cyan', 'orange', 'magenta']\n",
    "\n",
    "# Split data into training and testing sets\n",
    "X_train, X_test, y_train, y_test = train_test_split(X, y, random_state=randomstate, test_size=0.2, shuffle=True)\n",
    "\n",
    "# K-Fold cross-validation\n",
    "kfold = KFold(n_splits=n_fold, shuffle=True, random_state=randomstate)\n",
    "for train_idx, test_idx in kfold.split(X_train):\n",
    "    i += 1\n",
    "    \n",
    "    # Train Logistic Regression model\n",
    "    log = LogisticRegression(random_state=randomstate).fit(X_train.iloc[train_idx], y_train.iloc[train_idx])\n",
    "    B_train9.append(np.append(log.coef_[0], log.intercept_))\n",
    "    \n",
    "    # Predictions and ROC for Logistic Regression\n",
    "    y_probs9 = log.predict_proba(X_train.iloc[test_idx])\n",
    "    fpr9, tpr9, _ = roc_curve(y_train.iloc[test_idx], y_probs9[:, 1])\n",
    "    \n",
    "    # SMAGS implementation\n",
    "    A9 = SMAGS(X_train.iloc[train_idx], y_train.iloc[train_idx], SP9)\n",
    "    D_train9.append(np.array(A9[:X.shape[1] + 1]))\n",
    "    \n",
    "    # Predictions and ROC for SMAGS\n",
    "    fpr_smags9, tpr_smags9, _ = roc_curve(y_train.iloc[test_idx],\n",
    "        np.matmul(np.array((X_train.iloc[test_idx]).assign(I=1)), np.array(A9[:X.shape[1] + 1])))\n",
    "    \n",
    "    # Plotting ROC curves\n",
    "    plt.plot(fpr9, tpr9, '-', color=colors[i - 1], label=str(i) + ' LR - Sensitivity = %0.2f' % tpr9[np.argmin(1 - fpr9 > SP9)])\n",
    "    plt.plot(fpr_smags9, tpr_smags9, '-.', color=colors[i - 1], label=str(i) + ' SMAGS - Sensitivity = %0.2f' % tpr_smags9[np.argmin(1 - fpr_smags9 > SP9)])\n",
    "\n",
    "# Final plot settings\n",
    "plt.legend(title='Specificity = 90%')\n",
    "plt.title(\"Receiver Operating Characteristic (ROC)\")\n",
    "plt.ylabel('True Positive Rate')\n",
    "plt.xlabel('False Positive Rate')\n",
    "plt.savefig('SM F5-October.png')\n",
    "plt.show()\n"
   ]
  },
  {
   "cell_type": "markdown",
   "id": "0975cf1e-4638-4630-91c0-55332d237a2c",
   "metadata": {},
   "source": [
    "# SM F6"
   ]
  },
  {
   "cell_type": "code",
   "execution_count": 30,
   "id": "4fcd805c-0c20-4efc-b924-e158c1f8008c",
   "metadata": {},
   "outputs": [
    {
     "data": {
      "image/png": "[encoded data removed]",
      "text/plain": [
       "<Figure size 640x480 with 1 Axes>"
      ]
     },
     "metadata": {},
     "output_type": "display_data"
    }
   ],
   "source": [
    "# Calculate average coefficients for Logistic Regression and SMAGS\n",
    "Av_B_test9 = np.array(B_train9).mean(axis=0)\n",
    "Av_D_test9 = np.array(D_train9).mean(axis=0)\n",
    "\n",
    "# Compute ROC curve for average Logistic Regression\n",
    "fpr_avg9, tpr_avg9, _ = roc_curve(y_test, np.matmul(np.array((X_test).assign(I=1)), np.array(Av_B_test9)))\n",
    "\n",
    "# Compute ROC curve for average SMAGS\n",
    "fpr_avg_smag9, tpr_avg_smag9, _ = roc_curve(y_test, np.matmul(np.array((X_test).assign(I=1)), np.array(Av_D_test9)))\n",
    "\n",
    "# Plotting ROC curves\n",
    "# plt.plot(fpr_wlr, tpr_wlr, label='WLR - Sensitivity = %0.2f' % tpr_wlr[np.argmin((1 - fpr_wlr) > SP9)])  # Uncomment if needed\n",
    "# plt.plot(fpr_rf, tpr_rf, label='RF - Sensitivity = %0.2f' % tpr_rf[np.argmin((1 - fpr_rf) > SP9)])  # Uncomment if needed\n",
    "# plt.plot(fpr_svm, tpr_svm, label='SVM - Sensitivity = %0.2f' % tpr_svm[np.argmin((1 - fpr_svm) > SP9)])  # Uncomment if needed\n",
    "plt.plot(fpr_avg9, tpr_avg9, label='LR - Sensitivity = %0.2f' % tpr_avg9[np.argmin((1 - fpr_avg9) > SP9)])\n",
    "plt.plot(fpr_avg_smag9, tpr_avg_smag9, label='SMAGS - Sensitivity = %0.2f' % tpr_avg_smag9[np.argmin((1 - fpr_avg_smag9) > SP9)])\n",
    "\n",
    "# Final plot settings\n",
    "plt.legend(title='Specificity = 90%')\n",
    "plt.title(\"Receiver Operating Characteristic (ROC) - Specificity\")\n",
    "plt.ylabel('True Positive Rate')\n",
    "plt.xlabel('False Positive Rate')\n",
    "plt.savefig('SM F6-October.png')\n",
    "plt.show()\n"
   ]
  },
  {
   "cell_type": "markdown",
   "id": "9263c866-672c-415c-96c2-e1729b10b4bd",
   "metadata": {},
   "source": [
    "# Feature Selection => SP=0.985"
   ]
  },
  {
   "cell_type": "code",
   "execution_count": 31,
   "id": "245092ce-e973-4b39-afee-645a072eb38c",
   "metadata": {},
   "outputs": [
    {
     "name": "stdout",
     "output_type": "stream",
     "text": [
      "Time taken for feature selection: 2008.71 seconds\n"
     ]
    }
   ],
   "source": [
    "n_selecting_features = 8  # Number of features to keep\n",
    "ti = time()  # Start timer\n",
    "\n",
    "# Perform feature selection\n",
    "selected_features = feature_selection(X, y, SP=0.985, num_features_to_keep=n_selecting_features)\n",
    "\n",
    "# Print time taken for feature selection\n",
    "print('Time taken for feature selection:', np.round(time() - ti, 2), 'seconds')\n"
   ]
  },
  {
   "cell_type": "code",
   "execution_count": 32,
   "id": "85a0e0e1-dcc0-47dc-a4b2-b7689eac5073",
   "metadata": {},
   "outputs": [
    {
     "name": "stderr",
     "output_type": "stream",
     "text": [
      "C:\\Users\\sghasemi\\Anaconda3\\envs\\SMAGS\\lib\\site-packages\\sklearn\\linear_model\\_logistic.py:460: ConvergenceWarning: lbfgs failed to converge (status=1):\n",
      "STOP: TOTAL NO. of ITERATIONS REACHED LIMIT.\n",
      "\n",
      "Increase the number of iterations (max_iter) or scale the data as shown in:\n",
      "    https://scikit-learn.org/stable/modules/preprocessing.html\n",
      "Please also refer to the documentation for alternative solver options:\n",
      "    https://scikit-learn.org/stable/modules/linear_model.html#logistic-regression\n",
      "  n_iter_i = _check_optimize_result(\n"
     ]
    }
   ],
   "source": [
    "# Fit Logistic Regression model using selected features\n",
    "log_res = LogisticRegression(random_state=randomstate).fit(X_train.loc[:, selected_features], y_train)\n",
    "\n",
    "# Extract coefficients and intercept\n",
    "log_coef_res = np.append(log_res.coef_[0], log_res.intercept_)\n",
    "\n",
    "# Predict probabilities for the test set using selected features\n",
    "y_pred_res = np.array(log_res.predict_proba(X_test.loc[:, selected_features]))\n"
   ]
  },
  {
   "cell_type": "markdown",
   "id": "03559347-08c1-44a5-a4d8-acae649224c4",
   "metadata": {},
   "source": [
    "# Figure 3"
   ]
  },
  {
   "cell_type": "code",
   "execution_count": 33,
   "id": "c6c0ea0a-7bd1-411f-b94a-bcf56b15c7aa",
   "metadata": {},
   "outputs": [
    {
     "name": "stderr",
     "output_type": "stream",
     "text": [
      "C:\\Users\\sghasemi\\Anaconda3\\envs\\SMAGS\\lib\\site-packages\\sklearn\\linear_model\\_logistic.py:460: ConvergenceWarning: lbfgs failed to converge (status=1):\n",
      "STOP: TOTAL NO. of ITERATIONS REACHED LIMIT.\n",
      "\n",
      "Increase the number of iterations (max_iter) or scale the data as shown in:\n",
      "    https://scikit-learn.org/stable/modules/preprocessing.html\n",
      "Please also refer to the documentation for alternative solver options:\n",
      "    https://scikit-learn.org/stable/modules/linear_model.html#logistic-regression\n",
      "  n_iter_i = _check_optimize_result(\n"
     ]
    },
    {
     "data": {
      "image/png": "[encoded data removed]",
      "text/plain": [
       "<Figure size 640x480 with 1 Axes>"
      ]
     },
     "metadata": {},
     "output_type": "display_data"
    }
   ],
   "source": [
    "# Calculate ROC curve and AUC for Logistic Regression with selected features\n",
    "fpr_log_res, tpr_log_res, _ = roc_curve(y_test, y_pred_res[:, 1])\n",
    "roc_auc_log_res = auc(fpr_log_res, tpr_log_res)\n",
    "plt.plot(fpr_log_res, tpr_log_res, label='LR - Sensitivity = %0.2f' % tpr_log_res[np.argmin((1 - fpr_log_res) > SP)])\n",
    "\n",
    "# Calculate ROC curve and AUC for SMAGS with selected features\n",
    "smag_coef_res = SMAGS(X=X_train.loc[:, selected_features], y=y_train, SP=SP)[0:(n_selecting_features + 1)]\n",
    "fpr_smag_res, tpr_smag_res, _ = roc_curve(y_test, np.matmul(np.array((X_test.loc[:, selected_features]).assign(I=1)), np.array(smag_coef_res)))\n",
    "roc_auc_smag_res = auc(fpr_smag_res, tpr_smag_res)\n",
    "plt.plot(fpr_smag_res, tpr_smag_res, label='SMAGS - Sensitivity = %0.2f' % tpr_smag_res[np.argmin((1 - fpr_smag_res) > SP)])\n",
    "\n",
    "# Plot customization\n",
    "plt.legend()\n",
    "plt.title(\"Receiver Operating Characteristic (ROC)\")\n",
    "plt.ylabel('True Positive Rate')\n",
    "plt.xlabel('False Positive Rate')\n",
    "plt.savefig('Figure 3-October.png')\n",
    "plt.show()\n"
   ]
  },
  {
   "cell_type": "code",
   "execution_count": 34,
   "id": "99e4250c-8045-4c69-9407-6de74aab6880",
   "metadata": {},
   "outputs": [
    {
     "name": "stdout",
     "output_type": "stream",
     "text": [
      "[0.36 0.59] [0.4  0.62]\n"
     ]
    }
   ],
   "source": [
    "total_positives = sum(y_test)\n",
    "\n",
    "sensitivity_lr=tpr_log_res[np.argmin(1 - fpr_log_res > 0.985)]\n",
    "sensitivity_smags=tpr_smag_res[np.argmin(1 - fpr_smag_res > 0.985)]\n",
    "\n",
    "# True positives at that point (i.e., TPR * total_positives)\n",
    "true_positives_at_point_lr = sensitivity_lr * total_positives\n",
    "true_positives_at_point_smags = sensitivity_smags * total_positives\n",
    "\n",
    "# Confidence interval (using Wilson score interval method)\n",
    "alpha = 0.05  # 95% confidence level\n",
    "ci_lower_lr, ci_upper_lr = stats.binom.interval(1-alpha, total_positives, sensitivity_lr, loc=0)\n",
    "ci_lower_lr = np.round(ci_lower_lr/total_positives,2)  # Normalize to get TPR bounds\n",
    "ci_upper_lr = np.round(ci_upper_lr/total_positives,2)\n",
    "\n",
    "ci_lower_smags, ci_upper_smags = stats.binom.interval(1-alpha, total_positives, sensitivity_smags, loc=0)\n",
    "ci_lower_smags = np.round(ci_lower_smags/total_positives,2)  # Normalize to get TPR bounds\n",
    "ci_upper_smags = np.round(ci_upper_smags/total_positives,2)\n",
    "\n",
    "ci_lr=np.array([ci_lower_lr,ci_upper_lr])\n",
    "ci_smags=np.array([ci_lower_smags,ci_upper_smags])\n",
    "print( ci_lr, ci_smags )"
   ]
  },
  {
   "cell_type": "markdown",
   "id": "6f10f2cd",
   "metadata": {},
   "source": [
    "# LASSO"
   ]
  },
  {
   "cell_type": "code",
   "execution_count": 35,
   "id": "65d021e8-2a37-4b42-8a49-0a5b9c1eb672",
   "metadata": {},
   "outputs": [],
   "source": [
    "# Initialize MinMaxScaler\n",
    "scaler = StandardScaler()\n",
    "\n",
    "# Scale the features (both train and test)\n",
    "X_train_scaled = pd.DataFrame(scaler.fit_transform(X_train), columns=X_train.columns)\n",
    "X_test_scaled = pd.DataFrame(scaler.transform(X_test), columns=X_test.columns)\n"
   ]
  },
  {
   "cell_type": "code",
   "execution_count": 36,
   "id": "a8477998",
   "metadata": {},
   "outputs": [
    {
     "name": "stdout",
     "output_type": "stream",
     "text": [
      "Number of selected features: 8\n"
     ]
    }
   ],
   "source": [
    "# Initialize and fit Lasso regression\n",
    "lasso = Lasso(alpha=0.045, random_state=randomstate) \n",
    "lasso.fit(X_train_scaled, y_train)\n",
    "\n",
    "# Predict on test set\n",
    "y_pred_lasso = lasso.predict(X_test_scaled)\n",
    "\n",
    "# Extract coefficients and features\n",
    "lasso_coefs = np.append(lasso.coef_, lasso.intercept_)\n",
    "lasso_features = X.columns[lasso.coef_ != 0]\n",
    "lasso_col_index = [i for i, j in enumerate(X.columns) if j in lasso_features]\n",
    "\n",
    "# Number of selected features\n",
    "num_selected_features = len(lasso_features)\n",
    "print(f\"Number of selected features: {num_selected_features}\")\n"
   ]
  },
  {
   "cell_type": "markdown",
   "id": "4bd7c2fe",
   "metadata": {},
   "source": [
    " # Figure 4"
   ]
  },
  {
   "cell_type": "code",
   "execution_count": 37,
   "id": "f2ace625",
   "metadata": {},
   "outputs": [
    {
     "data": {
      "image/png": "[encoded data removed]",
      "text/plain": [
       "<Figure size 640x480 with 1 Axes>"
      ]
     },
     "metadata": {},
     "output_type": "display_data"
    }
   ],
   "source": [
    "\n",
    "# Sensitivity and Specificity for LASSO\n",
    "fpr_las, tpr_las, _ = roc_curve(y_test, y_pred_lasso)\n",
    "roc_auc_las = auc(fpr_las, tpr_las)\n",
    "plt.plot(fpr_las, tpr_las, label='LASSO - Sensitivity = %0.2f' % tpr_las[np.argmin((1 - fpr_las) > 0.985)])\n",
    "\n",
    "# Sensitivity and Specificity for SMAGS\n",
    "smag_vs_lass_coef = SMAGS(X=(X_train_scaled.iloc[:, lasso_col_index]), y=y_train, SP=0.985)[:(len(lasso_features) + 1)]\n",
    "fpr_smag_vs_lass, tpr_smag_vs_lass, _ = roc_curve(y_test, np.matmul(np.array((X_test_scaled.iloc[:, lasso_col_index]).assign(I=1)), np.array(smag_vs_lass_coef)))\n",
    "roc_auc_smag_vs_lass = auc(fpr_smag_vs_lass, tpr_smag_vs_lass)\n",
    "plt.plot(fpr_smag_vs_lass, tpr_smag_vs_lass, label='SMAGS - Sensitivity = %0.2f' % tpr_smag_vs_lass[np.argmin((1 - fpr_smag_vs_lass) > 0.985)])\n",
    "\n",
    "# Plotting\n",
    "plt.legend()\n",
    "plt.title(\"Receiver Operating Characteristic (ROC)\")\n",
    "plt.ylabel('True Positive Rate')\n",
    "plt.xlabel('False Positive Rate')\n",
    "plt.savefig('F4-October.png')\n",
    "plt.show()\n"
   ]
  },
  {
   "cell_type": "code",
   "execution_count": 38,
   "id": "aa798463-996b-4286-8575-20b997c4c452",
   "metadata": {},
   "outputs": [
    {
     "name": "stdout",
     "output_type": "stream",
     "text": [
      "[0.36 0.59] [0.41 0.64]\n"
     ]
    }
   ],
   "source": [
    "total_positives = sum(y_test)\n",
    "\n",
    "sensitivity_lr=tpr_las[np.argmin(1 - fpr_las > 0.985)]\n",
    "sensitivity_smags=tpr_smag_vs_lass[np.argmin(1 - fpr_smag_vs_lass > 0.985)]\n",
    "\n",
    "# True positives at that point (i.e., TPR * total_positives)\n",
    "true_positives_at_point_lr = sensitivity_lr * total_positives\n",
    "true_positives_at_point_smags = sensitivity_smags * total_positives\n",
    "\n",
    "# Confidence interval (using Wilson score interval method)\n",
    "alpha = 0.05  # 95% confidence level\n",
    "ci_lower_lr, ci_upper_lr = stats.binom.interval(1-alpha, total_positives, sensitivity_lr, loc=0)\n",
    "ci_lower_lr = np.round(ci_lower_lr/total_positives,2)  # Normalize to get TPR bounds\n",
    "ci_upper_lr = np.round(ci_upper_lr/total_positives,2)\n",
    "\n",
    "ci_lower_smags, ci_upper_smags = stats.binom.interval(1-alpha, total_positives, sensitivity_smags, loc=0)\n",
    "ci_lower_smags = np.round(ci_lower_smags/total_positives,2)  # Normalize to get TPR bounds\n",
    "ci_upper_smags = np.round(ci_upper_smags/total_positives,2)\n",
    "\n",
    "ci_lr=np.array([ci_lower_lr,ci_upper_lr])\n",
    "ci_smags=np.array([ci_lower_smags,ci_upper_smags])\n",
    "print( ci_lr, ci_smags )"
   ]
  },
  {
   "cell_type": "markdown",
   "id": "ff669685-4858-41e6-a5f5-a21d25ff1090",
   "metadata": {},
   "source": [
    "# SM Figure 7"
   ]
  },
  {
   "cell_type": "code",
   "execution_count": 39,
   "id": "386613a7-e00b-455c-afc0-69a30964e01d",
   "metadata": {},
   "outputs": [
    {
     "name": "stderr",
     "output_type": "stream",
     "text": [
      "C:\\Users\\sghasemi\\Anaconda3\\envs\\SMAGS\\lib\\site-packages\\sklearn\\linear_model\\_logistic.py:460: ConvergenceWarning: lbfgs failed to converge (status=1):\n",
      "STOP: TOTAL NO. of ITERATIONS REACHED LIMIT.\n",
      "\n",
      "Increase the number of iterations (max_iter) or scale the data as shown in:\n",
      "    https://scikit-learn.org/stable/modules/preprocessing.html\n",
      "Please also refer to the documentation for alternative solver options:\n",
      "    https://scikit-learn.org/stable/modules/linear_model.html#logistic-regression\n",
      "  n_iter_i = _check_optimize_result(\n",
      "C:\\Users\\sghasemi\\Anaconda3\\envs\\SMAGS\\lib\\site-packages\\sklearn\\linear_model\\_logistic.py:460: ConvergenceWarning: lbfgs failed to converge (status=1):\n",
      "STOP: TOTAL NO. of ITERATIONS REACHED LIMIT.\n",
      "\n",
      "Increase the number of iterations (max_iter) or scale the data as shown in:\n",
      "    https://scikit-learn.org/stable/modules/preprocessing.html\n",
      "Please also refer to the documentation for alternative solver options:\n",
      "    https://scikit-learn.org/stable/modules/linear_model.html#logistic-regression\n",
      "  n_iter_i = _check_optimize_result(\n"
     ]
    },
    {
     "name": "stdout",
     "output_type": "stream",
     "text": [
      "0\n"
     ]
    },
    {
     "name": "stderr",
     "output_type": "stream",
     "text": [
      "C:\\Users\\sghasemi\\Anaconda3\\envs\\SMAGS\\lib\\site-packages\\sklearn\\linear_model\\_logistic.py:460: ConvergenceWarning: lbfgs failed to converge (status=1):\n",
      "STOP: TOTAL NO. of ITERATIONS REACHED LIMIT.\n",
      "\n",
      "Increase the number of iterations (max_iter) or scale the data as shown in:\n",
      "    https://scikit-learn.org/stable/modules/preprocessing.html\n",
      "Please also refer to the documentation for alternative solver options:\n",
      "    https://scikit-learn.org/stable/modules/linear_model.html#logistic-regression\n",
      "  n_iter_i = _check_optimize_result(\n",
      "C:\\Users\\sghasemi\\Anaconda3\\envs\\SMAGS\\lib\\site-packages\\sklearn\\linear_model\\_logistic.py:460: ConvergenceWarning: lbfgs failed to converge (status=1):\n",
      "STOP: TOTAL NO. of ITERATIONS REACHED LIMIT.\n",
      "\n",
      "Increase the number of iterations (max_iter) or scale the data as shown in:\n",
      "    https://scikit-learn.org/stable/modules/preprocessing.html\n",
      "Please also refer to the documentation for alternative solver options:\n",
      "    https://scikit-learn.org/stable/modules/linear_model.html#logistic-regression\n",
      "  n_iter_i = _check_optimize_result(\n"
     ]
    },
    {
     "name": "stdout",
     "output_type": "stream",
     "text": [
      "1\n"
     ]
    },
    {
     "name": "stderr",
     "output_type": "stream",
     "text": [
      "C:\\Users\\sghasemi\\Anaconda3\\envs\\SMAGS\\lib\\site-packages\\sklearn\\linear_model\\_logistic.py:460: ConvergenceWarning: lbfgs failed to converge (status=1):\n",
      "STOP: TOTAL NO. of ITERATIONS REACHED LIMIT.\n",
      "\n",
      "Increase the number of iterations (max_iter) or scale the data as shown in:\n",
      "    https://scikit-learn.org/stable/modules/preprocessing.html\n",
      "Please also refer to the documentation for alternative solver options:\n",
      "    https://scikit-learn.org/stable/modules/linear_model.html#logistic-regression\n",
      "  n_iter_i = _check_optimize_result(\n",
      "C:\\Users\\sghasemi\\Anaconda3\\envs\\SMAGS\\lib\\site-packages\\sklearn\\linear_model\\_logistic.py:460: ConvergenceWarning: lbfgs failed to converge (status=1):\n",
      "STOP: TOTAL NO. of ITERATIONS REACHED LIMIT.\n",
      "\n",
      "Increase the number of iterations (max_iter) or scale the data as shown in:\n",
      "    https://scikit-learn.org/stable/modules/preprocessing.html\n",
      "Please also refer to the documentation for alternative solver options:\n",
      "    https://scikit-learn.org/stable/modules/linear_model.html#logistic-regression\n",
      "  n_iter_i = _check_optimize_result(\n"
     ]
    },
    {
     "name": "stdout",
     "output_type": "stream",
     "text": [
      "2\n"
     ]
    },
    {
     "name": "stderr",
     "output_type": "stream",
     "text": [
      "C:\\Users\\sghasemi\\Anaconda3\\envs\\SMAGS\\lib\\site-packages\\sklearn\\linear_model\\_logistic.py:460: ConvergenceWarning: lbfgs failed to converge (status=1):\n",
      "STOP: TOTAL NO. of ITERATIONS REACHED LIMIT.\n",
      "\n",
      "Increase the number of iterations (max_iter) or scale the data as shown in:\n",
      "    https://scikit-learn.org/stable/modules/preprocessing.html\n",
      "Please also refer to the documentation for alternative solver options:\n",
      "    https://scikit-learn.org/stable/modules/linear_model.html#logistic-regression\n",
      "  n_iter_i = _check_optimize_result(\n",
      "C:\\Users\\sghasemi\\Anaconda3\\envs\\SMAGS\\lib\\site-packages\\sklearn\\linear_model\\_logistic.py:460: ConvergenceWarning: lbfgs failed to converge (status=1):\n",
      "STOP: TOTAL NO. of ITERATIONS REACHED LIMIT.\n",
      "\n",
      "Increase the number of iterations (max_iter) or scale the data as shown in:\n",
      "    https://scikit-learn.org/stable/modules/preprocessing.html\n",
      "Please also refer to the documentation for alternative solver options:\n",
      "    https://scikit-learn.org/stable/modules/linear_model.html#logistic-regression\n",
      "  n_iter_i = _check_optimize_result(\n"
     ]
    },
    {
     "name": "stdout",
     "output_type": "stream",
     "text": [
      "3\n"
     ]
    },
    {
     "name": "stderr",
     "output_type": "stream",
     "text": [
      "C:\\Users\\sghasemi\\Anaconda3\\envs\\SMAGS\\lib\\site-packages\\sklearn\\linear_model\\_logistic.py:460: ConvergenceWarning: lbfgs failed to converge (status=1):\n",
      "STOP: TOTAL NO. of ITERATIONS REACHED LIMIT.\n",
      "\n",
      "Increase the number of iterations (max_iter) or scale the data as shown in:\n",
      "    https://scikit-learn.org/stable/modules/preprocessing.html\n",
      "Please also refer to the documentation for alternative solver options:\n",
      "    https://scikit-learn.org/stable/modules/linear_model.html#logistic-regression\n",
      "  n_iter_i = _check_optimize_result(\n",
      "C:\\Users\\sghasemi\\Anaconda3\\envs\\SMAGS\\lib\\site-packages\\sklearn\\linear_model\\_logistic.py:460: ConvergenceWarning: lbfgs failed to converge (status=1):\n",
      "STOP: TOTAL NO. of ITERATIONS REACHED LIMIT.\n",
      "\n",
      "Increase the number of iterations (max_iter) or scale the data as shown in:\n",
      "    https://scikit-learn.org/stable/modules/preprocessing.html\n",
      "Please also refer to the documentation for alternative solver options:\n",
      "    https://scikit-learn.org/stable/modules/linear_model.html#logistic-regression\n",
      "  n_iter_i = _check_optimize_result(\n"
     ]
    },
    {
     "name": "stdout",
     "output_type": "stream",
     "text": [
      "4\n"
     ]
    },
    {
     "name": "stderr",
     "output_type": "stream",
     "text": [
      "C:\\Users\\sghasemi\\Anaconda3\\envs\\SMAGS\\lib\\site-packages\\sklearn\\linear_model\\_logistic.py:460: ConvergenceWarning: lbfgs failed to converge (status=1):\n",
      "STOP: TOTAL NO. of ITERATIONS REACHED LIMIT.\n",
      "\n",
      "Increase the number of iterations (max_iter) or scale the data as shown in:\n",
      "    https://scikit-learn.org/stable/modules/preprocessing.html\n",
      "Please also refer to the documentation for alternative solver options:\n",
      "    https://scikit-learn.org/stable/modules/linear_model.html#logistic-regression\n",
      "  n_iter_i = _check_optimize_result(\n",
      "C:\\Users\\sghasemi\\Anaconda3\\envs\\SMAGS\\lib\\site-packages\\sklearn\\linear_model\\_logistic.py:460: ConvergenceWarning: lbfgs failed to converge (status=1):\n",
      "STOP: TOTAL NO. of ITERATIONS REACHED LIMIT.\n",
      "\n",
      "Increase the number of iterations (max_iter) or scale the data as shown in:\n",
      "    https://scikit-learn.org/stable/modules/preprocessing.html\n",
      "Please also refer to the documentation for alternative solver options:\n",
      "    https://scikit-learn.org/stable/modules/linear_model.html#logistic-regression\n",
      "  n_iter_i = _check_optimize_result(\n"
     ]
    },
    {
     "name": "stdout",
     "output_type": "stream",
     "text": [
      "5\n"
     ]
    },
    {
     "name": "stderr",
     "output_type": "stream",
     "text": [
      "C:\\Users\\sghasemi\\Anaconda3\\envs\\SMAGS\\lib\\site-packages\\sklearn\\linear_model\\_logistic.py:460: ConvergenceWarning: lbfgs failed to converge (status=1):\n",
      "STOP: TOTAL NO. of ITERATIONS REACHED LIMIT.\n",
      "\n",
      "Increase the number of iterations (max_iter) or scale the data as shown in:\n",
      "    https://scikit-learn.org/stable/modules/preprocessing.html\n",
      "Please also refer to the documentation for alternative solver options:\n",
      "    https://scikit-learn.org/stable/modules/linear_model.html#logistic-regression\n",
      "  n_iter_i = _check_optimize_result(\n",
      "C:\\Users\\sghasemi\\Anaconda3\\envs\\SMAGS\\lib\\site-packages\\sklearn\\linear_model\\_logistic.py:460: ConvergenceWarning: lbfgs failed to converge (status=1):\n",
      "STOP: TOTAL NO. of ITERATIONS REACHED LIMIT.\n",
      "\n",
      "Increase the number of iterations (max_iter) or scale the data as shown in:\n",
      "    https://scikit-learn.org/stable/modules/preprocessing.html\n",
      "Please also refer to the documentation for alternative solver options:\n",
      "    https://scikit-learn.org/stable/modules/linear_model.html#logistic-regression\n",
      "  n_iter_i = _check_optimize_result(\n"
     ]
    },
    {
     "name": "stdout",
     "output_type": "stream",
     "text": [
      "6\n"
     ]
    },
    {
     "name": "stderr",
     "output_type": "stream",
     "text": [
      "C:\\Users\\sghasemi\\Anaconda3\\envs\\SMAGS\\lib\\site-packages\\sklearn\\linear_model\\_logistic.py:460: ConvergenceWarning: lbfgs failed to converge (status=1):\n",
      "STOP: TOTAL NO. of ITERATIONS REACHED LIMIT.\n",
      "\n",
      "Increase the number of iterations (max_iter) or scale the data as shown in:\n",
      "    https://scikit-learn.org/stable/modules/preprocessing.html\n",
      "Please also refer to the documentation for alternative solver options:\n",
      "    https://scikit-learn.org/stable/modules/linear_model.html#logistic-regression\n",
      "  n_iter_i = _check_optimize_result(\n",
      "C:\\Users\\sghasemi\\Anaconda3\\envs\\SMAGS\\lib\\site-packages\\sklearn\\linear_model\\_logistic.py:460: ConvergenceWarning: lbfgs failed to converge (status=1):\n",
      "STOP: TOTAL NO. of ITERATIONS REACHED LIMIT.\n",
      "\n",
      "Increase the number of iterations (max_iter) or scale the data as shown in:\n",
      "    https://scikit-learn.org/stable/modules/preprocessing.html\n",
      "Please also refer to the documentation for alternative solver options:\n",
      "    https://scikit-learn.org/stable/modules/linear_model.html#logistic-regression\n",
      "  n_iter_i = _check_optimize_result(\n"
     ]
    },
    {
     "name": "stdout",
     "output_type": "stream",
     "text": [
      "7\n"
     ]
    },
    {
     "name": "stderr",
     "output_type": "stream",
     "text": [
      "C:\\Users\\sghasemi\\Anaconda3\\envs\\SMAGS\\lib\\site-packages\\sklearn\\linear_model\\_logistic.py:460: ConvergenceWarning: lbfgs failed to converge (status=1):\n",
      "STOP: TOTAL NO. of ITERATIONS REACHED LIMIT.\n",
      "\n",
      "Increase the number of iterations (max_iter) or scale the data as shown in:\n",
      "    https://scikit-learn.org/stable/modules/preprocessing.html\n",
      "Please also refer to the documentation for alternative solver options:\n",
      "    https://scikit-learn.org/stable/modules/linear_model.html#logistic-regression\n",
      "  n_iter_i = _check_optimize_result(\n",
      "C:\\Users\\sghasemi\\Anaconda3\\envs\\SMAGS\\lib\\site-packages\\sklearn\\linear_model\\_logistic.py:460: ConvergenceWarning: lbfgs failed to converge (status=1):\n",
      "STOP: TOTAL NO. of ITERATIONS REACHED LIMIT.\n",
      "\n",
      "Increase the number of iterations (max_iter) or scale the data as shown in:\n",
      "    https://scikit-learn.org/stable/modules/preprocessing.html\n",
      "Please also refer to the documentation for alternative solver options:\n",
      "    https://scikit-learn.org/stable/modules/linear_model.html#logistic-regression\n",
      "  n_iter_i = _check_optimize_result(\n"
     ]
    },
    {
     "name": "stdout",
     "output_type": "stream",
     "text": [
      "8\n"
     ]
    },
    {
     "name": "stderr",
     "output_type": "stream",
     "text": [
      "C:\\Users\\sghasemi\\Anaconda3\\envs\\SMAGS\\lib\\site-packages\\sklearn\\linear_model\\_logistic.py:460: ConvergenceWarning: lbfgs failed to converge (status=1):\n",
      "STOP: TOTAL NO. of ITERATIONS REACHED LIMIT.\n",
      "\n",
      "Increase the number of iterations (max_iter) or scale the data as shown in:\n",
      "    https://scikit-learn.org/stable/modules/preprocessing.html\n",
      "Please also refer to the documentation for alternative solver options:\n",
      "    https://scikit-learn.org/stable/modules/linear_model.html#logistic-regression\n",
      "  n_iter_i = _check_optimize_result(\n",
      "C:\\Users\\sghasemi\\Anaconda3\\envs\\SMAGS\\lib\\site-packages\\sklearn\\linear_model\\_logistic.py:460: ConvergenceWarning: lbfgs failed to converge (status=1):\n",
      "STOP: TOTAL NO. of ITERATIONS REACHED LIMIT.\n",
      "\n",
      "Increase the number of iterations (max_iter) or scale the data as shown in:\n",
      "    https://scikit-learn.org/stable/modules/preprocessing.html\n",
      "Please also refer to the documentation for alternative solver options:\n",
      "    https://scikit-learn.org/stable/modules/linear_model.html#logistic-regression\n",
      "  n_iter_i = _check_optimize_result(\n"
     ]
    },
    {
     "name": "stdout",
     "output_type": "stream",
     "text": [
      "9\n"
     ]
    },
    {
     "name": "stderr",
     "output_type": "stream",
     "text": [
      "C:\\Users\\sghasemi\\Anaconda3\\envs\\SMAGS\\lib\\site-packages\\sklearn\\linear_model\\_logistic.py:460: ConvergenceWarning: lbfgs failed to converge (status=1):\n",
      "STOP: TOTAL NO. of ITERATIONS REACHED LIMIT.\n",
      "\n",
      "Increase the number of iterations (max_iter) or scale the data as shown in:\n",
      "    https://scikit-learn.org/stable/modules/preprocessing.html\n",
      "Please also refer to the documentation for alternative solver options:\n",
      "    https://scikit-learn.org/stable/modules/linear_model.html#logistic-regression\n",
      "  n_iter_i = _check_optimize_result(\n",
      "C:\\Users\\sghasemi\\Anaconda3\\envs\\SMAGS\\lib\\site-packages\\sklearn\\linear_model\\_logistic.py:460: ConvergenceWarning: lbfgs failed to converge (status=1):\n",
      "STOP: TOTAL NO. of ITERATIONS REACHED LIMIT.\n",
      "\n",
      "Increase the number of iterations (max_iter) or scale the data as shown in:\n",
      "    https://scikit-learn.org/stable/modules/preprocessing.html\n",
      "Please also refer to the documentation for alternative solver options:\n",
      "    https://scikit-learn.org/stable/modules/linear_model.html#logistic-regression\n",
      "  n_iter_i = _check_optimize_result(\n"
     ]
    },
    {
     "name": "stdout",
     "output_type": "stream",
     "text": [
      "10\n"
     ]
    },
    {
     "name": "stderr",
     "output_type": "stream",
     "text": [
      "C:\\Users\\sghasemi\\Anaconda3\\envs\\SMAGS\\lib\\site-packages\\sklearn\\linear_model\\_logistic.py:460: ConvergenceWarning: lbfgs failed to converge (status=1):\n",
      "STOP: TOTAL NO. of ITERATIONS REACHED LIMIT.\n",
      "\n",
      "Increase the number of iterations (max_iter) or scale the data as shown in:\n",
      "    https://scikit-learn.org/stable/modules/preprocessing.html\n",
      "Please also refer to the documentation for alternative solver options:\n",
      "    https://scikit-learn.org/stable/modules/linear_model.html#logistic-regression\n",
      "  n_iter_i = _check_optimize_result(\n",
      "C:\\Users\\sghasemi\\Anaconda3\\envs\\SMAGS\\lib\\site-packages\\sklearn\\linear_model\\_logistic.py:460: ConvergenceWarning: lbfgs failed to converge (status=1):\n",
      "STOP: TOTAL NO. of ITERATIONS REACHED LIMIT.\n",
      "\n",
      "Increase the number of iterations (max_iter) or scale the data as shown in:\n",
      "    https://scikit-learn.org/stable/modules/preprocessing.html\n",
      "Please also refer to the documentation for alternative solver options:\n",
      "    https://scikit-learn.org/stable/modules/linear_model.html#logistic-regression\n",
      "  n_iter_i = _check_optimize_result(\n"
     ]
    },
    {
     "name": "stdout",
     "output_type": "stream",
     "text": [
      "11\n"
     ]
    },
    {
     "name": "stderr",
     "output_type": "stream",
     "text": [
      "C:\\Users\\sghasemi\\Anaconda3\\envs\\SMAGS\\lib\\site-packages\\sklearn\\linear_model\\_logistic.py:460: ConvergenceWarning: lbfgs failed to converge (status=1):\n",
      "STOP: TOTAL NO. of ITERATIONS REACHED LIMIT.\n",
      "\n",
      "Increase the number of iterations (max_iter) or scale the data as shown in:\n",
      "    https://scikit-learn.org/stable/modules/preprocessing.html\n",
      "Please also refer to the documentation for alternative solver options:\n",
      "    https://scikit-learn.org/stable/modules/linear_model.html#logistic-regression\n",
      "  n_iter_i = _check_optimize_result(\n",
      "C:\\Users\\sghasemi\\Anaconda3\\envs\\SMAGS\\lib\\site-packages\\sklearn\\linear_model\\_logistic.py:460: ConvergenceWarning: lbfgs failed to converge (status=1):\n",
      "STOP: TOTAL NO. of ITERATIONS REACHED LIMIT.\n",
      "\n",
      "Increase the number of iterations (max_iter) or scale the data as shown in:\n",
      "    https://scikit-learn.org/stable/modules/preprocessing.html\n",
      "Please also refer to the documentation for alternative solver options:\n",
      "    https://scikit-learn.org/stable/modules/linear_model.html#logistic-regression\n",
      "  n_iter_i = _check_optimize_result(\n"
     ]
    },
    {
     "name": "stdout",
     "output_type": "stream",
     "text": [
      "12\n"
     ]
    },
    {
     "name": "stderr",
     "output_type": "stream",
     "text": [
      "C:\\Users\\sghasemi\\Anaconda3\\envs\\SMAGS\\lib\\site-packages\\sklearn\\linear_model\\_logistic.py:460: ConvergenceWarning: lbfgs failed to converge (status=1):\n",
      "STOP: TOTAL NO. of ITERATIONS REACHED LIMIT.\n",
      "\n",
      "Increase the number of iterations (max_iter) or scale the data as shown in:\n",
      "    https://scikit-learn.org/stable/modules/preprocessing.html\n",
      "Please also refer to the documentation for alternative solver options:\n",
      "    https://scikit-learn.org/stable/modules/linear_model.html#logistic-regression\n",
      "  n_iter_i = _check_optimize_result(\n",
      "C:\\Users\\sghasemi\\Anaconda3\\envs\\SMAGS\\lib\\site-packages\\sklearn\\linear_model\\_logistic.py:460: ConvergenceWarning: lbfgs failed to converge (status=1):\n",
      "STOP: TOTAL NO. of ITERATIONS REACHED LIMIT.\n",
      "\n",
      "Increase the number of iterations (max_iter) or scale the data as shown in:\n",
      "    https://scikit-learn.org/stable/modules/preprocessing.html\n",
      "Please also refer to the documentation for alternative solver options:\n",
      "    https://scikit-learn.org/stable/modules/linear_model.html#logistic-regression\n",
      "  n_iter_i = _check_optimize_result(\n"
     ]
    },
    {
     "name": "stdout",
     "output_type": "stream",
     "text": [
      "13\n"
     ]
    },
    {
     "name": "stderr",
     "output_type": "stream",
     "text": [
      "C:\\Users\\sghasemi\\Anaconda3\\envs\\SMAGS\\lib\\site-packages\\sklearn\\linear_model\\_logistic.py:460: ConvergenceWarning: lbfgs failed to converge (status=1):\n",
      "STOP: TOTAL NO. of ITERATIONS REACHED LIMIT.\n",
      "\n",
      "Increase the number of iterations (max_iter) or scale the data as shown in:\n",
      "    https://scikit-learn.org/stable/modules/preprocessing.html\n",
      "Please also refer to the documentation for alternative solver options:\n",
      "    https://scikit-learn.org/stable/modules/linear_model.html#logistic-regression\n",
      "  n_iter_i = _check_optimize_result(\n",
      "C:\\Users\\sghasemi\\Anaconda3\\envs\\SMAGS\\lib\\site-packages\\sklearn\\linear_model\\_logistic.py:460: ConvergenceWarning: lbfgs failed to converge (status=1):\n",
      "STOP: TOTAL NO. of ITERATIONS REACHED LIMIT.\n",
      "\n",
      "Increase the number of iterations (max_iter) or scale the data as shown in:\n",
      "    https://scikit-learn.org/stable/modules/preprocessing.html\n",
      "Please also refer to the documentation for alternative solver options:\n",
      "    https://scikit-learn.org/stable/modules/linear_model.html#logistic-regression\n",
      "  n_iter_i = _check_optimize_result(\n"
     ]
    },
    {
     "name": "stdout",
     "output_type": "stream",
     "text": [
      "14\n"
     ]
    },
    {
     "name": "stderr",
     "output_type": "stream",
     "text": [
      "C:\\Users\\sghasemi\\Anaconda3\\envs\\SMAGS\\lib\\site-packages\\sklearn\\linear_model\\_logistic.py:460: ConvergenceWarning: lbfgs failed to converge (status=1):\n",
      "STOP: TOTAL NO. of ITERATIONS REACHED LIMIT.\n",
      "\n",
      "Increase the number of iterations (max_iter) or scale the data as shown in:\n",
      "    https://scikit-learn.org/stable/modules/preprocessing.html\n",
      "Please also refer to the documentation for alternative solver options:\n",
      "    https://scikit-learn.org/stable/modules/linear_model.html#logistic-regression\n",
      "  n_iter_i = _check_optimize_result(\n",
      "C:\\Users\\sghasemi\\Anaconda3\\envs\\SMAGS\\lib\\site-packages\\sklearn\\linear_model\\_logistic.py:460: ConvergenceWarning: lbfgs failed to converge (status=1):\n",
      "STOP: TOTAL NO. of ITERATIONS REACHED LIMIT.\n",
      "\n",
      "Increase the number of iterations (max_iter) or scale the data as shown in:\n",
      "    https://scikit-learn.org/stable/modules/preprocessing.html\n",
      "Please also refer to the documentation for alternative solver options:\n",
      "    https://scikit-learn.org/stable/modules/linear_model.html#logistic-regression\n",
      "  n_iter_i = _check_optimize_result(\n"
     ]
    },
    {
     "name": "stdout",
     "output_type": "stream",
     "text": [
      "15\n"
     ]
    },
    {
     "name": "stderr",
     "output_type": "stream",
     "text": [
      "C:\\Users\\sghasemi\\Anaconda3\\envs\\SMAGS\\lib\\site-packages\\sklearn\\linear_model\\_logistic.py:460: ConvergenceWarning: lbfgs failed to converge (status=1):\n",
      "STOP: TOTAL NO. of ITERATIONS REACHED LIMIT.\n",
      "\n",
      "Increase the number of iterations (max_iter) or scale the data as shown in:\n",
      "    https://scikit-learn.org/stable/modules/preprocessing.html\n",
      "Please also refer to the documentation for alternative solver options:\n",
      "    https://scikit-learn.org/stable/modules/linear_model.html#logistic-regression\n",
      "  n_iter_i = _check_optimize_result(\n",
      "C:\\Users\\sghasemi\\Anaconda3\\envs\\SMAGS\\lib\\site-packages\\sklearn\\linear_model\\_logistic.py:460: ConvergenceWarning: lbfgs failed to converge (status=1):\n",
      "STOP: TOTAL NO. of ITERATIONS REACHED LIMIT.\n",
      "\n",
      "Increase the number of iterations (max_iter) or scale the data as shown in:\n",
      "    https://scikit-learn.org/stable/modules/preprocessing.html\n",
      "Please also refer to the documentation for alternative solver options:\n",
      "    https://scikit-learn.org/stable/modules/linear_model.html#logistic-regression\n",
      "  n_iter_i = _check_optimize_result(\n"
     ]
    },
    {
     "name": "stdout",
     "output_type": "stream",
     "text": [
      "16\n"
     ]
    },
    {
     "name": "stderr",
     "output_type": "stream",
     "text": [
      "C:\\Users\\sghasemi\\Anaconda3\\envs\\SMAGS\\lib\\site-packages\\sklearn\\linear_model\\_logistic.py:460: ConvergenceWarning: lbfgs failed to converge (status=1):\n",
      "STOP: TOTAL NO. of ITERATIONS REACHED LIMIT.\n",
      "\n",
      "Increase the number of iterations (max_iter) or scale the data as shown in:\n",
      "    https://scikit-learn.org/stable/modules/preprocessing.html\n",
      "Please also refer to the documentation for alternative solver options:\n",
      "    https://scikit-learn.org/stable/modules/linear_model.html#logistic-regression\n",
      "  n_iter_i = _check_optimize_result(\n",
      "C:\\Users\\sghasemi\\Anaconda3\\envs\\SMAGS\\lib\\site-packages\\sklearn\\linear_model\\_logistic.py:460: ConvergenceWarning: lbfgs failed to converge (status=1):\n",
      "STOP: TOTAL NO. of ITERATIONS REACHED LIMIT.\n",
      "\n",
      "Increase the number of iterations (max_iter) or scale the data as shown in:\n",
      "    https://scikit-learn.org/stable/modules/preprocessing.html\n",
      "Please also refer to the documentation for alternative solver options:\n",
      "    https://scikit-learn.org/stable/modules/linear_model.html#logistic-regression\n",
      "  n_iter_i = _check_optimize_result(\n"
     ]
    },
    {
     "name": "stdout",
     "output_type": "stream",
     "text": [
      "17\n"
     ]
    },
    {
     "name": "stderr",
     "output_type": "stream",
     "text": [
      "C:\\Users\\sghasemi\\Anaconda3\\envs\\SMAGS\\lib\\site-packages\\sklearn\\linear_model\\_logistic.py:460: ConvergenceWarning: lbfgs failed to converge (status=1):\n",
      "STOP: TOTAL NO. of ITERATIONS REACHED LIMIT.\n",
      "\n",
      "Increase the number of iterations (max_iter) or scale the data as shown in:\n",
      "    https://scikit-learn.org/stable/modules/preprocessing.html\n",
      "Please also refer to the documentation for alternative solver options:\n",
      "    https://scikit-learn.org/stable/modules/linear_model.html#logistic-regression\n",
      "  n_iter_i = _check_optimize_result(\n",
      "C:\\Users\\sghasemi\\Anaconda3\\envs\\SMAGS\\lib\\site-packages\\sklearn\\linear_model\\_logistic.py:460: ConvergenceWarning: lbfgs failed to converge (status=1):\n",
      "STOP: TOTAL NO. of ITERATIONS REACHED LIMIT.\n",
      "\n",
      "Increase the number of iterations (max_iter) or scale the data as shown in:\n",
      "    https://scikit-learn.org/stable/modules/preprocessing.html\n",
      "Please also refer to the documentation for alternative solver options:\n",
      "    https://scikit-learn.org/stable/modules/linear_model.html#logistic-regression\n",
      "  n_iter_i = _check_optimize_result(\n"
     ]
    },
    {
     "name": "stdout",
     "output_type": "stream",
     "text": [
      "18\n"
     ]
    },
    {
     "name": "stderr",
     "output_type": "stream",
     "text": [
      "C:\\Users\\sghasemi\\Anaconda3\\envs\\SMAGS\\lib\\site-packages\\sklearn\\linear_model\\_logistic.py:460: ConvergenceWarning: lbfgs failed to converge (status=1):\n",
      "STOP: TOTAL NO. of ITERATIONS REACHED LIMIT.\n",
      "\n",
      "Increase the number of iterations (max_iter) or scale the data as shown in:\n",
      "    https://scikit-learn.org/stable/modules/preprocessing.html\n",
      "Please also refer to the documentation for alternative solver options:\n",
      "    https://scikit-learn.org/stable/modules/linear_model.html#logistic-regression\n",
      "  n_iter_i = _check_optimize_result(\n",
      "C:\\Users\\sghasemi\\Anaconda3\\envs\\SMAGS\\lib\\site-packages\\sklearn\\linear_model\\_logistic.py:460: ConvergenceWarning: lbfgs failed to converge (status=1):\n",
      "STOP: TOTAL NO. of ITERATIONS REACHED LIMIT.\n",
      "\n",
      "Increase the number of iterations (max_iter) or scale the data as shown in:\n",
      "    https://scikit-learn.org/stable/modules/preprocessing.html\n",
      "Please also refer to the documentation for alternative solver options:\n",
      "    https://scikit-learn.org/stable/modules/linear_model.html#logistic-regression\n",
      "  n_iter_i = _check_optimize_result(\n"
     ]
    },
    {
     "name": "stdout",
     "output_type": "stream",
     "text": [
      "19\n"
     ]
    },
    {
     "name": "stderr",
     "output_type": "stream",
     "text": [
      "C:\\Users\\sghasemi\\Anaconda3\\envs\\SMAGS\\lib\\site-packages\\sklearn\\linear_model\\_logistic.py:460: ConvergenceWarning: lbfgs failed to converge (status=1):\n",
      "STOP: TOTAL NO. of ITERATIONS REACHED LIMIT.\n",
      "\n",
      "Increase the number of iterations (max_iter) or scale the data as shown in:\n",
      "    https://scikit-learn.org/stable/modules/preprocessing.html\n",
      "Please also refer to the documentation for alternative solver options:\n",
      "    https://scikit-learn.org/stable/modules/linear_model.html#logistic-regression\n",
      "  n_iter_i = _check_optimize_result(\n",
      "C:\\Users\\sghasemi\\Anaconda3\\envs\\SMAGS\\lib\\site-packages\\sklearn\\linear_model\\_logistic.py:460: ConvergenceWarning: lbfgs failed to converge (status=1):\n",
      "STOP: TOTAL NO. of ITERATIONS REACHED LIMIT.\n",
      "\n",
      "Increase the number of iterations (max_iter) or scale the data as shown in:\n",
      "    https://scikit-learn.org/stable/modules/preprocessing.html\n",
      "Please also refer to the documentation for alternative solver options:\n",
      "    https://scikit-learn.org/stable/modules/linear_model.html#logistic-regression\n",
      "  n_iter_i = _check_optimize_result(\n"
     ]
    },
    {
     "name": "stdout",
     "output_type": "stream",
     "text": [
      "20\n"
     ]
    },
    {
     "name": "stderr",
     "output_type": "stream",
     "text": [
      "C:\\Users\\sghasemi\\Anaconda3\\envs\\SMAGS\\lib\\site-packages\\sklearn\\linear_model\\_logistic.py:460: ConvergenceWarning: lbfgs failed to converge (status=1):\n",
      "STOP: TOTAL NO. of ITERATIONS REACHED LIMIT.\n",
      "\n",
      "Increase the number of iterations (max_iter) or scale the data as shown in:\n",
      "    https://scikit-learn.org/stable/modules/preprocessing.html\n",
      "Please also refer to the documentation for alternative solver options:\n",
      "    https://scikit-learn.org/stable/modules/linear_model.html#logistic-regression\n",
      "  n_iter_i = _check_optimize_result(\n",
      "C:\\Users\\sghasemi\\Anaconda3\\envs\\SMAGS\\lib\\site-packages\\sklearn\\linear_model\\_logistic.py:460: ConvergenceWarning: lbfgs failed to converge (status=1):\n",
      "STOP: TOTAL NO. of ITERATIONS REACHED LIMIT.\n",
      "\n",
      "Increase the number of iterations (max_iter) or scale the data as shown in:\n",
      "    https://scikit-learn.org/stable/modules/preprocessing.html\n",
      "Please also refer to the documentation for alternative solver options:\n",
      "    https://scikit-learn.org/stable/modules/linear_model.html#logistic-regression\n",
      "  n_iter_i = _check_optimize_result(\n"
     ]
    },
    {
     "name": "stdout",
     "output_type": "stream",
     "text": [
      "21\n"
     ]
    },
    {
     "name": "stderr",
     "output_type": "stream",
     "text": [
      "C:\\Users\\sghasemi\\Anaconda3\\envs\\SMAGS\\lib\\site-packages\\sklearn\\linear_model\\_logistic.py:460: ConvergenceWarning: lbfgs failed to converge (status=1):\n",
      "STOP: TOTAL NO. of ITERATIONS REACHED LIMIT.\n",
      "\n",
      "Increase the number of iterations (max_iter) or scale the data as shown in:\n",
      "    https://scikit-learn.org/stable/modules/preprocessing.html\n",
      "Please also refer to the documentation for alternative solver options:\n",
      "    https://scikit-learn.org/stable/modules/linear_model.html#logistic-regression\n",
      "  n_iter_i = _check_optimize_result(\n",
      "C:\\Users\\sghasemi\\Anaconda3\\envs\\SMAGS\\lib\\site-packages\\sklearn\\linear_model\\_logistic.py:460: ConvergenceWarning: lbfgs failed to converge (status=1):\n",
      "STOP: TOTAL NO. of ITERATIONS REACHED LIMIT.\n",
      "\n",
      "Increase the number of iterations (max_iter) or scale the data as shown in:\n",
      "    https://scikit-learn.org/stable/modules/preprocessing.html\n",
      "Please also refer to the documentation for alternative solver options:\n",
      "    https://scikit-learn.org/stable/modules/linear_model.html#logistic-regression\n",
      "  n_iter_i = _check_optimize_result(\n"
     ]
    },
    {
     "name": "stdout",
     "output_type": "stream",
     "text": [
      "22\n"
     ]
    },
    {
     "name": "stderr",
     "output_type": "stream",
     "text": [
      "C:\\Users\\sghasemi\\Anaconda3\\envs\\SMAGS\\lib\\site-packages\\sklearn\\linear_model\\_logistic.py:460: ConvergenceWarning: lbfgs failed to converge (status=1):\n",
      "STOP: TOTAL NO. of ITERATIONS REACHED LIMIT.\n",
      "\n",
      "Increase the number of iterations (max_iter) or scale the data as shown in:\n",
      "    https://scikit-learn.org/stable/modules/preprocessing.html\n",
      "Please also refer to the documentation for alternative solver options:\n",
      "    https://scikit-learn.org/stable/modules/linear_model.html#logistic-regression\n",
      "  n_iter_i = _check_optimize_result(\n",
      "C:\\Users\\sghasemi\\Anaconda3\\envs\\SMAGS\\lib\\site-packages\\sklearn\\linear_model\\_logistic.py:460: ConvergenceWarning: lbfgs failed to converge (status=1):\n",
      "STOP: TOTAL NO. of ITERATIONS REACHED LIMIT.\n",
      "\n",
      "Increase the number of iterations (max_iter) or scale the data as shown in:\n",
      "    https://scikit-learn.org/stable/modules/preprocessing.html\n",
      "Please also refer to the documentation for alternative solver options:\n",
      "    https://scikit-learn.org/stable/modules/linear_model.html#logistic-regression\n",
      "  n_iter_i = _check_optimize_result(\n"
     ]
    },
    {
     "name": "stdout",
     "output_type": "stream",
     "text": [
      "23\n"
     ]
    },
    {
     "name": "stderr",
     "output_type": "stream",
     "text": [
      "C:\\Users\\sghasemi\\Anaconda3\\envs\\SMAGS\\lib\\site-packages\\sklearn\\linear_model\\_logistic.py:460: ConvergenceWarning: lbfgs failed to converge (status=1):\n",
      "STOP: TOTAL NO. of ITERATIONS REACHED LIMIT.\n",
      "\n",
      "Increase the number of iterations (max_iter) or scale the data as shown in:\n",
      "    https://scikit-learn.org/stable/modules/preprocessing.html\n",
      "Please also refer to the documentation for alternative solver options:\n",
      "    https://scikit-learn.org/stable/modules/linear_model.html#logistic-regression\n",
      "  n_iter_i = _check_optimize_result(\n",
      "C:\\Users\\sghasemi\\Anaconda3\\envs\\SMAGS\\lib\\site-packages\\sklearn\\linear_model\\_logistic.py:460: ConvergenceWarning: lbfgs failed to converge (status=1):\n",
      "STOP: TOTAL NO. of ITERATIONS REACHED LIMIT.\n",
      "\n",
      "Increase the number of iterations (max_iter) or scale the data as shown in:\n",
      "    https://scikit-learn.org/stable/modules/preprocessing.html\n",
      "Please also refer to the documentation for alternative solver options:\n",
      "    https://scikit-learn.org/stable/modules/linear_model.html#logistic-regression\n",
      "  n_iter_i = _check_optimize_result(\n"
     ]
    },
    {
     "name": "stdout",
     "output_type": "stream",
     "text": [
      "24\n"
     ]
    },
    {
     "name": "stderr",
     "output_type": "stream",
     "text": [
      "C:\\Users\\sghasemi\\Anaconda3\\envs\\SMAGS\\lib\\site-packages\\sklearn\\linear_model\\_logistic.py:460: ConvergenceWarning: lbfgs failed to converge (status=1):\n",
      "STOP: TOTAL NO. of ITERATIONS REACHED LIMIT.\n",
      "\n",
      "Increase the number of iterations (max_iter) or scale the data as shown in:\n",
      "    https://scikit-learn.org/stable/modules/preprocessing.html\n",
      "Please also refer to the documentation for alternative solver options:\n",
      "    https://scikit-learn.org/stable/modules/linear_model.html#logistic-regression\n",
      "  n_iter_i = _check_optimize_result(\n",
      "C:\\Users\\sghasemi\\Anaconda3\\envs\\SMAGS\\lib\\site-packages\\sklearn\\linear_model\\_logistic.py:460: ConvergenceWarning: lbfgs failed to converge (status=1):\n",
      "STOP: TOTAL NO. of ITERATIONS REACHED LIMIT.\n",
      "\n",
      "Increase the number of iterations (max_iter) or scale the data as shown in:\n",
      "    https://scikit-learn.org/stable/modules/preprocessing.html\n",
      "Please also refer to the documentation for alternative solver options:\n",
      "    https://scikit-learn.org/stable/modules/linear_model.html#logistic-regression\n",
      "  n_iter_i = _check_optimize_result(\n"
     ]
    },
    {
     "name": "stdout",
     "output_type": "stream",
     "text": [
      "25\n"
     ]
    },
    {
     "name": "stderr",
     "output_type": "stream",
     "text": [
      "C:\\Users\\sghasemi\\Anaconda3\\envs\\SMAGS\\lib\\site-packages\\sklearn\\linear_model\\_logistic.py:460: ConvergenceWarning: lbfgs failed to converge (status=1):\n",
      "STOP: TOTAL NO. of ITERATIONS REACHED LIMIT.\n",
      "\n",
      "Increase the number of iterations (max_iter) or scale the data as shown in:\n",
      "    https://scikit-learn.org/stable/modules/preprocessing.html\n",
      "Please also refer to the documentation for alternative solver options:\n",
      "    https://scikit-learn.org/stable/modules/linear_model.html#logistic-regression\n",
      "  n_iter_i = _check_optimize_result(\n",
      "C:\\Users\\sghasemi\\Anaconda3\\envs\\SMAGS\\lib\\site-packages\\sklearn\\linear_model\\_logistic.py:460: ConvergenceWarning: lbfgs failed to converge (status=1):\n",
      "STOP: TOTAL NO. of ITERATIONS REACHED LIMIT.\n",
      "\n",
      "Increase the number of iterations (max_iter) or scale the data as shown in:\n",
      "    https://scikit-learn.org/stable/modules/preprocessing.html\n",
      "Please also refer to the documentation for alternative solver options:\n",
      "    https://scikit-learn.org/stable/modules/linear_model.html#logistic-regression\n",
      "  n_iter_i = _check_optimize_result(\n"
     ]
    },
    {
     "name": "stdout",
     "output_type": "stream",
     "text": [
      "26\n"
     ]
    },
    {
     "name": "stderr",
     "output_type": "stream",
     "text": [
      "C:\\Users\\sghasemi\\Anaconda3\\envs\\SMAGS\\lib\\site-packages\\sklearn\\linear_model\\_logistic.py:460: ConvergenceWarning: lbfgs failed to converge (status=1):\n",
      "STOP: TOTAL NO. of ITERATIONS REACHED LIMIT.\n",
      "\n",
      "Increase the number of iterations (max_iter) or scale the data as shown in:\n",
      "    https://scikit-learn.org/stable/modules/preprocessing.html\n",
      "Please also refer to the documentation for alternative solver options:\n",
      "    https://scikit-learn.org/stable/modules/linear_model.html#logistic-regression\n",
      "  n_iter_i = _check_optimize_result(\n",
      "C:\\Users\\sghasemi\\Anaconda3\\envs\\SMAGS\\lib\\site-packages\\sklearn\\linear_model\\_logistic.py:460: ConvergenceWarning: lbfgs failed to converge (status=1):\n",
      "STOP: TOTAL NO. of ITERATIONS REACHED LIMIT.\n",
      "\n",
      "Increase the number of iterations (max_iter) or scale the data as shown in:\n",
      "    https://scikit-learn.org/stable/modules/preprocessing.html\n",
      "Please also refer to the documentation for alternative solver options:\n",
      "    https://scikit-learn.org/stable/modules/linear_model.html#logistic-regression\n",
      "  n_iter_i = _check_optimize_result(\n"
     ]
    },
    {
     "name": "stdout",
     "output_type": "stream",
     "text": [
      "27\n"
     ]
    },
    {
     "name": "stderr",
     "output_type": "stream",
     "text": [
      "C:\\Users\\sghasemi\\Anaconda3\\envs\\SMAGS\\lib\\site-packages\\sklearn\\linear_model\\_logistic.py:460: ConvergenceWarning: lbfgs failed to converge (status=1):\n",
      "STOP: TOTAL NO. of ITERATIONS REACHED LIMIT.\n",
      "\n",
      "Increase the number of iterations (max_iter) or scale the data as shown in:\n",
      "    https://scikit-learn.org/stable/modules/preprocessing.html\n",
      "Please also refer to the documentation for alternative solver options:\n",
      "    https://scikit-learn.org/stable/modules/linear_model.html#logistic-regression\n",
      "  n_iter_i = _check_optimize_result(\n",
      "C:\\Users\\sghasemi\\Anaconda3\\envs\\SMAGS\\lib\\site-packages\\sklearn\\linear_model\\_logistic.py:460: ConvergenceWarning: lbfgs failed to converge (status=1):\n",
      "STOP: TOTAL NO. of ITERATIONS REACHED LIMIT.\n",
      "\n",
      "Increase the number of iterations (max_iter) or scale the data as shown in:\n",
      "    https://scikit-learn.org/stable/modules/preprocessing.html\n",
      "Please also refer to the documentation for alternative solver options:\n",
      "    https://scikit-learn.org/stable/modules/linear_model.html#logistic-regression\n",
      "  n_iter_i = _check_optimize_result(\n"
     ]
    },
    {
     "name": "stdout",
     "output_type": "stream",
     "text": [
      "28\n"
     ]
    },
    {
     "name": "stderr",
     "output_type": "stream",
     "text": [
      "C:\\Users\\sghasemi\\Anaconda3\\envs\\SMAGS\\lib\\site-packages\\sklearn\\linear_model\\_logistic.py:460: ConvergenceWarning: lbfgs failed to converge (status=1):\n",
      "STOP: TOTAL NO. of ITERATIONS REACHED LIMIT.\n",
      "\n",
      "Increase the number of iterations (max_iter) or scale the data as shown in:\n",
      "    https://scikit-learn.org/stable/modules/preprocessing.html\n",
      "Please also refer to the documentation for alternative solver options:\n",
      "    https://scikit-learn.org/stable/modules/linear_model.html#logistic-regression\n",
      "  n_iter_i = _check_optimize_result(\n",
      "C:\\Users\\sghasemi\\Anaconda3\\envs\\SMAGS\\lib\\site-packages\\sklearn\\linear_model\\_logistic.py:460: ConvergenceWarning: lbfgs failed to converge (status=1):\n",
      "STOP: TOTAL NO. of ITERATIONS REACHED LIMIT.\n",
      "\n",
      "Increase the number of iterations (max_iter) or scale the data as shown in:\n",
      "    https://scikit-learn.org/stable/modules/preprocessing.html\n",
      "Please also refer to the documentation for alternative solver options:\n",
      "    https://scikit-learn.org/stable/modules/linear_model.html#logistic-regression\n",
      "  n_iter_i = _check_optimize_result(\n"
     ]
    },
    {
     "name": "stdout",
     "output_type": "stream",
     "text": [
      "29\n"
     ]
    },
    {
     "name": "stderr",
     "output_type": "stream",
     "text": [
      "C:\\Users\\sghasemi\\Anaconda3\\envs\\SMAGS\\lib\\site-packages\\sklearn\\linear_model\\_logistic.py:460: ConvergenceWarning: lbfgs failed to converge (status=1):\n",
      "STOP: TOTAL NO. of ITERATIONS REACHED LIMIT.\n",
      "\n",
      "Increase the number of iterations (max_iter) or scale the data as shown in:\n",
      "    https://scikit-learn.org/stable/modules/preprocessing.html\n",
      "Please also refer to the documentation for alternative solver options:\n",
      "    https://scikit-learn.org/stable/modules/linear_model.html#logistic-regression\n",
      "  n_iter_i = _check_optimize_result(\n",
      "C:\\Users\\sghasemi\\Anaconda3\\envs\\SMAGS\\lib\\site-packages\\sklearn\\linear_model\\_logistic.py:460: ConvergenceWarning: lbfgs failed to converge (status=1):\n",
      "STOP: TOTAL NO. of ITERATIONS REACHED LIMIT.\n",
      "\n",
      "Increase the number of iterations (max_iter) or scale the data as shown in:\n",
      "    https://scikit-learn.org/stable/modules/preprocessing.html\n",
      "Please also refer to the documentation for alternative solver options:\n",
      "    https://scikit-learn.org/stable/modules/linear_model.html#logistic-regression\n",
      "  n_iter_i = _check_optimize_result(\n"
     ]
    },
    {
     "name": "stdout",
     "output_type": "stream",
     "text": [
      "30\n"
     ]
    },
    {
     "name": "stderr",
     "output_type": "stream",
     "text": [
      "C:\\Users\\sghasemi\\Anaconda3\\envs\\SMAGS\\lib\\site-packages\\sklearn\\linear_model\\_logistic.py:460: ConvergenceWarning: lbfgs failed to converge (status=1):\n",
      "STOP: TOTAL NO. of ITERATIONS REACHED LIMIT.\n",
      "\n",
      "Increase the number of iterations (max_iter) or scale the data as shown in:\n",
      "    https://scikit-learn.org/stable/modules/preprocessing.html\n",
      "Please also refer to the documentation for alternative solver options:\n",
      "    https://scikit-learn.org/stable/modules/linear_model.html#logistic-regression\n",
      "  n_iter_i = _check_optimize_result(\n",
      "C:\\Users\\sghasemi\\Anaconda3\\envs\\SMAGS\\lib\\site-packages\\sklearn\\linear_model\\_logistic.py:460: ConvergenceWarning: lbfgs failed to converge (status=1):\n",
      "STOP: TOTAL NO. of ITERATIONS REACHED LIMIT.\n",
      "\n",
      "Increase the number of iterations (max_iter) or scale the data as shown in:\n",
      "    https://scikit-learn.org/stable/modules/preprocessing.html\n",
      "Please also refer to the documentation for alternative solver options:\n",
      "    https://scikit-learn.org/stable/modules/linear_model.html#logistic-regression\n",
      "  n_iter_i = _check_optimize_result(\n"
     ]
    },
    {
     "name": "stdout",
     "output_type": "stream",
     "text": [
      "31\n"
     ]
    },
    {
     "name": "stderr",
     "output_type": "stream",
     "text": [
      "C:\\Users\\sghasemi\\Anaconda3\\envs\\SMAGS\\lib\\site-packages\\sklearn\\linear_model\\_logistic.py:460: ConvergenceWarning: lbfgs failed to converge (status=1):\n",
      "STOP: TOTAL NO. of ITERATIONS REACHED LIMIT.\n",
      "\n",
      "Increase the number of iterations (max_iter) or scale the data as shown in:\n",
      "    https://scikit-learn.org/stable/modules/preprocessing.html\n",
      "Please also refer to the documentation for alternative solver options:\n",
      "    https://scikit-learn.org/stable/modules/linear_model.html#logistic-regression\n",
      "  n_iter_i = _check_optimize_result(\n",
      "C:\\Users\\sghasemi\\Anaconda3\\envs\\SMAGS\\lib\\site-packages\\sklearn\\linear_model\\_logistic.py:460: ConvergenceWarning: lbfgs failed to converge (status=1):\n",
      "STOP: TOTAL NO. of ITERATIONS REACHED LIMIT.\n",
      "\n",
      "Increase the number of iterations (max_iter) or scale the data as shown in:\n",
      "    https://scikit-learn.org/stable/modules/preprocessing.html\n",
      "Please also refer to the documentation for alternative solver options:\n",
      "    https://scikit-learn.org/stable/modules/linear_model.html#logistic-regression\n",
      "  n_iter_i = _check_optimize_result(\n"
     ]
    },
    {
     "name": "stdout",
     "output_type": "stream",
     "text": [
      "32\n"
     ]
    },
    {
     "name": "stderr",
     "output_type": "stream",
     "text": [
      "C:\\Users\\sghasemi\\Anaconda3\\envs\\SMAGS\\lib\\site-packages\\sklearn\\linear_model\\_logistic.py:460: ConvergenceWarning: lbfgs failed to converge (status=1):\n",
      "STOP: TOTAL NO. of ITERATIONS REACHED LIMIT.\n",
      "\n",
      "Increase the number of iterations (max_iter) or scale the data as shown in:\n",
      "    https://scikit-learn.org/stable/modules/preprocessing.html\n",
      "Please also refer to the documentation for alternative solver options:\n",
      "    https://scikit-learn.org/stable/modules/linear_model.html#logistic-regression\n",
      "  n_iter_i = _check_optimize_result(\n",
      "C:\\Users\\sghasemi\\Anaconda3\\envs\\SMAGS\\lib\\site-packages\\sklearn\\linear_model\\_logistic.py:460: ConvergenceWarning: lbfgs failed to converge (status=1):\n",
      "STOP: TOTAL NO. of ITERATIONS REACHED LIMIT.\n",
      "\n",
      "Increase the number of iterations (max_iter) or scale the data as shown in:\n",
      "    https://scikit-learn.org/stable/modules/preprocessing.html\n",
      "Please also refer to the documentation for alternative solver options:\n",
      "    https://scikit-learn.org/stable/modules/linear_model.html#logistic-regression\n",
      "  n_iter_i = _check_optimize_result(\n"
     ]
    },
    {
     "name": "stdout",
     "output_type": "stream",
     "text": [
      "33\n"
     ]
    },
    {
     "name": "stderr",
     "output_type": "stream",
     "text": [
      "C:\\Users\\sghasemi\\Anaconda3\\envs\\SMAGS\\lib\\site-packages\\sklearn\\linear_model\\_logistic.py:460: ConvergenceWarning: lbfgs failed to converge (status=1):\n",
      "STOP: TOTAL NO. of ITERATIONS REACHED LIMIT.\n",
      "\n",
      "Increase the number of iterations (max_iter) or scale the data as shown in:\n",
      "    https://scikit-learn.org/stable/modules/preprocessing.html\n",
      "Please also refer to the documentation for alternative solver options:\n",
      "    https://scikit-learn.org/stable/modules/linear_model.html#logistic-regression\n",
      "  n_iter_i = _check_optimize_result(\n",
      "C:\\Users\\sghasemi\\Anaconda3\\envs\\SMAGS\\lib\\site-packages\\sklearn\\linear_model\\_logistic.py:460: ConvergenceWarning: lbfgs failed to converge (status=1):\n",
      "STOP: TOTAL NO. of ITERATIONS REACHED LIMIT.\n",
      "\n",
      "Increase the number of iterations (max_iter) or scale the data as shown in:\n",
      "    https://scikit-learn.org/stable/modules/preprocessing.html\n",
      "Please also refer to the documentation for alternative solver options:\n",
      "    https://scikit-learn.org/stable/modules/linear_model.html#logistic-regression\n",
      "  n_iter_i = _check_optimize_result(\n"
     ]
    },
    {
     "name": "stdout",
     "output_type": "stream",
     "text": [
      "34\n"
     ]
    },
    {
     "name": "stderr",
     "output_type": "stream",
     "text": [
      "C:\\Users\\sghasemi\\Anaconda3\\envs\\SMAGS\\lib\\site-packages\\sklearn\\linear_model\\_logistic.py:460: ConvergenceWarning: lbfgs failed to converge (status=1):\n",
      "STOP: TOTAL NO. of ITERATIONS REACHED LIMIT.\n",
      "\n",
      "Increase the number of iterations (max_iter) or scale the data as shown in:\n",
      "    https://scikit-learn.org/stable/modules/preprocessing.html\n",
      "Please also refer to the documentation for alternative solver options:\n",
      "    https://scikit-learn.org/stable/modules/linear_model.html#logistic-regression\n",
      "  n_iter_i = _check_optimize_result(\n",
      "C:\\Users\\sghasemi\\Anaconda3\\envs\\SMAGS\\lib\\site-packages\\sklearn\\linear_model\\_logistic.py:460: ConvergenceWarning: lbfgs failed to converge (status=1):\n",
      "STOP: TOTAL NO. of ITERATIONS REACHED LIMIT.\n",
      "\n",
      "Increase the number of iterations (max_iter) or scale the data as shown in:\n",
      "    https://scikit-learn.org/stable/modules/preprocessing.html\n",
      "Please also refer to the documentation for alternative solver options:\n",
      "    https://scikit-learn.org/stable/modules/linear_model.html#logistic-regression\n",
      "  n_iter_i = _check_optimize_result(\n"
     ]
    },
    {
     "name": "stdout",
     "output_type": "stream",
     "text": [
      "35\n"
     ]
    },
    {
     "name": "stderr",
     "output_type": "stream",
     "text": [
      "C:\\Users\\sghasemi\\Anaconda3\\envs\\SMAGS\\lib\\site-packages\\sklearn\\linear_model\\_logistic.py:460: ConvergenceWarning: lbfgs failed to converge (status=1):\n",
      "STOP: TOTAL NO. of ITERATIONS REACHED LIMIT.\n",
      "\n",
      "Increase the number of iterations (max_iter) or scale the data as shown in:\n",
      "    https://scikit-learn.org/stable/modules/preprocessing.html\n",
      "Please also refer to the documentation for alternative solver options:\n",
      "    https://scikit-learn.org/stable/modules/linear_model.html#logistic-regression\n",
      "  n_iter_i = _check_optimize_result(\n",
      "C:\\Users\\sghasemi\\Anaconda3\\envs\\SMAGS\\lib\\site-packages\\sklearn\\linear_model\\_logistic.py:460: ConvergenceWarning: lbfgs failed to converge (status=1):\n",
      "STOP: TOTAL NO. of ITERATIONS REACHED LIMIT.\n",
      "\n",
      "Increase the number of iterations (max_iter) or scale the data as shown in:\n",
      "    https://scikit-learn.org/stable/modules/preprocessing.html\n",
      "Please also refer to the documentation for alternative solver options:\n",
      "    https://scikit-learn.org/stable/modules/linear_model.html#logistic-regression\n",
      "  n_iter_i = _check_optimize_result(\n"
     ]
    },
    {
     "name": "stdout",
     "output_type": "stream",
     "text": [
      "36\n"
     ]
    },
    {
     "name": "stderr",
     "output_type": "stream",
     "text": [
      "C:\\Users\\sghasemi\\Anaconda3\\envs\\SMAGS\\lib\\site-packages\\sklearn\\linear_model\\_logistic.py:460: ConvergenceWarning: lbfgs failed to converge (status=1):\n",
      "STOP: TOTAL NO. of ITERATIONS REACHED LIMIT.\n",
      "\n",
      "Increase the number of iterations (max_iter) or scale the data as shown in:\n",
      "    https://scikit-learn.org/stable/modules/preprocessing.html\n",
      "Please also refer to the documentation for alternative solver options:\n",
      "    https://scikit-learn.org/stable/modules/linear_model.html#logistic-regression\n",
      "  n_iter_i = _check_optimize_result(\n",
      "C:\\Users\\sghasemi\\Anaconda3\\envs\\SMAGS\\lib\\site-packages\\sklearn\\linear_model\\_logistic.py:460: ConvergenceWarning: lbfgs failed to converge (status=1):\n",
      "STOP: TOTAL NO. of ITERATIONS REACHED LIMIT.\n",
      "\n",
      "Increase the number of iterations (max_iter) or scale the data as shown in:\n",
      "    https://scikit-learn.org/stable/modules/preprocessing.html\n",
      "Please also refer to the documentation for alternative solver options:\n",
      "    https://scikit-learn.org/stable/modules/linear_model.html#logistic-regression\n",
      "  n_iter_i = _check_optimize_result(\n"
     ]
    },
    {
     "name": "stdout",
     "output_type": "stream",
     "text": [
      "37\n"
     ]
    },
    {
     "name": "stderr",
     "output_type": "stream",
     "text": [
      "C:\\Users\\sghasemi\\Anaconda3\\envs\\SMAGS\\lib\\site-packages\\sklearn\\linear_model\\_logistic.py:460: ConvergenceWarning: lbfgs failed to converge (status=1):\n",
      "STOP: TOTAL NO. of ITERATIONS REACHED LIMIT.\n",
      "\n",
      "Increase the number of iterations (max_iter) or scale the data as shown in:\n",
      "    https://scikit-learn.org/stable/modules/preprocessing.html\n",
      "Please also refer to the documentation for alternative solver options:\n",
      "    https://scikit-learn.org/stable/modules/linear_model.html#logistic-regression\n",
      "  n_iter_i = _check_optimize_result(\n",
      "C:\\Users\\sghasemi\\Anaconda3\\envs\\SMAGS\\lib\\site-packages\\sklearn\\linear_model\\_logistic.py:460: ConvergenceWarning: lbfgs failed to converge (status=1):\n",
      "STOP: TOTAL NO. of ITERATIONS REACHED LIMIT.\n",
      "\n",
      "Increase the number of iterations (max_iter) or scale the data as shown in:\n",
      "    https://scikit-learn.org/stable/modules/preprocessing.html\n",
      "Please also refer to the documentation for alternative solver options:\n",
      "    https://scikit-learn.org/stable/modules/linear_model.html#logistic-regression\n",
      "  n_iter_i = _check_optimize_result(\n"
     ]
    },
    {
     "name": "stdout",
     "output_type": "stream",
     "text": [
      "38\n"
     ]
    },
    {
     "name": "stderr",
     "output_type": "stream",
     "text": [
      "C:\\Users\\sghasemi\\Anaconda3\\envs\\SMAGS\\lib\\site-packages\\sklearn\\linear_model\\_logistic.py:460: ConvergenceWarning: lbfgs failed to converge (status=1):\n",
      "STOP: TOTAL NO. of ITERATIONS REACHED LIMIT.\n",
      "\n",
      "Increase the number of iterations (max_iter) or scale the data as shown in:\n",
      "    https://scikit-learn.org/stable/modules/preprocessing.html\n",
      "Please also refer to the documentation for alternative solver options:\n",
      "    https://scikit-learn.org/stable/modules/linear_model.html#logistic-regression\n",
      "  n_iter_i = _check_optimize_result(\n",
      "C:\\Users\\sghasemi\\Anaconda3\\envs\\SMAGS\\lib\\site-packages\\sklearn\\linear_model\\_logistic.py:460: ConvergenceWarning: lbfgs failed to converge (status=1):\n",
      "STOP: TOTAL NO. of ITERATIONS REACHED LIMIT.\n",
      "\n",
      "Increase the number of iterations (max_iter) or scale the data as shown in:\n",
      "    https://scikit-learn.org/stable/modules/preprocessing.html\n",
      "Please also refer to the documentation for alternative solver options:\n",
      "    https://scikit-learn.org/stable/modules/linear_model.html#logistic-regression\n",
      "  n_iter_i = _check_optimize_result(\n"
     ]
    },
    {
     "name": "stdout",
     "output_type": "stream",
     "text": [
      "39\n"
     ]
    },
    {
     "name": "stderr",
     "output_type": "stream",
     "text": [
      "C:\\Users\\sghasemi\\Anaconda3\\envs\\SMAGS\\lib\\site-packages\\sklearn\\linear_model\\_logistic.py:460: ConvergenceWarning: lbfgs failed to converge (status=1):\n",
      "STOP: TOTAL NO. of ITERATIONS REACHED LIMIT.\n",
      "\n",
      "Increase the number of iterations (max_iter) or scale the data as shown in:\n",
      "    https://scikit-learn.org/stable/modules/preprocessing.html\n",
      "Please also refer to the documentation for alternative solver options:\n",
      "    https://scikit-learn.org/stable/modules/linear_model.html#logistic-regression\n",
      "  n_iter_i = _check_optimize_result(\n",
      "C:\\Users\\sghasemi\\Anaconda3\\envs\\SMAGS\\lib\\site-packages\\sklearn\\linear_model\\_logistic.py:460: ConvergenceWarning: lbfgs failed to converge (status=1):\n",
      "STOP: TOTAL NO. of ITERATIONS REACHED LIMIT.\n",
      "\n",
      "Increase the number of iterations (max_iter) or scale the data as shown in:\n",
      "    https://scikit-learn.org/stable/modules/preprocessing.html\n",
      "Please also refer to the documentation for alternative solver options:\n",
      "    https://scikit-learn.org/stable/modules/linear_model.html#logistic-regression\n",
      "  n_iter_i = _check_optimize_result(\n"
     ]
    },
    {
     "name": "stdout",
     "output_type": "stream",
     "text": [
      "40\n"
     ]
    },
    {
     "name": "stderr",
     "output_type": "stream",
     "text": [
      "C:\\Users\\sghasemi\\Anaconda3\\envs\\SMAGS\\lib\\site-packages\\sklearn\\linear_model\\_logistic.py:460: ConvergenceWarning: lbfgs failed to converge (status=1):\n",
      "STOP: TOTAL NO. of ITERATIONS REACHED LIMIT.\n",
      "\n",
      "Increase the number of iterations (max_iter) or scale the data as shown in:\n",
      "    https://scikit-learn.org/stable/modules/preprocessing.html\n",
      "Please also refer to the documentation for alternative solver options:\n",
      "    https://scikit-learn.org/stable/modules/linear_model.html#logistic-regression\n",
      "  n_iter_i = _check_optimize_result(\n",
      "C:\\Users\\sghasemi\\Anaconda3\\envs\\SMAGS\\lib\\site-packages\\sklearn\\linear_model\\_logistic.py:460: ConvergenceWarning: lbfgs failed to converge (status=1):\n",
      "STOP: TOTAL NO. of ITERATIONS REACHED LIMIT.\n",
      "\n",
      "Increase the number of iterations (max_iter) or scale the data as shown in:\n",
      "    https://scikit-learn.org/stable/modules/preprocessing.html\n",
      "Please also refer to the documentation for alternative solver options:\n",
      "    https://scikit-learn.org/stable/modules/linear_model.html#logistic-regression\n",
      "  n_iter_i = _check_optimize_result(\n"
     ]
    },
    {
     "name": "stdout",
     "output_type": "stream",
     "text": [
      "41\n"
     ]
    },
    {
     "name": "stderr",
     "output_type": "stream",
     "text": [
      "C:\\Users\\sghasemi\\Anaconda3\\envs\\SMAGS\\lib\\site-packages\\sklearn\\linear_model\\_logistic.py:460: ConvergenceWarning: lbfgs failed to converge (status=1):\n",
      "STOP: TOTAL NO. of ITERATIONS REACHED LIMIT.\n",
      "\n",
      "Increase the number of iterations (max_iter) or scale the data as shown in:\n",
      "    https://scikit-learn.org/stable/modules/preprocessing.html\n",
      "Please also refer to the documentation for alternative solver options:\n",
      "    https://scikit-learn.org/stable/modules/linear_model.html#logistic-regression\n",
      "  n_iter_i = _check_optimize_result(\n",
      "C:\\Users\\sghasemi\\Anaconda3\\envs\\SMAGS\\lib\\site-packages\\sklearn\\linear_model\\_logistic.py:460: ConvergenceWarning: lbfgs failed to converge (status=1):\n",
      "STOP: TOTAL NO. of ITERATIONS REACHED LIMIT.\n",
      "\n",
      "Increase the number of iterations (max_iter) or scale the data as shown in:\n",
      "    https://scikit-learn.org/stable/modules/preprocessing.html\n",
      "Please also refer to the documentation for alternative solver options:\n",
      "    https://scikit-learn.org/stable/modules/linear_model.html#logistic-regression\n",
      "  n_iter_i = _check_optimize_result(\n"
     ]
    },
    {
     "name": "stdout",
     "output_type": "stream",
     "text": [
      "42\n"
     ]
    },
    {
     "name": "stderr",
     "output_type": "stream",
     "text": [
      "C:\\Users\\sghasemi\\Anaconda3\\envs\\SMAGS\\lib\\site-packages\\sklearn\\linear_model\\_logistic.py:460: ConvergenceWarning: lbfgs failed to converge (status=1):\n",
      "STOP: TOTAL NO. of ITERATIONS REACHED LIMIT.\n",
      "\n",
      "Increase the number of iterations (max_iter) or scale the data as shown in:\n",
      "    https://scikit-learn.org/stable/modules/preprocessing.html\n",
      "Please also refer to the documentation for alternative solver options:\n",
      "    https://scikit-learn.org/stable/modules/linear_model.html#logistic-regression\n",
      "  n_iter_i = _check_optimize_result(\n",
      "C:\\Users\\sghasemi\\Anaconda3\\envs\\SMAGS\\lib\\site-packages\\sklearn\\linear_model\\_logistic.py:460: ConvergenceWarning: lbfgs failed to converge (status=1):\n",
      "STOP: TOTAL NO. of ITERATIONS REACHED LIMIT.\n",
      "\n",
      "Increase the number of iterations (max_iter) or scale the data as shown in:\n",
      "    https://scikit-learn.org/stable/modules/preprocessing.html\n",
      "Please also refer to the documentation for alternative solver options:\n",
      "    https://scikit-learn.org/stable/modules/linear_model.html#logistic-regression\n",
      "  n_iter_i = _check_optimize_result(\n"
     ]
    },
    {
     "name": "stdout",
     "output_type": "stream",
     "text": [
      "43\n"
     ]
    },
    {
     "name": "stderr",
     "output_type": "stream",
     "text": [
      "C:\\Users\\sghasemi\\Anaconda3\\envs\\SMAGS\\lib\\site-packages\\sklearn\\linear_model\\_logistic.py:460: ConvergenceWarning: lbfgs failed to converge (status=1):\n",
      "STOP: TOTAL NO. of ITERATIONS REACHED LIMIT.\n",
      "\n",
      "Increase the number of iterations (max_iter) or scale the data as shown in:\n",
      "    https://scikit-learn.org/stable/modules/preprocessing.html\n",
      "Please also refer to the documentation for alternative solver options:\n",
      "    https://scikit-learn.org/stable/modules/linear_model.html#logistic-regression\n",
      "  n_iter_i = _check_optimize_result(\n",
      "C:\\Users\\sghasemi\\Anaconda3\\envs\\SMAGS\\lib\\site-packages\\sklearn\\linear_model\\_logistic.py:460: ConvergenceWarning: lbfgs failed to converge (status=1):\n",
      "STOP: TOTAL NO. of ITERATIONS REACHED LIMIT.\n",
      "\n",
      "Increase the number of iterations (max_iter) or scale the data as shown in:\n",
      "    https://scikit-learn.org/stable/modules/preprocessing.html\n",
      "Please also refer to the documentation for alternative solver options:\n",
      "    https://scikit-learn.org/stable/modules/linear_model.html#logistic-regression\n",
      "  n_iter_i = _check_optimize_result(\n"
     ]
    },
    {
     "name": "stdout",
     "output_type": "stream",
     "text": [
      "44\n"
     ]
    },
    {
     "name": "stderr",
     "output_type": "stream",
     "text": [
      "C:\\Users\\sghasemi\\Anaconda3\\envs\\SMAGS\\lib\\site-packages\\sklearn\\linear_model\\_logistic.py:460: ConvergenceWarning: lbfgs failed to converge (status=1):\n",
      "STOP: TOTAL NO. of ITERATIONS REACHED LIMIT.\n",
      "\n",
      "Increase the number of iterations (max_iter) or scale the data as shown in:\n",
      "    https://scikit-learn.org/stable/modules/preprocessing.html\n",
      "Please also refer to the documentation for alternative solver options:\n",
      "    https://scikit-learn.org/stable/modules/linear_model.html#logistic-regression\n",
      "  n_iter_i = _check_optimize_result(\n",
      "C:\\Users\\sghasemi\\Anaconda3\\envs\\SMAGS\\lib\\site-packages\\sklearn\\linear_model\\_logistic.py:460: ConvergenceWarning: lbfgs failed to converge (status=1):\n",
      "STOP: TOTAL NO. of ITERATIONS REACHED LIMIT.\n",
      "\n",
      "Increase the number of iterations (max_iter) or scale the data as shown in:\n",
      "    https://scikit-learn.org/stable/modules/preprocessing.html\n",
      "Please also refer to the documentation for alternative solver options:\n",
      "    https://scikit-learn.org/stable/modules/linear_model.html#logistic-regression\n",
      "  n_iter_i = _check_optimize_result(\n"
     ]
    },
    {
     "name": "stdout",
     "output_type": "stream",
     "text": [
      "45\n"
     ]
    },
    {
     "name": "stderr",
     "output_type": "stream",
     "text": [
      "C:\\Users\\sghasemi\\Anaconda3\\envs\\SMAGS\\lib\\site-packages\\sklearn\\linear_model\\_logistic.py:460: ConvergenceWarning: lbfgs failed to converge (status=1):\n",
      "STOP: TOTAL NO. of ITERATIONS REACHED LIMIT.\n",
      "\n",
      "Increase the number of iterations (max_iter) or scale the data as shown in:\n",
      "    https://scikit-learn.org/stable/modules/preprocessing.html\n",
      "Please also refer to the documentation for alternative solver options:\n",
      "    https://scikit-learn.org/stable/modules/linear_model.html#logistic-regression\n",
      "  n_iter_i = _check_optimize_result(\n",
      "C:\\Users\\sghasemi\\Anaconda3\\envs\\SMAGS\\lib\\site-packages\\sklearn\\linear_model\\_logistic.py:460: ConvergenceWarning: lbfgs failed to converge (status=1):\n",
      "STOP: TOTAL NO. of ITERATIONS REACHED LIMIT.\n",
      "\n",
      "Increase the number of iterations (max_iter) or scale the data as shown in:\n",
      "    https://scikit-learn.org/stable/modules/preprocessing.html\n",
      "Please also refer to the documentation for alternative solver options:\n",
      "    https://scikit-learn.org/stable/modules/linear_model.html#logistic-regression\n",
      "  n_iter_i = _check_optimize_result(\n"
     ]
    },
    {
     "name": "stdout",
     "output_type": "stream",
     "text": [
      "46\n"
     ]
    },
    {
     "name": "stderr",
     "output_type": "stream",
     "text": [
      "C:\\Users\\sghasemi\\Anaconda3\\envs\\SMAGS\\lib\\site-packages\\sklearn\\linear_model\\_logistic.py:460: ConvergenceWarning: lbfgs failed to converge (status=1):\n",
      "STOP: TOTAL NO. of ITERATIONS REACHED LIMIT.\n",
      "\n",
      "Increase the number of iterations (max_iter) or scale the data as shown in:\n",
      "    https://scikit-learn.org/stable/modules/preprocessing.html\n",
      "Please also refer to the documentation for alternative solver options:\n",
      "    https://scikit-learn.org/stable/modules/linear_model.html#logistic-regression\n",
      "  n_iter_i = _check_optimize_result(\n",
      "C:\\Users\\sghasemi\\Anaconda3\\envs\\SMAGS\\lib\\site-packages\\sklearn\\linear_model\\_logistic.py:460: ConvergenceWarning: lbfgs failed to converge (status=1):\n",
      "STOP: TOTAL NO. of ITERATIONS REACHED LIMIT.\n",
      "\n",
      "Increase the number of iterations (max_iter) or scale the data as shown in:\n",
      "    https://scikit-learn.org/stable/modules/preprocessing.html\n",
      "Please also refer to the documentation for alternative solver options:\n",
      "    https://scikit-learn.org/stable/modules/linear_model.html#logistic-regression\n",
      "  n_iter_i = _check_optimize_result(\n"
     ]
    },
    {
     "name": "stdout",
     "output_type": "stream",
     "text": [
      "47\n"
     ]
    },
    {
     "name": "stderr",
     "output_type": "stream",
     "text": [
      "C:\\Users\\sghasemi\\Anaconda3\\envs\\SMAGS\\lib\\site-packages\\sklearn\\linear_model\\_logistic.py:460: ConvergenceWarning: lbfgs failed to converge (status=1):\n",
      "STOP: TOTAL NO. of ITERATIONS REACHED LIMIT.\n",
      "\n",
      "Increase the number of iterations (max_iter) or scale the data as shown in:\n",
      "    https://scikit-learn.org/stable/modules/preprocessing.html\n",
      "Please also refer to the documentation for alternative solver options:\n",
      "    https://scikit-learn.org/stable/modules/linear_model.html#logistic-regression\n",
      "  n_iter_i = _check_optimize_result(\n",
      "C:\\Users\\sghasemi\\Anaconda3\\envs\\SMAGS\\lib\\site-packages\\sklearn\\linear_model\\_logistic.py:460: ConvergenceWarning: lbfgs failed to converge (status=1):\n",
      "STOP: TOTAL NO. of ITERATIONS REACHED LIMIT.\n",
      "\n",
      "Increase the number of iterations (max_iter) or scale the data as shown in:\n",
      "    https://scikit-learn.org/stable/modules/preprocessing.html\n",
      "Please also refer to the documentation for alternative solver options:\n",
      "    https://scikit-learn.org/stable/modules/linear_model.html#logistic-regression\n",
      "  n_iter_i = _check_optimize_result(\n"
     ]
    },
    {
     "name": "stdout",
     "output_type": "stream",
     "text": [
      "48\n"
     ]
    },
    {
     "name": "stderr",
     "output_type": "stream",
     "text": [
      "C:\\Users\\sghasemi\\Anaconda3\\envs\\SMAGS\\lib\\site-packages\\sklearn\\linear_model\\_logistic.py:460: ConvergenceWarning: lbfgs failed to converge (status=1):\n",
      "STOP: TOTAL NO. of ITERATIONS REACHED LIMIT.\n",
      "\n",
      "Increase the number of iterations (max_iter) or scale the data as shown in:\n",
      "    https://scikit-learn.org/stable/modules/preprocessing.html\n",
      "Please also refer to the documentation for alternative solver options:\n",
      "    https://scikit-learn.org/stable/modules/linear_model.html#logistic-regression\n",
      "  n_iter_i = _check_optimize_result(\n",
      "C:\\Users\\sghasemi\\Anaconda3\\envs\\SMAGS\\lib\\site-packages\\sklearn\\linear_model\\_logistic.py:460: ConvergenceWarning: lbfgs failed to converge (status=1):\n",
      "STOP: TOTAL NO. of ITERATIONS REACHED LIMIT.\n",
      "\n",
      "Increase the number of iterations (max_iter) or scale the data as shown in:\n",
      "    https://scikit-learn.org/stable/modules/preprocessing.html\n",
      "Please also refer to the documentation for alternative solver options:\n",
      "    https://scikit-learn.org/stable/modules/linear_model.html#logistic-regression\n",
      "  n_iter_i = _check_optimize_result(\n"
     ]
    },
    {
     "name": "stdout",
     "output_type": "stream",
     "text": [
      "49\n"
     ]
    },
    {
     "name": "stderr",
     "output_type": "stream",
     "text": [
      "C:\\Users\\sghasemi\\Anaconda3\\envs\\SMAGS\\lib\\site-packages\\sklearn\\linear_model\\_logistic.py:460: ConvergenceWarning: lbfgs failed to converge (status=1):\n",
      "STOP: TOTAL NO. of ITERATIONS REACHED LIMIT.\n",
      "\n",
      "Increase the number of iterations (max_iter) or scale the data as shown in:\n",
      "    https://scikit-learn.org/stable/modules/preprocessing.html\n",
      "Please also refer to the documentation for alternative solver options:\n",
      "    https://scikit-learn.org/stable/modules/linear_model.html#logistic-regression\n",
      "  n_iter_i = _check_optimize_result(\n",
      "C:\\Users\\sghasemi\\Anaconda3\\envs\\SMAGS\\lib\\site-packages\\sklearn\\linear_model\\_logistic.py:460: ConvergenceWarning: lbfgs failed to converge (status=1):\n",
      "STOP: TOTAL NO. of ITERATIONS REACHED LIMIT.\n",
      "\n",
      "Increase the number of iterations (max_iter) or scale the data as shown in:\n",
      "    https://scikit-learn.org/stable/modules/preprocessing.html\n",
      "Please also refer to the documentation for alternative solver options:\n",
      "    https://scikit-learn.org/stable/modules/linear_model.html#logistic-regression\n",
      "  n_iter_i = _check_optimize_result(\n"
     ]
    },
    {
     "name": "stdout",
     "output_type": "stream",
     "text": [
      "50\n"
     ]
    },
    {
     "name": "stderr",
     "output_type": "stream",
     "text": [
      "C:\\Users\\sghasemi\\Anaconda3\\envs\\SMAGS\\lib\\site-packages\\sklearn\\linear_model\\_logistic.py:460: ConvergenceWarning: lbfgs failed to converge (status=1):\n",
      "STOP: TOTAL NO. of ITERATIONS REACHED LIMIT.\n",
      "\n",
      "Increase the number of iterations (max_iter) or scale the data as shown in:\n",
      "    https://scikit-learn.org/stable/modules/preprocessing.html\n",
      "Please also refer to the documentation for alternative solver options:\n",
      "    https://scikit-learn.org/stable/modules/linear_model.html#logistic-regression\n",
      "  n_iter_i = _check_optimize_result(\n",
      "C:\\Users\\sghasemi\\Anaconda3\\envs\\SMAGS\\lib\\site-packages\\sklearn\\linear_model\\_logistic.py:460: ConvergenceWarning: lbfgs failed to converge (status=1):\n",
      "STOP: TOTAL NO. of ITERATIONS REACHED LIMIT.\n",
      "\n",
      "Increase the number of iterations (max_iter) or scale the data as shown in:\n",
      "    https://scikit-learn.org/stable/modules/preprocessing.html\n",
      "Please also refer to the documentation for alternative solver options:\n",
      "    https://scikit-learn.org/stable/modules/linear_model.html#logistic-regression\n",
      "  n_iter_i = _check_optimize_result(\n"
     ]
    },
    {
     "name": "stdout",
     "output_type": "stream",
     "text": [
      "51\n"
     ]
    },
    {
     "name": "stderr",
     "output_type": "stream",
     "text": [
      "C:\\Users\\sghasemi\\Anaconda3\\envs\\SMAGS\\lib\\site-packages\\sklearn\\linear_model\\_logistic.py:460: ConvergenceWarning: lbfgs failed to converge (status=1):\n",
      "STOP: TOTAL NO. of ITERATIONS REACHED LIMIT.\n",
      "\n",
      "Increase the number of iterations (max_iter) or scale the data as shown in:\n",
      "    https://scikit-learn.org/stable/modules/preprocessing.html\n",
      "Please also refer to the documentation for alternative solver options:\n",
      "    https://scikit-learn.org/stable/modules/linear_model.html#logistic-regression\n",
      "  n_iter_i = _check_optimize_result(\n",
      "C:\\Users\\sghasemi\\Anaconda3\\envs\\SMAGS\\lib\\site-packages\\sklearn\\linear_model\\_logistic.py:460: ConvergenceWarning: lbfgs failed to converge (status=1):\n",
      "STOP: TOTAL NO. of ITERATIONS REACHED LIMIT.\n",
      "\n",
      "Increase the number of iterations (max_iter) or scale the data as shown in:\n",
      "    https://scikit-learn.org/stable/modules/preprocessing.html\n",
      "Please also refer to the documentation for alternative solver options:\n",
      "    https://scikit-learn.org/stable/modules/linear_model.html#logistic-regression\n",
      "  n_iter_i = _check_optimize_result(\n"
     ]
    },
    {
     "name": "stdout",
     "output_type": "stream",
     "text": [
      "52\n"
     ]
    },
    {
     "name": "stderr",
     "output_type": "stream",
     "text": [
      "C:\\Users\\sghasemi\\Anaconda3\\envs\\SMAGS\\lib\\site-packages\\sklearn\\linear_model\\_logistic.py:460: ConvergenceWarning: lbfgs failed to converge (status=1):\n",
      "STOP: TOTAL NO. of ITERATIONS REACHED LIMIT.\n",
      "\n",
      "Increase the number of iterations (max_iter) or scale the data as shown in:\n",
      "    https://scikit-learn.org/stable/modules/preprocessing.html\n",
      "Please also refer to the documentation for alternative solver options:\n",
      "    https://scikit-learn.org/stable/modules/linear_model.html#logistic-regression\n",
      "  n_iter_i = _check_optimize_result(\n",
      "C:\\Users\\sghasemi\\Anaconda3\\envs\\SMAGS\\lib\\site-packages\\sklearn\\linear_model\\_logistic.py:460: ConvergenceWarning: lbfgs failed to converge (status=1):\n",
      "STOP: TOTAL NO. of ITERATIONS REACHED LIMIT.\n",
      "\n",
      "Increase the number of iterations (max_iter) or scale the data as shown in:\n",
      "    https://scikit-learn.org/stable/modules/preprocessing.html\n",
      "Please also refer to the documentation for alternative solver options:\n",
      "    https://scikit-learn.org/stable/modules/linear_model.html#logistic-regression\n",
      "  n_iter_i = _check_optimize_result(\n"
     ]
    },
    {
     "name": "stdout",
     "output_type": "stream",
     "text": [
      "53\n"
     ]
    },
    {
     "name": "stderr",
     "output_type": "stream",
     "text": [
      "C:\\Users\\sghasemi\\Anaconda3\\envs\\SMAGS\\lib\\site-packages\\sklearn\\linear_model\\_logistic.py:460: ConvergenceWarning: lbfgs failed to converge (status=1):\n",
      "STOP: TOTAL NO. of ITERATIONS REACHED LIMIT.\n",
      "\n",
      "Increase the number of iterations (max_iter) or scale the data as shown in:\n",
      "    https://scikit-learn.org/stable/modules/preprocessing.html\n",
      "Please also refer to the documentation for alternative solver options:\n",
      "    https://scikit-learn.org/stable/modules/linear_model.html#logistic-regression\n",
      "  n_iter_i = _check_optimize_result(\n",
      "C:\\Users\\sghasemi\\Anaconda3\\envs\\SMAGS\\lib\\site-packages\\sklearn\\linear_model\\_logistic.py:460: ConvergenceWarning: lbfgs failed to converge (status=1):\n",
      "STOP: TOTAL NO. of ITERATIONS REACHED LIMIT.\n",
      "\n",
      "Increase the number of iterations (max_iter) or scale the data as shown in:\n",
      "    https://scikit-learn.org/stable/modules/preprocessing.html\n",
      "Please also refer to the documentation for alternative solver options:\n",
      "    https://scikit-learn.org/stable/modules/linear_model.html#logistic-regression\n",
      "  n_iter_i = _check_optimize_result(\n"
     ]
    },
    {
     "name": "stdout",
     "output_type": "stream",
     "text": [
      "54\n"
     ]
    },
    {
     "name": "stderr",
     "output_type": "stream",
     "text": [
      "C:\\Users\\sghasemi\\Anaconda3\\envs\\SMAGS\\lib\\site-packages\\sklearn\\linear_model\\_logistic.py:460: ConvergenceWarning: lbfgs failed to converge (status=1):\n",
      "STOP: TOTAL NO. of ITERATIONS REACHED LIMIT.\n",
      "\n",
      "Increase the number of iterations (max_iter) or scale the data as shown in:\n",
      "    https://scikit-learn.org/stable/modules/preprocessing.html\n",
      "Please also refer to the documentation for alternative solver options:\n",
      "    https://scikit-learn.org/stable/modules/linear_model.html#logistic-regression\n",
      "  n_iter_i = _check_optimize_result(\n",
      "C:\\Users\\sghasemi\\Anaconda3\\envs\\SMAGS\\lib\\site-packages\\sklearn\\linear_model\\_logistic.py:460: ConvergenceWarning: lbfgs failed to converge (status=1):\n",
      "STOP: TOTAL NO. of ITERATIONS REACHED LIMIT.\n",
      "\n",
      "Increase the number of iterations (max_iter) or scale the data as shown in:\n",
      "    https://scikit-learn.org/stable/modules/preprocessing.html\n",
      "Please also refer to the documentation for alternative solver options:\n",
      "    https://scikit-learn.org/stable/modules/linear_model.html#logistic-regression\n",
      "  n_iter_i = _check_optimize_result(\n"
     ]
    },
    {
     "name": "stdout",
     "output_type": "stream",
     "text": [
      "55\n"
     ]
    },
    {
     "name": "stderr",
     "output_type": "stream",
     "text": [
      "C:\\Users\\sghasemi\\Anaconda3\\envs\\SMAGS\\lib\\site-packages\\sklearn\\linear_model\\_logistic.py:460: ConvergenceWarning: lbfgs failed to converge (status=1):\n",
      "STOP: TOTAL NO. of ITERATIONS REACHED LIMIT.\n",
      "\n",
      "Increase the number of iterations (max_iter) or scale the data as shown in:\n",
      "    https://scikit-learn.org/stable/modules/preprocessing.html\n",
      "Please also refer to the documentation for alternative solver options:\n",
      "    https://scikit-learn.org/stable/modules/linear_model.html#logistic-regression\n",
      "  n_iter_i = _check_optimize_result(\n",
      "C:\\Users\\sghasemi\\Anaconda3\\envs\\SMAGS\\lib\\site-packages\\sklearn\\linear_model\\_logistic.py:460: ConvergenceWarning: lbfgs failed to converge (status=1):\n",
      "STOP: TOTAL NO. of ITERATIONS REACHED LIMIT.\n",
      "\n",
      "Increase the number of iterations (max_iter) or scale the data as shown in:\n",
      "    https://scikit-learn.org/stable/modules/preprocessing.html\n",
      "Please also refer to the documentation for alternative solver options:\n",
      "    https://scikit-learn.org/stable/modules/linear_model.html#logistic-regression\n",
      "  n_iter_i = _check_optimize_result(\n"
     ]
    },
    {
     "name": "stdout",
     "output_type": "stream",
     "text": [
      "56\n"
     ]
    },
    {
     "name": "stderr",
     "output_type": "stream",
     "text": [
      "C:\\Users\\sghasemi\\Anaconda3\\envs\\SMAGS\\lib\\site-packages\\sklearn\\linear_model\\_logistic.py:460: ConvergenceWarning: lbfgs failed to converge (status=1):\n",
      "STOP: TOTAL NO. of ITERATIONS REACHED LIMIT.\n",
      "\n",
      "Increase the number of iterations (max_iter) or scale the data as shown in:\n",
      "    https://scikit-learn.org/stable/modules/preprocessing.html\n",
      "Please also refer to the documentation for alternative solver options:\n",
      "    https://scikit-learn.org/stable/modules/linear_model.html#logistic-regression\n",
      "  n_iter_i = _check_optimize_result(\n",
      "C:\\Users\\sghasemi\\Anaconda3\\envs\\SMAGS\\lib\\site-packages\\sklearn\\linear_model\\_logistic.py:460: ConvergenceWarning: lbfgs failed to converge (status=1):\n",
      "STOP: TOTAL NO. of ITERATIONS REACHED LIMIT.\n",
      "\n",
      "Increase the number of iterations (max_iter) or scale the data as shown in:\n",
      "    https://scikit-learn.org/stable/modules/preprocessing.html\n",
      "Please also refer to the documentation for alternative solver options:\n",
      "    https://scikit-learn.org/stable/modules/linear_model.html#logistic-regression\n",
      "  n_iter_i = _check_optimize_result(\n"
     ]
    },
    {
     "name": "stdout",
     "output_type": "stream",
     "text": [
      "57\n"
     ]
    },
    {
     "name": "stderr",
     "output_type": "stream",
     "text": [
      "C:\\Users\\sghasemi\\Anaconda3\\envs\\SMAGS\\lib\\site-packages\\sklearn\\linear_model\\_logistic.py:460: ConvergenceWarning: lbfgs failed to converge (status=1):\n",
      "STOP: TOTAL NO. of ITERATIONS REACHED LIMIT.\n",
      "\n",
      "Increase the number of iterations (max_iter) or scale the data as shown in:\n",
      "    https://scikit-learn.org/stable/modules/preprocessing.html\n",
      "Please also refer to the documentation for alternative solver options:\n",
      "    https://scikit-learn.org/stable/modules/linear_model.html#logistic-regression\n",
      "  n_iter_i = _check_optimize_result(\n",
      "C:\\Users\\sghasemi\\Anaconda3\\envs\\SMAGS\\lib\\site-packages\\sklearn\\linear_model\\_logistic.py:460: ConvergenceWarning: lbfgs failed to converge (status=1):\n",
      "STOP: TOTAL NO. of ITERATIONS REACHED LIMIT.\n",
      "\n",
      "Increase the number of iterations (max_iter) or scale the data as shown in:\n",
      "    https://scikit-learn.org/stable/modules/preprocessing.html\n",
      "Please also refer to the documentation for alternative solver options:\n",
      "    https://scikit-learn.org/stable/modules/linear_model.html#logistic-regression\n",
      "  n_iter_i = _check_optimize_result(\n"
     ]
    },
    {
     "name": "stdout",
     "output_type": "stream",
     "text": [
      "58\n"
     ]
    },
    {
     "name": "stderr",
     "output_type": "stream",
     "text": [
      "C:\\Users\\sghasemi\\Anaconda3\\envs\\SMAGS\\lib\\site-packages\\sklearn\\linear_model\\_logistic.py:460: ConvergenceWarning: lbfgs failed to converge (status=1):\n",
      "STOP: TOTAL NO. of ITERATIONS REACHED LIMIT.\n",
      "\n",
      "Increase the number of iterations (max_iter) or scale the data as shown in:\n",
      "    https://scikit-learn.org/stable/modules/preprocessing.html\n",
      "Please also refer to the documentation for alternative solver options:\n",
      "    https://scikit-learn.org/stable/modules/linear_model.html#logistic-regression\n",
      "  n_iter_i = _check_optimize_result(\n",
      "C:\\Users\\sghasemi\\Anaconda3\\envs\\SMAGS\\lib\\site-packages\\sklearn\\linear_model\\_logistic.py:460: ConvergenceWarning: lbfgs failed to converge (status=1):\n",
      "STOP: TOTAL NO. of ITERATIONS REACHED LIMIT.\n",
      "\n",
      "Increase the number of iterations (max_iter) or scale the data as shown in:\n",
      "    https://scikit-learn.org/stable/modules/preprocessing.html\n",
      "Please also refer to the documentation for alternative solver options:\n",
      "    https://scikit-learn.org/stable/modules/linear_model.html#logistic-regression\n",
      "  n_iter_i = _check_optimize_result(\n"
     ]
    },
    {
     "name": "stdout",
     "output_type": "stream",
     "text": [
      "59\n"
     ]
    },
    {
     "name": "stderr",
     "output_type": "stream",
     "text": [
      "C:\\Users\\sghasemi\\Anaconda3\\envs\\SMAGS\\lib\\site-packages\\sklearn\\linear_model\\_logistic.py:460: ConvergenceWarning: lbfgs failed to converge (status=1):\n",
      "STOP: TOTAL NO. of ITERATIONS REACHED LIMIT.\n",
      "\n",
      "Increase the number of iterations (max_iter) or scale the data as shown in:\n",
      "    https://scikit-learn.org/stable/modules/preprocessing.html\n",
      "Please also refer to the documentation for alternative solver options:\n",
      "    https://scikit-learn.org/stable/modules/linear_model.html#logistic-regression\n",
      "  n_iter_i = _check_optimize_result(\n",
      "C:\\Users\\sghasemi\\Anaconda3\\envs\\SMAGS\\lib\\site-packages\\sklearn\\linear_model\\_logistic.py:460: ConvergenceWarning: lbfgs failed to converge (status=1):\n",
      "STOP: TOTAL NO. of ITERATIONS REACHED LIMIT.\n",
      "\n",
      "Increase the number of iterations (max_iter) or scale the data as shown in:\n",
      "    https://scikit-learn.org/stable/modules/preprocessing.html\n",
      "Please also refer to the documentation for alternative solver options:\n",
      "    https://scikit-learn.org/stable/modules/linear_model.html#logistic-regression\n",
      "  n_iter_i = _check_optimize_result(\n"
     ]
    },
    {
     "name": "stdout",
     "output_type": "stream",
     "text": [
      "60\n"
     ]
    },
    {
     "name": "stderr",
     "output_type": "stream",
     "text": [
      "C:\\Users\\sghasemi\\Anaconda3\\envs\\SMAGS\\lib\\site-packages\\sklearn\\linear_model\\_logistic.py:460: ConvergenceWarning: lbfgs failed to converge (status=1):\n",
      "STOP: TOTAL NO. of ITERATIONS REACHED LIMIT.\n",
      "\n",
      "Increase the number of iterations (max_iter) or scale the data as shown in:\n",
      "    https://scikit-learn.org/stable/modules/preprocessing.html\n",
      "Please also refer to the documentation for alternative solver options:\n",
      "    https://scikit-learn.org/stable/modules/linear_model.html#logistic-regression\n",
      "  n_iter_i = _check_optimize_result(\n",
      "C:\\Users\\sghasemi\\Anaconda3\\envs\\SMAGS\\lib\\site-packages\\sklearn\\linear_model\\_logistic.py:460: ConvergenceWarning: lbfgs failed to converge (status=1):\n",
      "STOP: TOTAL NO. of ITERATIONS REACHED LIMIT.\n",
      "\n",
      "Increase the number of iterations (max_iter) or scale the data as shown in:\n",
      "    https://scikit-learn.org/stable/modules/preprocessing.html\n",
      "Please also refer to the documentation for alternative solver options:\n",
      "    https://scikit-learn.org/stable/modules/linear_model.html#logistic-regression\n",
      "  n_iter_i = _check_optimize_result(\n"
     ]
    },
    {
     "name": "stdout",
     "output_type": "stream",
     "text": [
      "61\n"
     ]
    },
    {
     "name": "stderr",
     "output_type": "stream",
     "text": [
      "C:\\Users\\sghasemi\\Anaconda3\\envs\\SMAGS\\lib\\site-packages\\sklearn\\linear_model\\_logistic.py:460: ConvergenceWarning: lbfgs failed to converge (status=1):\n",
      "STOP: TOTAL NO. of ITERATIONS REACHED LIMIT.\n",
      "\n",
      "Increase the number of iterations (max_iter) or scale the data as shown in:\n",
      "    https://scikit-learn.org/stable/modules/preprocessing.html\n",
      "Please also refer to the documentation for alternative solver options:\n",
      "    https://scikit-learn.org/stable/modules/linear_model.html#logistic-regression\n",
      "  n_iter_i = _check_optimize_result(\n",
      "C:\\Users\\sghasemi\\Anaconda3\\envs\\SMAGS\\lib\\site-packages\\sklearn\\linear_model\\_logistic.py:460: ConvergenceWarning: lbfgs failed to converge (status=1):\n",
      "STOP: TOTAL NO. of ITERATIONS REACHED LIMIT.\n",
      "\n",
      "Increase the number of iterations (max_iter) or scale the data as shown in:\n",
      "    https://scikit-learn.org/stable/modules/preprocessing.html\n",
      "Please also refer to the documentation for alternative solver options:\n",
      "    https://scikit-learn.org/stable/modules/linear_model.html#logistic-regression\n",
      "  n_iter_i = _check_optimize_result(\n"
     ]
    },
    {
     "name": "stdout",
     "output_type": "stream",
     "text": [
      "62\n"
     ]
    },
    {
     "name": "stderr",
     "output_type": "stream",
     "text": [
      "C:\\Users\\sghasemi\\Anaconda3\\envs\\SMAGS\\lib\\site-packages\\sklearn\\linear_model\\_logistic.py:460: ConvergenceWarning: lbfgs failed to converge (status=1):\n",
      "STOP: TOTAL NO. of ITERATIONS REACHED LIMIT.\n",
      "\n",
      "Increase the number of iterations (max_iter) or scale the data as shown in:\n",
      "    https://scikit-learn.org/stable/modules/preprocessing.html\n",
      "Please also refer to the documentation for alternative solver options:\n",
      "    https://scikit-learn.org/stable/modules/linear_model.html#logistic-regression\n",
      "  n_iter_i = _check_optimize_result(\n",
      "C:\\Users\\sghasemi\\Anaconda3\\envs\\SMAGS\\lib\\site-packages\\sklearn\\linear_model\\_logistic.py:460: ConvergenceWarning: lbfgs failed to converge (status=1):\n",
      "STOP: TOTAL NO. of ITERATIONS REACHED LIMIT.\n",
      "\n",
      "Increase the number of iterations (max_iter) or scale the data as shown in:\n",
      "    https://scikit-learn.org/stable/modules/preprocessing.html\n",
      "Please also refer to the documentation for alternative solver options:\n",
      "    https://scikit-learn.org/stable/modules/linear_model.html#logistic-regression\n",
      "  n_iter_i = _check_optimize_result(\n"
     ]
    },
    {
     "name": "stdout",
     "output_type": "stream",
     "text": [
      "63\n"
     ]
    },
    {
     "name": "stderr",
     "output_type": "stream",
     "text": [
      "C:\\Users\\sghasemi\\Anaconda3\\envs\\SMAGS\\lib\\site-packages\\sklearn\\linear_model\\_logistic.py:460: ConvergenceWarning: lbfgs failed to converge (status=1):\n",
      "STOP: TOTAL NO. of ITERATIONS REACHED LIMIT.\n",
      "\n",
      "Increase the number of iterations (max_iter) or scale the data as shown in:\n",
      "    https://scikit-learn.org/stable/modules/preprocessing.html\n",
      "Please also refer to the documentation for alternative solver options:\n",
      "    https://scikit-learn.org/stable/modules/linear_model.html#logistic-regression\n",
      "  n_iter_i = _check_optimize_result(\n",
      "C:\\Users\\sghasemi\\Anaconda3\\envs\\SMAGS\\lib\\site-packages\\sklearn\\linear_model\\_logistic.py:460: ConvergenceWarning: lbfgs failed to converge (status=1):\n",
      "STOP: TOTAL NO. of ITERATIONS REACHED LIMIT.\n",
      "\n",
      "Increase the number of iterations (max_iter) or scale the data as shown in:\n",
      "    https://scikit-learn.org/stable/modules/preprocessing.html\n",
      "Please also refer to the documentation for alternative solver options:\n",
      "    https://scikit-learn.org/stable/modules/linear_model.html#logistic-regression\n",
      "  n_iter_i = _check_optimize_result(\n"
     ]
    },
    {
     "name": "stdout",
     "output_type": "stream",
     "text": [
      "64\n"
     ]
    },
    {
     "name": "stderr",
     "output_type": "stream",
     "text": [
      "C:\\Users\\sghasemi\\Anaconda3\\envs\\SMAGS\\lib\\site-packages\\sklearn\\linear_model\\_logistic.py:460: ConvergenceWarning: lbfgs failed to converge (status=1):\n",
      "STOP: TOTAL NO. of ITERATIONS REACHED LIMIT.\n",
      "\n",
      "Increase the number of iterations (max_iter) or scale the data as shown in:\n",
      "    https://scikit-learn.org/stable/modules/preprocessing.html\n",
      "Please also refer to the documentation for alternative solver options:\n",
      "    https://scikit-learn.org/stable/modules/linear_model.html#logistic-regression\n",
      "  n_iter_i = _check_optimize_result(\n",
      "C:\\Users\\sghasemi\\Anaconda3\\envs\\SMAGS\\lib\\site-packages\\sklearn\\linear_model\\_logistic.py:460: ConvergenceWarning: lbfgs failed to converge (status=1):\n",
      "STOP: TOTAL NO. of ITERATIONS REACHED LIMIT.\n",
      "\n",
      "Increase the number of iterations (max_iter) or scale the data as shown in:\n",
      "    https://scikit-learn.org/stable/modules/preprocessing.html\n",
      "Please also refer to the documentation for alternative solver options:\n",
      "    https://scikit-learn.org/stable/modules/linear_model.html#logistic-regression\n",
      "  n_iter_i = _check_optimize_result(\n"
     ]
    },
    {
     "name": "stdout",
     "output_type": "stream",
     "text": [
      "65\n"
     ]
    },
    {
     "name": "stderr",
     "output_type": "stream",
     "text": [
      "C:\\Users\\sghasemi\\Anaconda3\\envs\\SMAGS\\lib\\site-packages\\sklearn\\linear_model\\_logistic.py:460: ConvergenceWarning: lbfgs failed to converge (status=1):\n",
      "STOP: TOTAL NO. of ITERATIONS REACHED LIMIT.\n",
      "\n",
      "Increase the number of iterations (max_iter) or scale the data as shown in:\n",
      "    https://scikit-learn.org/stable/modules/preprocessing.html\n",
      "Please also refer to the documentation for alternative solver options:\n",
      "    https://scikit-learn.org/stable/modules/linear_model.html#logistic-regression\n",
      "  n_iter_i = _check_optimize_result(\n",
      "C:\\Users\\sghasemi\\Anaconda3\\envs\\SMAGS\\lib\\site-packages\\sklearn\\linear_model\\_logistic.py:460: ConvergenceWarning: lbfgs failed to converge (status=1):\n",
      "STOP: TOTAL NO. of ITERATIONS REACHED LIMIT.\n",
      "\n",
      "Increase the number of iterations (max_iter) or scale the data as shown in:\n",
      "    https://scikit-learn.org/stable/modules/preprocessing.html\n",
      "Please also refer to the documentation for alternative solver options:\n",
      "    https://scikit-learn.org/stable/modules/linear_model.html#logistic-regression\n",
      "  n_iter_i = _check_optimize_result(\n"
     ]
    },
    {
     "name": "stdout",
     "output_type": "stream",
     "text": [
      "66\n"
     ]
    },
    {
     "name": "stderr",
     "output_type": "stream",
     "text": [
      "C:\\Users\\sghasemi\\Anaconda3\\envs\\SMAGS\\lib\\site-packages\\sklearn\\linear_model\\_logistic.py:460: ConvergenceWarning: lbfgs failed to converge (status=1):\n",
      "STOP: TOTAL NO. of ITERATIONS REACHED LIMIT.\n",
      "\n",
      "Increase the number of iterations (max_iter) or scale the data as shown in:\n",
      "    https://scikit-learn.org/stable/modules/preprocessing.html\n",
      "Please also refer to the documentation for alternative solver options:\n",
      "    https://scikit-learn.org/stable/modules/linear_model.html#logistic-regression\n",
      "  n_iter_i = _check_optimize_result(\n",
      "C:\\Users\\sghasemi\\Anaconda3\\envs\\SMAGS\\lib\\site-packages\\sklearn\\linear_model\\_logistic.py:460: ConvergenceWarning: lbfgs failed to converge (status=1):\n",
      "STOP: TOTAL NO. of ITERATIONS REACHED LIMIT.\n",
      "\n",
      "Increase the number of iterations (max_iter) or scale the data as shown in:\n",
      "    https://scikit-learn.org/stable/modules/preprocessing.html\n",
      "Please also refer to the documentation for alternative solver options:\n",
      "    https://scikit-learn.org/stable/modules/linear_model.html#logistic-regression\n",
      "  n_iter_i = _check_optimize_result(\n"
     ]
    },
    {
     "name": "stdout",
     "output_type": "stream",
     "text": [
      "67\n"
     ]
    },
    {
     "name": "stderr",
     "output_type": "stream",
     "text": [
      "C:\\Users\\sghasemi\\Anaconda3\\envs\\SMAGS\\lib\\site-packages\\sklearn\\linear_model\\_logistic.py:460: ConvergenceWarning: lbfgs failed to converge (status=1):\n",
      "STOP: TOTAL NO. of ITERATIONS REACHED LIMIT.\n",
      "\n",
      "Increase the number of iterations (max_iter) or scale the data as shown in:\n",
      "    https://scikit-learn.org/stable/modules/preprocessing.html\n",
      "Please also refer to the documentation for alternative solver options:\n",
      "    https://scikit-learn.org/stable/modules/linear_model.html#logistic-regression\n",
      "  n_iter_i = _check_optimize_result(\n",
      "C:\\Users\\sghasemi\\Anaconda3\\envs\\SMAGS\\lib\\site-packages\\sklearn\\linear_model\\_logistic.py:460: ConvergenceWarning: lbfgs failed to converge (status=1):\n",
      "STOP: TOTAL NO. of ITERATIONS REACHED LIMIT.\n",
      "\n",
      "Increase the number of iterations (max_iter) or scale the data as shown in:\n",
      "    https://scikit-learn.org/stable/modules/preprocessing.html\n",
      "Please also refer to the documentation for alternative solver options:\n",
      "    https://scikit-learn.org/stable/modules/linear_model.html#logistic-regression\n",
      "  n_iter_i = _check_optimize_result(\n"
     ]
    },
    {
     "name": "stdout",
     "output_type": "stream",
     "text": [
      "68\n"
     ]
    },
    {
     "name": "stderr",
     "output_type": "stream",
     "text": [
      "C:\\Users\\sghasemi\\Anaconda3\\envs\\SMAGS\\lib\\site-packages\\sklearn\\linear_model\\_logistic.py:460: ConvergenceWarning: lbfgs failed to converge (status=1):\n",
      "STOP: TOTAL NO. of ITERATIONS REACHED LIMIT.\n",
      "\n",
      "Increase the number of iterations (max_iter) or scale the data as shown in:\n",
      "    https://scikit-learn.org/stable/modules/preprocessing.html\n",
      "Please also refer to the documentation for alternative solver options:\n",
      "    https://scikit-learn.org/stable/modules/linear_model.html#logistic-regression\n",
      "  n_iter_i = _check_optimize_result(\n",
      "C:\\Users\\sghasemi\\Anaconda3\\envs\\SMAGS\\lib\\site-packages\\sklearn\\linear_model\\_logistic.py:460: ConvergenceWarning: lbfgs failed to converge (status=1):\n",
      "STOP: TOTAL NO. of ITERATIONS REACHED LIMIT.\n",
      "\n",
      "Increase the number of iterations (max_iter) or scale the data as shown in:\n",
      "    https://scikit-learn.org/stable/modules/preprocessing.html\n",
      "Please also refer to the documentation for alternative solver options:\n",
      "    https://scikit-learn.org/stable/modules/linear_model.html#logistic-regression\n",
      "  n_iter_i = _check_optimize_result(\n"
     ]
    },
    {
     "name": "stdout",
     "output_type": "stream",
     "text": [
      "69\n"
     ]
    },
    {
     "name": "stderr",
     "output_type": "stream",
     "text": [
      "C:\\Users\\sghasemi\\Anaconda3\\envs\\SMAGS\\lib\\site-packages\\sklearn\\linear_model\\_logistic.py:460: ConvergenceWarning: lbfgs failed to converge (status=1):\n",
      "STOP: TOTAL NO. of ITERATIONS REACHED LIMIT.\n",
      "\n",
      "Increase the number of iterations (max_iter) or scale the data as shown in:\n",
      "    https://scikit-learn.org/stable/modules/preprocessing.html\n",
      "Please also refer to the documentation for alternative solver options:\n",
      "    https://scikit-learn.org/stable/modules/linear_model.html#logistic-regression\n",
      "  n_iter_i = _check_optimize_result(\n",
      "C:\\Users\\sghasemi\\Anaconda3\\envs\\SMAGS\\lib\\site-packages\\sklearn\\linear_model\\_logistic.py:460: ConvergenceWarning: lbfgs failed to converge (status=1):\n",
      "STOP: TOTAL NO. of ITERATIONS REACHED LIMIT.\n",
      "\n",
      "Increase the number of iterations (max_iter) or scale the data as shown in:\n",
      "    https://scikit-learn.org/stable/modules/preprocessing.html\n",
      "Please also refer to the documentation for alternative solver options:\n",
      "    https://scikit-learn.org/stable/modules/linear_model.html#logistic-regression\n",
      "  n_iter_i = _check_optimize_result(\n"
     ]
    },
    {
     "name": "stdout",
     "output_type": "stream",
     "text": [
      "70\n"
     ]
    },
    {
     "name": "stderr",
     "output_type": "stream",
     "text": [
      "C:\\Users\\sghasemi\\Anaconda3\\envs\\SMAGS\\lib\\site-packages\\sklearn\\linear_model\\_logistic.py:460: ConvergenceWarning: lbfgs failed to converge (status=1):\n",
      "STOP: TOTAL NO. of ITERATIONS REACHED LIMIT.\n",
      "\n",
      "Increase the number of iterations (max_iter) or scale the data as shown in:\n",
      "    https://scikit-learn.org/stable/modules/preprocessing.html\n",
      "Please also refer to the documentation for alternative solver options:\n",
      "    https://scikit-learn.org/stable/modules/linear_model.html#logistic-regression\n",
      "  n_iter_i = _check_optimize_result(\n",
      "C:\\Users\\sghasemi\\Anaconda3\\envs\\SMAGS\\lib\\site-packages\\sklearn\\linear_model\\_logistic.py:460: ConvergenceWarning: lbfgs failed to converge (status=1):\n",
      "STOP: TOTAL NO. of ITERATIONS REACHED LIMIT.\n",
      "\n",
      "Increase the number of iterations (max_iter) or scale the data as shown in:\n",
      "    https://scikit-learn.org/stable/modules/preprocessing.html\n",
      "Please also refer to the documentation for alternative solver options:\n",
      "    https://scikit-learn.org/stable/modules/linear_model.html#logistic-regression\n",
      "  n_iter_i = _check_optimize_result(\n"
     ]
    },
    {
     "name": "stdout",
     "output_type": "stream",
     "text": [
      "71\n"
     ]
    },
    {
     "name": "stderr",
     "output_type": "stream",
     "text": [
      "C:\\Users\\sghasemi\\Anaconda3\\envs\\SMAGS\\lib\\site-packages\\sklearn\\linear_model\\_logistic.py:460: ConvergenceWarning: lbfgs failed to converge (status=1):\n",
      "STOP: TOTAL NO. of ITERATIONS REACHED LIMIT.\n",
      "\n",
      "Increase the number of iterations (max_iter) or scale the data as shown in:\n",
      "    https://scikit-learn.org/stable/modules/preprocessing.html\n",
      "Please also refer to the documentation for alternative solver options:\n",
      "    https://scikit-learn.org/stable/modules/linear_model.html#logistic-regression\n",
      "  n_iter_i = _check_optimize_result(\n",
      "C:\\Users\\sghasemi\\Anaconda3\\envs\\SMAGS\\lib\\site-packages\\sklearn\\linear_model\\_logistic.py:460: ConvergenceWarning: lbfgs failed to converge (status=1):\n",
      "STOP: TOTAL NO. of ITERATIONS REACHED LIMIT.\n",
      "\n",
      "Increase the number of iterations (max_iter) or scale the data as shown in:\n",
      "    https://scikit-learn.org/stable/modules/preprocessing.html\n",
      "Please also refer to the documentation for alternative solver options:\n",
      "    https://scikit-learn.org/stable/modules/linear_model.html#logistic-regression\n",
      "  n_iter_i = _check_optimize_result(\n"
     ]
    },
    {
     "name": "stdout",
     "output_type": "stream",
     "text": [
      "72\n"
     ]
    },
    {
     "name": "stderr",
     "output_type": "stream",
     "text": [
      "C:\\Users\\sghasemi\\Anaconda3\\envs\\SMAGS\\lib\\site-packages\\sklearn\\linear_model\\_logistic.py:460: ConvergenceWarning: lbfgs failed to converge (status=1):\n",
      "STOP: TOTAL NO. of ITERATIONS REACHED LIMIT.\n",
      "\n",
      "Increase the number of iterations (max_iter) or scale the data as shown in:\n",
      "    https://scikit-learn.org/stable/modules/preprocessing.html\n",
      "Please also refer to the documentation for alternative solver options:\n",
      "    https://scikit-learn.org/stable/modules/linear_model.html#logistic-regression\n",
      "  n_iter_i = _check_optimize_result(\n",
      "C:\\Users\\sghasemi\\Anaconda3\\envs\\SMAGS\\lib\\site-packages\\sklearn\\linear_model\\_logistic.py:460: ConvergenceWarning: lbfgs failed to converge (status=1):\n",
      "STOP: TOTAL NO. of ITERATIONS REACHED LIMIT.\n",
      "\n",
      "Increase the number of iterations (max_iter) or scale the data as shown in:\n",
      "    https://scikit-learn.org/stable/modules/preprocessing.html\n",
      "Please also refer to the documentation for alternative solver options:\n",
      "    https://scikit-learn.org/stable/modules/linear_model.html#logistic-regression\n",
      "  n_iter_i = _check_optimize_result(\n"
     ]
    },
    {
     "name": "stdout",
     "output_type": "stream",
     "text": [
      "73\n"
     ]
    },
    {
     "name": "stderr",
     "output_type": "stream",
     "text": [
      "C:\\Users\\sghasemi\\Anaconda3\\envs\\SMAGS\\lib\\site-packages\\sklearn\\linear_model\\_logistic.py:460: ConvergenceWarning: lbfgs failed to converge (status=1):\n",
      "STOP: TOTAL NO. of ITERATIONS REACHED LIMIT.\n",
      "\n",
      "Increase the number of iterations (max_iter) or scale the data as shown in:\n",
      "    https://scikit-learn.org/stable/modules/preprocessing.html\n",
      "Please also refer to the documentation for alternative solver options:\n",
      "    https://scikit-learn.org/stable/modules/linear_model.html#logistic-regression\n",
      "  n_iter_i = _check_optimize_result(\n",
      "C:\\Users\\sghasemi\\Anaconda3\\envs\\SMAGS\\lib\\site-packages\\sklearn\\linear_model\\_logistic.py:460: ConvergenceWarning: lbfgs failed to converge (status=1):\n",
      "STOP: TOTAL NO. of ITERATIONS REACHED LIMIT.\n",
      "\n",
      "Increase the number of iterations (max_iter) or scale the data as shown in:\n",
      "    https://scikit-learn.org/stable/modules/preprocessing.html\n",
      "Please also refer to the documentation for alternative solver options:\n",
      "    https://scikit-learn.org/stable/modules/linear_model.html#logistic-regression\n",
      "  n_iter_i = _check_optimize_result(\n"
     ]
    },
    {
     "name": "stdout",
     "output_type": "stream",
     "text": [
      "74\n"
     ]
    },
    {
     "name": "stderr",
     "output_type": "stream",
     "text": [
      "C:\\Users\\sghasemi\\Anaconda3\\envs\\SMAGS\\lib\\site-packages\\sklearn\\linear_model\\_logistic.py:460: ConvergenceWarning: lbfgs failed to converge (status=1):\n",
      "STOP: TOTAL NO. of ITERATIONS REACHED LIMIT.\n",
      "\n",
      "Increase the number of iterations (max_iter) or scale the data as shown in:\n",
      "    https://scikit-learn.org/stable/modules/preprocessing.html\n",
      "Please also refer to the documentation for alternative solver options:\n",
      "    https://scikit-learn.org/stable/modules/linear_model.html#logistic-regression\n",
      "  n_iter_i = _check_optimize_result(\n",
      "C:\\Users\\sghasemi\\Anaconda3\\envs\\SMAGS\\lib\\site-packages\\sklearn\\linear_model\\_logistic.py:460: ConvergenceWarning: lbfgs failed to converge (status=1):\n",
      "STOP: TOTAL NO. of ITERATIONS REACHED LIMIT.\n",
      "\n",
      "Increase the number of iterations (max_iter) or scale the data as shown in:\n",
      "    https://scikit-learn.org/stable/modules/preprocessing.html\n",
      "Please also refer to the documentation for alternative solver options:\n",
      "    https://scikit-learn.org/stable/modules/linear_model.html#logistic-regression\n",
      "  n_iter_i = _check_optimize_result(\n"
     ]
    },
    {
     "name": "stdout",
     "output_type": "stream",
     "text": [
      "75\n"
     ]
    },
    {
     "name": "stderr",
     "output_type": "stream",
     "text": [
      "C:\\Users\\sghasemi\\Anaconda3\\envs\\SMAGS\\lib\\site-packages\\sklearn\\linear_model\\_logistic.py:460: ConvergenceWarning: lbfgs failed to converge (status=1):\n",
      "STOP: TOTAL NO. of ITERATIONS REACHED LIMIT.\n",
      "\n",
      "Increase the number of iterations (max_iter) or scale the data as shown in:\n",
      "    https://scikit-learn.org/stable/modules/preprocessing.html\n",
      "Please also refer to the documentation for alternative solver options:\n",
      "    https://scikit-learn.org/stable/modules/linear_model.html#logistic-regression\n",
      "  n_iter_i = _check_optimize_result(\n",
      "C:\\Users\\sghasemi\\Anaconda3\\envs\\SMAGS\\lib\\site-packages\\sklearn\\linear_model\\_logistic.py:460: ConvergenceWarning: lbfgs failed to converge (status=1):\n",
      "STOP: TOTAL NO. of ITERATIONS REACHED LIMIT.\n",
      "\n",
      "Increase the number of iterations (max_iter) or scale the data as shown in:\n",
      "    https://scikit-learn.org/stable/modules/preprocessing.html\n",
      "Please also refer to the documentation for alternative solver options:\n",
      "    https://scikit-learn.org/stable/modules/linear_model.html#logistic-regression\n",
      "  n_iter_i = _check_optimize_result(\n"
     ]
    },
    {
     "name": "stdout",
     "output_type": "stream",
     "text": [
      "76\n"
     ]
    },
    {
     "name": "stderr",
     "output_type": "stream",
     "text": [
      "C:\\Users\\sghasemi\\Anaconda3\\envs\\SMAGS\\lib\\site-packages\\sklearn\\linear_model\\_logistic.py:460: ConvergenceWarning: lbfgs failed to converge (status=1):\n",
      "STOP: TOTAL NO. of ITERATIONS REACHED LIMIT.\n",
      "\n",
      "Increase the number of iterations (max_iter) or scale the data as shown in:\n",
      "    https://scikit-learn.org/stable/modules/preprocessing.html\n",
      "Please also refer to the documentation for alternative solver options:\n",
      "    https://scikit-learn.org/stable/modules/linear_model.html#logistic-regression\n",
      "  n_iter_i = _check_optimize_result(\n",
      "C:\\Users\\sghasemi\\Anaconda3\\envs\\SMAGS\\lib\\site-packages\\sklearn\\linear_model\\_logistic.py:460: ConvergenceWarning: lbfgs failed to converge (status=1):\n",
      "STOP: TOTAL NO. of ITERATIONS REACHED LIMIT.\n",
      "\n",
      "Increase the number of iterations (max_iter) or scale the data as shown in:\n",
      "    https://scikit-learn.org/stable/modules/preprocessing.html\n",
      "Please also refer to the documentation for alternative solver options:\n",
      "    https://scikit-learn.org/stable/modules/linear_model.html#logistic-regression\n",
      "  n_iter_i = _check_optimize_result(\n"
     ]
    },
    {
     "name": "stdout",
     "output_type": "stream",
     "text": [
      "77\n"
     ]
    },
    {
     "name": "stderr",
     "output_type": "stream",
     "text": [
      "C:\\Users\\sghasemi\\Anaconda3\\envs\\SMAGS\\lib\\site-packages\\sklearn\\linear_model\\_logistic.py:460: ConvergenceWarning: lbfgs failed to converge (status=1):\n",
      "STOP: TOTAL NO. of ITERATIONS REACHED LIMIT.\n",
      "\n",
      "Increase the number of iterations (max_iter) or scale the data as shown in:\n",
      "    https://scikit-learn.org/stable/modules/preprocessing.html\n",
      "Please also refer to the documentation for alternative solver options:\n",
      "    https://scikit-learn.org/stable/modules/linear_model.html#logistic-regression\n",
      "  n_iter_i = _check_optimize_result(\n",
      "C:\\Users\\sghasemi\\Anaconda3\\envs\\SMAGS\\lib\\site-packages\\sklearn\\linear_model\\_logistic.py:460: ConvergenceWarning: lbfgs failed to converge (status=1):\n",
      "STOP: TOTAL NO. of ITERATIONS REACHED LIMIT.\n",
      "\n",
      "Increase the number of iterations (max_iter) or scale the data as shown in:\n",
      "    https://scikit-learn.org/stable/modules/preprocessing.html\n",
      "Please also refer to the documentation for alternative solver options:\n",
      "    https://scikit-learn.org/stable/modules/linear_model.html#logistic-regression\n",
      "  n_iter_i = _check_optimize_result(\n"
     ]
    },
    {
     "name": "stdout",
     "output_type": "stream",
     "text": [
      "78\n"
     ]
    },
    {
     "name": "stderr",
     "output_type": "stream",
     "text": [
      "C:\\Users\\sghasemi\\Anaconda3\\envs\\SMAGS\\lib\\site-packages\\sklearn\\linear_model\\_logistic.py:460: ConvergenceWarning: lbfgs failed to converge (status=1):\n",
      "STOP: TOTAL NO. of ITERATIONS REACHED LIMIT.\n",
      "\n",
      "Increase the number of iterations (max_iter) or scale the data as shown in:\n",
      "    https://scikit-learn.org/stable/modules/preprocessing.html\n",
      "Please also refer to the documentation for alternative solver options:\n",
      "    https://scikit-learn.org/stable/modules/linear_model.html#logistic-regression\n",
      "  n_iter_i = _check_optimize_result(\n",
      "C:\\Users\\sghasemi\\Anaconda3\\envs\\SMAGS\\lib\\site-packages\\sklearn\\linear_model\\_logistic.py:460: ConvergenceWarning: lbfgs failed to converge (status=1):\n",
      "STOP: TOTAL NO. of ITERATIONS REACHED LIMIT.\n",
      "\n",
      "Increase the number of iterations (max_iter) or scale the data as shown in:\n",
      "    https://scikit-learn.org/stable/modules/preprocessing.html\n",
      "Please also refer to the documentation for alternative solver options:\n",
      "    https://scikit-learn.org/stable/modules/linear_model.html#logistic-regression\n",
      "  n_iter_i = _check_optimize_result(\n"
     ]
    },
    {
     "name": "stdout",
     "output_type": "stream",
     "text": [
      "79\n"
     ]
    },
    {
     "name": "stderr",
     "output_type": "stream",
     "text": [
      "C:\\Users\\sghasemi\\Anaconda3\\envs\\SMAGS\\lib\\site-packages\\sklearn\\linear_model\\_logistic.py:460: ConvergenceWarning: lbfgs failed to converge (status=1):\n",
      "STOP: TOTAL NO. of ITERATIONS REACHED LIMIT.\n",
      "\n",
      "Increase the number of iterations (max_iter) or scale the data as shown in:\n",
      "    https://scikit-learn.org/stable/modules/preprocessing.html\n",
      "Please also refer to the documentation for alternative solver options:\n",
      "    https://scikit-learn.org/stable/modules/linear_model.html#logistic-regression\n",
      "  n_iter_i = _check_optimize_result(\n",
      "C:\\Users\\sghasemi\\Anaconda3\\envs\\SMAGS\\lib\\site-packages\\sklearn\\linear_model\\_logistic.py:460: ConvergenceWarning: lbfgs failed to converge (status=1):\n",
      "STOP: TOTAL NO. of ITERATIONS REACHED LIMIT.\n",
      "\n",
      "Increase the number of iterations (max_iter) or scale the data as shown in:\n",
      "    https://scikit-learn.org/stable/modules/preprocessing.html\n",
      "Please also refer to the documentation for alternative solver options:\n",
      "    https://scikit-learn.org/stable/modules/linear_model.html#logistic-regression\n",
      "  n_iter_i = _check_optimize_result(\n"
     ]
    },
    {
     "name": "stdout",
     "output_type": "stream",
     "text": [
      "80\n"
     ]
    },
    {
     "name": "stderr",
     "output_type": "stream",
     "text": [
      "C:\\Users\\sghasemi\\Anaconda3\\envs\\SMAGS\\lib\\site-packages\\sklearn\\linear_model\\_logistic.py:460: ConvergenceWarning: lbfgs failed to converge (status=1):\n",
      "STOP: TOTAL NO. of ITERATIONS REACHED LIMIT.\n",
      "\n",
      "Increase the number of iterations (max_iter) or scale the data as shown in:\n",
      "    https://scikit-learn.org/stable/modules/preprocessing.html\n",
      "Please also refer to the documentation for alternative solver options:\n",
      "    https://scikit-learn.org/stable/modules/linear_model.html#logistic-regression\n",
      "  n_iter_i = _check_optimize_result(\n",
      "C:\\Users\\sghasemi\\Anaconda3\\envs\\SMAGS\\lib\\site-packages\\sklearn\\linear_model\\_logistic.py:460: ConvergenceWarning: lbfgs failed to converge (status=1):\n",
      "STOP: TOTAL NO. of ITERATIONS REACHED LIMIT.\n",
      "\n",
      "Increase the number of iterations (max_iter) or scale the data as shown in:\n",
      "    https://scikit-learn.org/stable/modules/preprocessing.html\n",
      "Please also refer to the documentation for alternative solver options:\n",
      "    https://scikit-learn.org/stable/modules/linear_model.html#logistic-regression\n",
      "  n_iter_i = _check_optimize_result(\n"
     ]
    },
    {
     "name": "stdout",
     "output_type": "stream",
     "text": [
      "81\n"
     ]
    },
    {
     "name": "stderr",
     "output_type": "stream",
     "text": [
      "C:\\Users\\sghasemi\\Anaconda3\\envs\\SMAGS\\lib\\site-packages\\sklearn\\linear_model\\_logistic.py:460: ConvergenceWarning: lbfgs failed to converge (status=1):\n",
      "STOP: TOTAL NO. of ITERATIONS REACHED LIMIT.\n",
      "\n",
      "Increase the number of iterations (max_iter) or scale the data as shown in:\n",
      "    https://scikit-learn.org/stable/modules/preprocessing.html\n",
      "Please also refer to the documentation for alternative solver options:\n",
      "    https://scikit-learn.org/stable/modules/linear_model.html#logistic-regression\n",
      "  n_iter_i = _check_optimize_result(\n",
      "C:\\Users\\sghasemi\\Anaconda3\\envs\\SMAGS\\lib\\site-packages\\sklearn\\linear_model\\_logistic.py:460: ConvergenceWarning: lbfgs failed to converge (status=1):\n",
      "STOP: TOTAL NO. of ITERATIONS REACHED LIMIT.\n",
      "\n",
      "Increase the number of iterations (max_iter) or scale the data as shown in:\n",
      "    https://scikit-learn.org/stable/modules/preprocessing.html\n",
      "Please also refer to the documentation for alternative solver options:\n",
      "    https://scikit-learn.org/stable/modules/linear_model.html#logistic-regression\n",
      "  n_iter_i = _check_optimize_result(\n"
     ]
    },
    {
     "name": "stdout",
     "output_type": "stream",
     "text": [
      "82\n"
     ]
    },
    {
     "name": "stderr",
     "output_type": "stream",
     "text": [
      "C:\\Users\\sghasemi\\Anaconda3\\envs\\SMAGS\\lib\\site-packages\\sklearn\\linear_model\\_logistic.py:460: ConvergenceWarning: lbfgs failed to converge (status=1):\n",
      "STOP: TOTAL NO. of ITERATIONS REACHED LIMIT.\n",
      "\n",
      "Increase the number of iterations (max_iter) or scale the data as shown in:\n",
      "    https://scikit-learn.org/stable/modules/preprocessing.html\n",
      "Please also refer to the documentation for alternative solver options:\n",
      "    https://scikit-learn.org/stable/modules/linear_model.html#logistic-regression\n",
      "  n_iter_i = _check_optimize_result(\n",
      "C:\\Users\\sghasemi\\Anaconda3\\envs\\SMAGS\\lib\\site-packages\\sklearn\\linear_model\\_logistic.py:460: ConvergenceWarning: lbfgs failed to converge (status=1):\n",
      "STOP: TOTAL NO. of ITERATIONS REACHED LIMIT.\n",
      "\n",
      "Increase the number of iterations (max_iter) or scale the data as shown in:\n",
      "    https://scikit-learn.org/stable/modules/preprocessing.html\n",
      "Please also refer to the documentation for alternative solver options:\n",
      "    https://scikit-learn.org/stable/modules/linear_model.html#logistic-regression\n",
      "  n_iter_i = _check_optimize_result(\n"
     ]
    },
    {
     "name": "stdout",
     "output_type": "stream",
     "text": [
      "83\n"
     ]
    },
    {
     "name": "stderr",
     "output_type": "stream",
     "text": [
      "C:\\Users\\sghasemi\\Anaconda3\\envs\\SMAGS\\lib\\site-packages\\sklearn\\linear_model\\_logistic.py:460: ConvergenceWarning: lbfgs failed to converge (status=1):\n",
      "STOP: TOTAL NO. of ITERATIONS REACHED LIMIT.\n",
      "\n",
      "Increase the number of iterations (max_iter) or scale the data as shown in:\n",
      "    https://scikit-learn.org/stable/modules/preprocessing.html\n",
      "Please also refer to the documentation for alternative solver options:\n",
      "    https://scikit-learn.org/stable/modules/linear_model.html#logistic-regression\n",
      "  n_iter_i = _check_optimize_result(\n",
      "C:\\Users\\sghasemi\\Anaconda3\\envs\\SMAGS\\lib\\site-packages\\sklearn\\linear_model\\_logistic.py:460: ConvergenceWarning: lbfgs failed to converge (status=1):\n",
      "STOP: TOTAL NO. of ITERATIONS REACHED LIMIT.\n",
      "\n",
      "Increase the number of iterations (max_iter) or scale the data as shown in:\n",
      "    https://scikit-learn.org/stable/modules/preprocessing.html\n",
      "Please also refer to the documentation for alternative solver options:\n",
      "    https://scikit-learn.org/stable/modules/linear_model.html#logistic-regression\n",
      "  n_iter_i = _check_optimize_result(\n"
     ]
    },
    {
     "name": "stdout",
     "output_type": "stream",
     "text": [
      "84\n"
     ]
    },
    {
     "name": "stderr",
     "output_type": "stream",
     "text": [
      "C:\\Users\\sghasemi\\Anaconda3\\envs\\SMAGS\\lib\\site-packages\\sklearn\\linear_model\\_logistic.py:460: ConvergenceWarning: lbfgs failed to converge (status=1):\n",
      "STOP: TOTAL NO. of ITERATIONS REACHED LIMIT.\n",
      "\n",
      "Increase the number of iterations (max_iter) or scale the data as shown in:\n",
      "    https://scikit-learn.org/stable/modules/preprocessing.html\n",
      "Please also refer to the documentation for alternative solver options:\n",
      "    https://scikit-learn.org/stable/modules/linear_model.html#logistic-regression\n",
      "  n_iter_i = _check_optimize_result(\n",
      "C:\\Users\\sghasemi\\Anaconda3\\envs\\SMAGS\\lib\\site-packages\\sklearn\\linear_model\\_logistic.py:460: ConvergenceWarning: lbfgs failed to converge (status=1):\n",
      "STOP: TOTAL NO. of ITERATIONS REACHED LIMIT.\n",
      "\n",
      "Increase the number of iterations (max_iter) or scale the data as shown in:\n",
      "    https://scikit-learn.org/stable/modules/preprocessing.html\n",
      "Please also refer to the documentation for alternative solver options:\n",
      "    https://scikit-learn.org/stable/modules/linear_model.html#logistic-regression\n",
      "  n_iter_i = _check_optimize_result(\n"
     ]
    },
    {
     "name": "stdout",
     "output_type": "stream",
     "text": [
      "85\n"
     ]
    },
    {
     "name": "stderr",
     "output_type": "stream",
     "text": [
      "C:\\Users\\sghasemi\\Anaconda3\\envs\\SMAGS\\lib\\site-packages\\sklearn\\linear_model\\_logistic.py:460: ConvergenceWarning: lbfgs failed to converge (status=1):\n",
      "STOP: TOTAL NO. of ITERATIONS REACHED LIMIT.\n",
      "\n",
      "Increase the number of iterations (max_iter) or scale the data as shown in:\n",
      "    https://scikit-learn.org/stable/modules/preprocessing.html\n",
      "Please also refer to the documentation for alternative solver options:\n",
      "    https://scikit-learn.org/stable/modules/linear_model.html#logistic-regression\n",
      "  n_iter_i = _check_optimize_result(\n",
      "C:\\Users\\sghasemi\\Anaconda3\\envs\\SMAGS\\lib\\site-packages\\sklearn\\linear_model\\_logistic.py:460: ConvergenceWarning: lbfgs failed to converge (status=1):\n",
      "STOP: TOTAL NO. of ITERATIONS REACHED LIMIT.\n",
      "\n",
      "Increase the number of iterations (max_iter) or scale the data as shown in:\n",
      "    https://scikit-learn.org/stable/modules/preprocessing.html\n",
      "Please also refer to the documentation for alternative solver options:\n",
      "    https://scikit-learn.org/stable/modules/linear_model.html#logistic-regression\n",
      "  n_iter_i = _check_optimize_result(\n"
     ]
    },
    {
     "name": "stdout",
     "output_type": "stream",
     "text": [
      "86\n"
     ]
    },
    {
     "name": "stderr",
     "output_type": "stream",
     "text": [
      "C:\\Users\\sghasemi\\Anaconda3\\envs\\SMAGS\\lib\\site-packages\\sklearn\\linear_model\\_logistic.py:460: ConvergenceWarning: lbfgs failed to converge (status=1):\n",
      "STOP: TOTAL NO. of ITERATIONS REACHED LIMIT.\n",
      "\n",
      "Increase the number of iterations (max_iter) or scale the data as shown in:\n",
      "    https://scikit-learn.org/stable/modules/preprocessing.html\n",
      "Please also refer to the documentation for alternative solver options:\n",
      "    https://scikit-learn.org/stable/modules/linear_model.html#logistic-regression\n",
      "  n_iter_i = _check_optimize_result(\n",
      "C:\\Users\\sghasemi\\Anaconda3\\envs\\SMAGS\\lib\\site-packages\\sklearn\\linear_model\\_logistic.py:460: ConvergenceWarning: lbfgs failed to converge (status=1):\n",
      "STOP: TOTAL NO. of ITERATIONS REACHED LIMIT.\n",
      "\n",
      "Increase the number of iterations (max_iter) or scale the data as shown in:\n",
      "    https://scikit-learn.org/stable/modules/preprocessing.html\n",
      "Please also refer to the documentation for alternative solver options:\n",
      "    https://scikit-learn.org/stable/modules/linear_model.html#logistic-regression\n",
      "  n_iter_i = _check_optimize_result(\n"
     ]
    },
    {
     "name": "stdout",
     "output_type": "stream",
     "text": [
      "87\n"
     ]
    },
    {
     "name": "stderr",
     "output_type": "stream",
     "text": [
      "C:\\Users\\sghasemi\\Anaconda3\\envs\\SMAGS\\lib\\site-packages\\sklearn\\linear_model\\_logistic.py:460: ConvergenceWarning: lbfgs failed to converge (status=1):\n",
      "STOP: TOTAL NO. of ITERATIONS REACHED LIMIT.\n",
      "\n",
      "Increase the number of iterations (max_iter) or scale the data as shown in:\n",
      "    https://scikit-learn.org/stable/modules/preprocessing.html\n",
      "Please also refer to the documentation for alternative solver options:\n",
      "    https://scikit-learn.org/stable/modules/linear_model.html#logistic-regression\n",
      "  n_iter_i = _check_optimize_result(\n",
      "C:\\Users\\sghasemi\\Anaconda3\\envs\\SMAGS\\lib\\site-packages\\sklearn\\linear_model\\_logistic.py:460: ConvergenceWarning: lbfgs failed to converge (status=1):\n",
      "STOP: TOTAL NO. of ITERATIONS REACHED LIMIT.\n",
      "\n",
      "Increase the number of iterations (max_iter) or scale the data as shown in:\n",
      "    https://scikit-learn.org/stable/modules/preprocessing.html\n",
      "Please also refer to the documentation for alternative solver options:\n",
      "    https://scikit-learn.org/stable/modules/linear_model.html#logistic-regression\n",
      "  n_iter_i = _check_optimize_result(\n"
     ]
    },
    {
     "name": "stdout",
     "output_type": "stream",
     "text": [
      "88\n"
     ]
    },
    {
     "name": "stderr",
     "output_type": "stream",
     "text": [
      "C:\\Users\\sghasemi\\Anaconda3\\envs\\SMAGS\\lib\\site-packages\\sklearn\\linear_model\\_logistic.py:460: ConvergenceWarning: lbfgs failed to converge (status=1):\n",
      "STOP: TOTAL NO. of ITERATIONS REACHED LIMIT.\n",
      "\n",
      "Increase the number of iterations (max_iter) or scale the data as shown in:\n",
      "    https://scikit-learn.org/stable/modules/preprocessing.html\n",
      "Please also refer to the documentation for alternative solver options:\n",
      "    https://scikit-learn.org/stable/modules/linear_model.html#logistic-regression\n",
      "  n_iter_i = _check_optimize_result(\n",
      "C:\\Users\\sghasemi\\Anaconda3\\envs\\SMAGS\\lib\\site-packages\\sklearn\\linear_model\\_logistic.py:460: ConvergenceWarning: lbfgs failed to converge (status=1):\n",
      "STOP: TOTAL NO. of ITERATIONS REACHED LIMIT.\n",
      "\n",
      "Increase the number of iterations (max_iter) or scale the data as shown in:\n",
      "    https://scikit-learn.org/stable/modules/preprocessing.html\n",
      "Please also refer to the documentation for alternative solver options:\n",
      "    https://scikit-learn.org/stable/modules/linear_model.html#logistic-regression\n",
      "  n_iter_i = _check_optimize_result(\n"
     ]
    },
    {
     "name": "stdout",
     "output_type": "stream",
     "text": [
      "89\n"
     ]
    },
    {
     "name": "stderr",
     "output_type": "stream",
     "text": [
      "C:\\Users\\sghasemi\\Anaconda3\\envs\\SMAGS\\lib\\site-packages\\sklearn\\linear_model\\_logistic.py:460: ConvergenceWarning: lbfgs failed to converge (status=1):\n",
      "STOP: TOTAL NO. of ITERATIONS REACHED LIMIT.\n",
      "\n",
      "Increase the number of iterations (max_iter) or scale the data as shown in:\n",
      "    https://scikit-learn.org/stable/modules/preprocessing.html\n",
      "Please also refer to the documentation for alternative solver options:\n",
      "    https://scikit-learn.org/stable/modules/linear_model.html#logistic-regression\n",
      "  n_iter_i = _check_optimize_result(\n",
      "C:\\Users\\sghasemi\\Anaconda3\\envs\\SMAGS\\lib\\site-packages\\sklearn\\linear_model\\_logistic.py:460: ConvergenceWarning: lbfgs failed to converge (status=1):\n",
      "STOP: TOTAL NO. of ITERATIONS REACHED LIMIT.\n",
      "\n",
      "Increase the number of iterations (max_iter) or scale the data as shown in:\n",
      "    https://scikit-learn.org/stable/modules/preprocessing.html\n",
      "Please also refer to the documentation for alternative solver options:\n",
      "    https://scikit-learn.org/stable/modules/linear_model.html#logistic-regression\n",
      "  n_iter_i = _check_optimize_result(\n"
     ]
    },
    {
     "name": "stdout",
     "output_type": "stream",
     "text": [
      "90\n"
     ]
    },
    {
     "name": "stderr",
     "output_type": "stream",
     "text": [
      "C:\\Users\\sghasemi\\Anaconda3\\envs\\SMAGS\\lib\\site-packages\\sklearn\\linear_model\\_logistic.py:460: ConvergenceWarning: lbfgs failed to converge (status=1):\n",
      "STOP: TOTAL NO. of ITERATIONS REACHED LIMIT.\n",
      "\n",
      "Increase the number of iterations (max_iter) or scale the data as shown in:\n",
      "    https://scikit-learn.org/stable/modules/preprocessing.html\n",
      "Please also refer to the documentation for alternative solver options:\n",
      "    https://scikit-learn.org/stable/modules/linear_model.html#logistic-regression\n",
      "  n_iter_i = _check_optimize_result(\n",
      "C:\\Users\\sghasemi\\Anaconda3\\envs\\SMAGS\\lib\\site-packages\\sklearn\\linear_model\\_logistic.py:460: ConvergenceWarning: lbfgs failed to converge (status=1):\n",
      "STOP: TOTAL NO. of ITERATIONS REACHED LIMIT.\n",
      "\n",
      "Increase the number of iterations (max_iter) or scale the data as shown in:\n",
      "    https://scikit-learn.org/stable/modules/preprocessing.html\n",
      "Please also refer to the documentation for alternative solver options:\n",
      "    https://scikit-learn.org/stable/modules/linear_model.html#logistic-regression\n",
      "  n_iter_i = _check_optimize_result(\n"
     ]
    },
    {
     "name": "stdout",
     "output_type": "stream",
     "text": [
      "91\n"
     ]
    },
    {
     "name": "stderr",
     "output_type": "stream",
     "text": [
      "C:\\Users\\sghasemi\\Anaconda3\\envs\\SMAGS\\lib\\site-packages\\sklearn\\linear_model\\_logistic.py:460: ConvergenceWarning: lbfgs failed to converge (status=1):\n",
      "STOP: TOTAL NO. of ITERATIONS REACHED LIMIT.\n",
      "\n",
      "Increase the number of iterations (max_iter) or scale the data as shown in:\n",
      "    https://scikit-learn.org/stable/modules/preprocessing.html\n",
      "Please also refer to the documentation for alternative solver options:\n",
      "    https://scikit-learn.org/stable/modules/linear_model.html#logistic-regression\n",
      "  n_iter_i = _check_optimize_result(\n",
      "C:\\Users\\sghasemi\\Anaconda3\\envs\\SMAGS\\lib\\site-packages\\sklearn\\linear_model\\_logistic.py:460: ConvergenceWarning: lbfgs failed to converge (status=1):\n",
      "STOP: TOTAL NO. of ITERATIONS REACHED LIMIT.\n",
      "\n",
      "Increase the number of iterations (max_iter) or scale the data as shown in:\n",
      "    https://scikit-learn.org/stable/modules/preprocessing.html\n",
      "Please also refer to the documentation for alternative solver options:\n",
      "    https://scikit-learn.org/stable/modules/linear_model.html#logistic-regression\n",
      "  n_iter_i = _check_optimize_result(\n"
     ]
    },
    {
     "name": "stdout",
     "output_type": "stream",
     "text": [
      "92\n"
     ]
    },
    {
     "name": "stderr",
     "output_type": "stream",
     "text": [
      "C:\\Users\\sghasemi\\Anaconda3\\envs\\SMAGS\\lib\\site-packages\\sklearn\\linear_model\\_logistic.py:460: ConvergenceWarning: lbfgs failed to converge (status=1):\n",
      "STOP: TOTAL NO. of ITERATIONS REACHED LIMIT.\n",
      "\n",
      "Increase the number of iterations (max_iter) or scale the data as shown in:\n",
      "    https://scikit-learn.org/stable/modules/preprocessing.html\n",
      "Please also refer to the documentation for alternative solver options:\n",
      "    https://scikit-learn.org/stable/modules/linear_model.html#logistic-regression\n",
      "  n_iter_i = _check_optimize_result(\n",
      "C:\\Users\\sghasemi\\Anaconda3\\envs\\SMAGS\\lib\\site-packages\\sklearn\\linear_model\\_logistic.py:460: ConvergenceWarning: lbfgs failed to converge (status=1):\n",
      "STOP: TOTAL NO. of ITERATIONS REACHED LIMIT.\n",
      "\n",
      "Increase the number of iterations (max_iter) or scale the data as shown in:\n",
      "    https://scikit-learn.org/stable/modules/preprocessing.html\n",
      "Please also refer to the documentation for alternative solver options:\n",
      "    https://scikit-learn.org/stable/modules/linear_model.html#logistic-regression\n",
      "  n_iter_i = _check_optimize_result(\n"
     ]
    },
    {
     "name": "stdout",
     "output_type": "stream",
     "text": [
      "93\n"
     ]
    },
    {
     "name": "stderr",
     "output_type": "stream",
     "text": [
      "C:\\Users\\sghasemi\\Anaconda3\\envs\\SMAGS\\lib\\site-packages\\sklearn\\linear_model\\_logistic.py:460: ConvergenceWarning: lbfgs failed to converge (status=1):\n",
      "STOP: TOTAL NO. of ITERATIONS REACHED LIMIT.\n",
      "\n",
      "Increase the number of iterations (max_iter) or scale the data as shown in:\n",
      "    https://scikit-learn.org/stable/modules/preprocessing.html\n",
      "Please also refer to the documentation for alternative solver options:\n",
      "    https://scikit-learn.org/stable/modules/linear_model.html#logistic-regression\n",
      "  n_iter_i = _check_optimize_result(\n",
      "C:\\Users\\sghasemi\\Anaconda3\\envs\\SMAGS\\lib\\site-packages\\sklearn\\linear_model\\_logistic.py:460: ConvergenceWarning: lbfgs failed to converge (status=1):\n",
      "STOP: TOTAL NO. of ITERATIONS REACHED LIMIT.\n",
      "\n",
      "Increase the number of iterations (max_iter) or scale the data as shown in:\n",
      "    https://scikit-learn.org/stable/modules/preprocessing.html\n",
      "Please also refer to the documentation for alternative solver options:\n",
      "    https://scikit-learn.org/stable/modules/linear_model.html#logistic-regression\n",
      "  n_iter_i = _check_optimize_result(\n"
     ]
    },
    {
     "name": "stdout",
     "output_type": "stream",
     "text": [
      "94\n"
     ]
    },
    {
     "name": "stderr",
     "output_type": "stream",
     "text": [
      "C:\\Users\\sghasemi\\Anaconda3\\envs\\SMAGS\\lib\\site-packages\\sklearn\\linear_model\\_logistic.py:460: ConvergenceWarning: lbfgs failed to converge (status=1):\n",
      "STOP: TOTAL NO. of ITERATIONS REACHED LIMIT.\n",
      "\n",
      "Increase the number of iterations (max_iter) or scale the data as shown in:\n",
      "    https://scikit-learn.org/stable/modules/preprocessing.html\n",
      "Please also refer to the documentation for alternative solver options:\n",
      "    https://scikit-learn.org/stable/modules/linear_model.html#logistic-regression\n",
      "  n_iter_i = _check_optimize_result(\n",
      "C:\\Users\\sghasemi\\Anaconda3\\envs\\SMAGS\\lib\\site-packages\\sklearn\\linear_model\\_logistic.py:460: ConvergenceWarning: lbfgs failed to converge (status=1):\n",
      "STOP: TOTAL NO. of ITERATIONS REACHED LIMIT.\n",
      "\n",
      "Increase the number of iterations (max_iter) or scale the data as shown in:\n",
      "    https://scikit-learn.org/stable/modules/preprocessing.html\n",
      "Please also refer to the documentation for alternative solver options:\n",
      "    https://scikit-learn.org/stable/modules/linear_model.html#logistic-regression\n",
      "  n_iter_i = _check_optimize_result(\n"
     ]
    },
    {
     "name": "stdout",
     "output_type": "stream",
     "text": [
      "95\n"
     ]
    },
    {
     "name": "stderr",
     "output_type": "stream",
     "text": [
      "C:\\Users\\sghasemi\\Anaconda3\\envs\\SMAGS\\lib\\site-packages\\sklearn\\linear_model\\_logistic.py:460: ConvergenceWarning: lbfgs failed to converge (status=1):\n",
      "STOP: TOTAL NO. of ITERATIONS REACHED LIMIT.\n",
      "\n",
      "Increase the number of iterations (max_iter) or scale the data as shown in:\n",
      "    https://scikit-learn.org/stable/modules/preprocessing.html\n",
      "Please also refer to the documentation for alternative solver options:\n",
      "    https://scikit-learn.org/stable/modules/linear_model.html#logistic-regression\n",
      "  n_iter_i = _check_optimize_result(\n",
      "C:\\Users\\sghasemi\\Anaconda3\\envs\\SMAGS\\lib\\site-packages\\sklearn\\linear_model\\_logistic.py:460: ConvergenceWarning: lbfgs failed to converge (status=1):\n",
      "STOP: TOTAL NO. of ITERATIONS REACHED LIMIT.\n",
      "\n",
      "Increase the number of iterations (max_iter) or scale the data as shown in:\n",
      "    https://scikit-learn.org/stable/modules/preprocessing.html\n",
      "Please also refer to the documentation for alternative solver options:\n",
      "    https://scikit-learn.org/stable/modules/linear_model.html#logistic-regression\n",
      "  n_iter_i = _check_optimize_result(\n"
     ]
    },
    {
     "name": "stdout",
     "output_type": "stream",
     "text": [
      "96\n"
     ]
    },
    {
     "name": "stderr",
     "output_type": "stream",
     "text": [
      "C:\\Users\\sghasemi\\Anaconda3\\envs\\SMAGS\\lib\\site-packages\\sklearn\\linear_model\\_logistic.py:460: ConvergenceWarning: lbfgs failed to converge (status=1):\n",
      "STOP: TOTAL NO. of ITERATIONS REACHED LIMIT.\n",
      "\n",
      "Increase the number of iterations (max_iter) or scale the data as shown in:\n",
      "    https://scikit-learn.org/stable/modules/preprocessing.html\n",
      "Please also refer to the documentation for alternative solver options:\n",
      "    https://scikit-learn.org/stable/modules/linear_model.html#logistic-regression\n",
      "  n_iter_i = _check_optimize_result(\n",
      "C:\\Users\\sghasemi\\Anaconda3\\envs\\SMAGS\\lib\\site-packages\\sklearn\\linear_model\\_logistic.py:460: ConvergenceWarning: lbfgs failed to converge (status=1):\n",
      "STOP: TOTAL NO. of ITERATIONS REACHED LIMIT.\n",
      "\n",
      "Increase the number of iterations (max_iter) or scale the data as shown in:\n",
      "    https://scikit-learn.org/stable/modules/preprocessing.html\n",
      "Please also refer to the documentation for alternative solver options:\n",
      "    https://scikit-learn.org/stable/modules/linear_model.html#logistic-regression\n",
      "  n_iter_i = _check_optimize_result(\n"
     ]
    },
    {
     "name": "stdout",
     "output_type": "stream",
     "text": [
      "97\n"
     ]
    },
    {
     "name": "stderr",
     "output_type": "stream",
     "text": [
      "C:\\Users\\sghasemi\\Anaconda3\\envs\\SMAGS\\lib\\site-packages\\sklearn\\linear_model\\_logistic.py:460: ConvergenceWarning: lbfgs failed to converge (status=1):\n",
      "STOP: TOTAL NO. of ITERATIONS REACHED LIMIT.\n",
      "\n",
      "Increase the number of iterations (max_iter) or scale the data as shown in:\n",
      "    https://scikit-learn.org/stable/modules/preprocessing.html\n",
      "Please also refer to the documentation for alternative solver options:\n",
      "    https://scikit-learn.org/stable/modules/linear_model.html#logistic-regression\n",
      "  n_iter_i = _check_optimize_result(\n",
      "C:\\Users\\sghasemi\\Anaconda3\\envs\\SMAGS\\lib\\site-packages\\sklearn\\linear_model\\_logistic.py:460: ConvergenceWarning: lbfgs failed to converge (status=1):\n",
      "STOP: TOTAL NO. of ITERATIONS REACHED LIMIT.\n",
      "\n",
      "Increase the number of iterations (max_iter) or scale the data as shown in:\n",
      "    https://scikit-learn.org/stable/modules/preprocessing.html\n",
      "Please also refer to the documentation for alternative solver options:\n",
      "    https://scikit-learn.org/stable/modules/linear_model.html#logistic-regression\n",
      "  n_iter_i = _check_optimize_result(\n"
     ]
    },
    {
     "name": "stdout",
     "output_type": "stream",
     "text": [
      "98\n"
     ]
    },
    {
     "name": "stderr",
     "output_type": "stream",
     "text": [
      "C:\\Users\\sghasemi\\Anaconda3\\envs\\SMAGS\\lib\\site-packages\\sklearn\\linear_model\\_logistic.py:460: ConvergenceWarning: lbfgs failed to converge (status=1):\n",
      "STOP: TOTAL NO. of ITERATIONS REACHED LIMIT.\n",
      "\n",
      "Increase the number of iterations (max_iter) or scale the data as shown in:\n",
      "    https://scikit-learn.org/stable/modules/preprocessing.html\n",
      "Please also refer to the documentation for alternative solver options:\n",
      "    https://scikit-learn.org/stable/modules/linear_model.html#logistic-regression\n",
      "  n_iter_i = _check_optimize_result(\n",
      "C:\\Users\\sghasemi\\Anaconda3\\envs\\SMAGS\\lib\\site-packages\\sklearn\\linear_model\\_logistic.py:460: ConvergenceWarning: lbfgs failed to converge (status=1):\n",
      "STOP: TOTAL NO. of ITERATIONS REACHED LIMIT.\n",
      "\n",
      "Increase the number of iterations (max_iter) or scale the data as shown in:\n",
      "    https://scikit-learn.org/stable/modules/preprocessing.html\n",
      "Please also refer to the documentation for alternative solver options:\n",
      "    https://scikit-learn.org/stable/modules/linear_model.html#logistic-regression\n",
      "  n_iter_i = _check_optimize_result(\n"
     ]
    },
    {
     "name": "stdout",
     "output_type": "stream",
     "text": [
      "99\n"
     ]
    }
   ],
   "source": [
    "# Initialization\n",
    "n_iterations = 100\n",
    "SP9 = 0.9  # Specificity level\n",
    "# colors = ['blue', 'green', 'red', 'cyan', 'orange', 'magenta']\n",
    "\n",
    "# Create lists to store FPR, TPR for Logistic Regression and SMAGS\n",
    "fpr_list_log = []\n",
    "tpr_list_log = []\n",
    "fpr_list_smags = []\n",
    "tpr_list_smags = []\n",
    "\n",
    "for i in range(n_iterations):\n",
    "    # Split data into training and testing sets\n",
    "    X_train, X_test, y_train, y_test = train_test_split(X, y, random_state=i, test_size=0.2, shuffle=True)\n",
    "\n",
    "    # Train Logistic Regression model\n",
    "    log = LogisticRegression(random_state=i).fit(X_train, y_train)\n",
    "    \n",
    "    # Predictions and ROC for Logistic Regression\n",
    "    y_probs_log = log.predict_proba(X_test)[:, 1]\n",
    "    fpr_log, tpr_log, _ = roc_curve(y_test, y_probs_log)\n",
    "    \n",
    "    # Append FPR and TPR for each iteration\n",
    "    tpr_list_log.append(tpr_log)  # Interpolation to align FPRs\n",
    "    fpr_list_log.append(fpr_log)  # Interpolation to align FPRs\n",
    "\n",
    "    # SMAGS implementation (replace with your function)\n",
    "    A9 = SMAGS(X_train, y_train, SP9)  # Assuming SMAGS returns coefficients\n",
    "    y_probs_smags = np.matmul(np.array((X_test).assign(I=1)), np.array(A9[:X.shape[1] + 1]))\n",
    "    fpr_smags, tpr_smags, _ = roc_curve(y_test, y_probs_smags)\n",
    "\n",
    "    # Append FPR and TPR for SMAGS\n",
    "    fpr_list_smags.append(fpr_smags)\n",
    "    tpr_list_smags.append(tpr_smags)\n",
    "    print(i)"
   ]
  },
  {
   "cell_type": "code",
   "execution_count": 40,
   "id": "5019b44d-c377-4aa3-9a3d-7ba918d83b9f",
   "metadata": {},
   "outputs": [
    {
     "data": {
      "image/png": "[encoded data removed]",
      "text/plain": [
       "<Figure size 640x480 with 1 Axes>"
      ]
     },
     "metadata": {},
     "output_type": "display_data"
    }
   ],
   "source": [
    "# Convert lists to arrays for easier manipulation\n",
    "fpr_list_log = pd.DataFrame(fpr_list_log)\n",
    "tpr_list_log = pd.DataFrame(tpr_list_log)\n",
    "fpr_list_smags = pd.DataFrame(fpr_list_smags)\n",
    "tpr_list_smags = pd.DataFrame(tpr_list_smags)\n",
    "\n",
    "# Calculate mean and standard deviation for TPR\n",
    "mean_tpr_log = np.array(tpr_list_log.mean())\n",
    "std_tpr_log = np.array(tpr_list_log.std())\n",
    "\n",
    "mean_fpr_log = np.array(fpr_list_log.mean())\n",
    "std_fpr_log = np.array(fpr_list_log.std())\n",
    "\n",
    "mean_tpr_smags = np.array(tpr_list_smags.mean())\n",
    "std_tpr_smags = np.array(tpr_list_smags.std())\n",
    "\n",
    "mean_fpr_smags = np.array(fpr_list_smags.mean())\n",
    "std_fpr_smags = np.array(fpr_list_smags.std())\n",
    "\n",
    "# Plot ROC curve for Logistic Regression\n",
    "plt.plot(mean_fpr_log, mean_tpr_log, color='blue', label='LR - Sensitivity = %0.2f' % mean_tpr_log[np.argmin((1 - mean_fpr_log) > 0.90)])\n",
    "plt.fill_between(mean_fpr_log, mean_tpr_log - std_tpr_log, mean_tpr_log + std_tpr_log, color='blue', alpha=0.2)\n",
    "\n",
    "# Plot ROC curve for SMAGS\n",
    "plt.plot(mean_fpr_smags, mean_tpr_smags, color='red', label='SMAGS - Sensitivity = %0.2f' % mean_tpr_smags[np.argmin((1 - mean_fpr_smags) > 0.90)])\n",
    "plt.fill_between(mean_fpr_smags, mean_tpr_smags - std_tpr_smags, mean_tpr_smags + std_tpr_smags, color='red', alpha=0.2)\n",
    "\n",
    "# Final plot settings\n",
    "plt.legend(title='ROC Curve with 95% CI - Specificity 90%')\n",
    "plt.title(\"Receiver Operating Characteristic (ROC)\")\n",
    "plt.ylabel('True Positive Rate')\n",
    "plt.xlabel('False Positive Rate')\n",
    "plt.savefig('SM F7.png')\n",
    "plt.show()"
   ]
  },
  {
   "cell_type": "code",
   "execution_count": null,
   "id": "6e03cf0e-28b4-4a2b-a4fe-2c120d1f0bb1",
   "metadata": {},
   "outputs": [],
   "source": []
  }
 ],
 "metadata": {
  "kernelspec": {
   "display_name": "Python 3 (ipykernel)",
   "language": "python",
   "name": "python3"
  },
  "language_info": {
   "codemirror_mode": {
    "name": "ipython",
    "version": 3
   },
   "file_extension": ".py",
   "mimetype": "text/x-python",
   "name": "python",
   "nbconvert_exporter": "python",
   "pygments_lexer": "ipython3",
   "version": "3.9.19"
  }
 },
 "nbformat": 4,
 "nbformat_minor": 5
}
